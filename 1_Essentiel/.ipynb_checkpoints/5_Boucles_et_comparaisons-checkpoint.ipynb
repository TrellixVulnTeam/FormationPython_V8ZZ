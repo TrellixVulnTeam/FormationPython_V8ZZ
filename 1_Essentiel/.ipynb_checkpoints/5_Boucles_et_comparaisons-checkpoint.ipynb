{
 "cells": [
  {
   "cell_type": "markdown",
   "metadata": {},
   "source": [
    "<hr size=\"4\" color=\"blue\">\n",
    "<p style=\"text-align: center;\"><span style=\"color: #0000ff;\"><font size=\"+5\"><strong> 5 Boucles et comparaisons </strong> </font></span> </p>\n",
    "<hr size=\"4\" color=\"blue\">"
   ]
  },
  {
   "cell_type": "markdown",
   "metadata": {},
   "source": [
    "<div style=\"border: 2px solid #FB1815; padding: 3px; background-color: #FCAFAE; -moz-border-radius-topleft: 5px; -moz-border-radius-topright: 5px; -moz-border-radius-bottomright: 5px; -moz-border-radius-bottomleft: 5px;\">\n",
    "On est souvent amené à répéter plusieurs fois une instruction. \n",
    "Incontournables à tout langage de programmation, les boucles vont nous aider à réaliser cette tâche de manière compacte et efficace."
   ]
  },
  {
   "cell_type": "markdown",
   "metadata": {},
   "source": [
    "##  <span style=\"color: #0000ff;\"><font size=\"+2\"><strong>5.1 Boucles for</strong> </font> </span>\n",
    " "
   ]
  },
  {
   "cell_type": "markdown",
   "metadata": {},
   "source": [
    "###  <span style=\"color: #0000ff;\"><font size=\"+1\"><strong>5.1.1 Principe</strong> </font> </span>"
   ]
  },
  {
   "cell_type": "markdown",
   "metadata": {},
   "source": [
    "Par exemple, vous souhaitiez afficher les éléments d'une liste les uns après les autres. \n",
    "Dans l'état actuel de vos connaissances, il faudrait taper quelque chose du style :"
   ]
  },
  {
   "cell_type": "code",
   "execution_count": 1,
   "metadata": {},
   "outputs": [
    {
     "name": "stdout",
     "output_type": "stream",
     "text": [
      "girafe\n",
      "tigre\n",
      "singe\n",
      "souris\n"
     ]
    }
   ],
   "source": [
    "animaux = ['girafe', 'tigre', 'singe', 'souris']\n",
    "print(animaux[0])\n",
    "print(animaux[1])\n",
    "print(animaux[2])\n",
    "print(animaux[3])"
   ]
  },
  {
   "cell_type": "markdown",
   "metadata": {},
   "source": [
    "Si votre liste ne contient que 4 éléments, ceci est encore faisable mais imaginez qu'elle en contienne 100 voire 1000 ! Pour remédier à cela, il faut utiliser les boucles. Regardez l'exemple suivant :"
   ]
  },
  {
   "cell_type": "code",
   "execution_count": 2,
   "metadata": {},
   "outputs": [
    {
     "name": "stdout",
     "output_type": "stream",
     "text": [
      "girafe\n",
      "tigre\n",
      "singe\n",
      "souris\n"
     ]
    }
   ],
   "source": [
    "animaux = ['girafe', 'tigre', 'singe', 'souris']\n",
    "for animal in animaux:\n",
    "    print(animal)"
   ]
  },
  {
   "cell_type": "markdown",
   "metadata": {},
   "source": [
    "Commentons en détails ce qu'il s'est passé dans cet exemple :\n",
    "\n",
    "La variable animal est appelée variable d'itération,\n",
    "elle prend successivement les différentes valeurs de la liste animaux à chaque itération de la boucle. \n",
    "\n",
    "Celle-ci est créée par Python la première fois que la ligne contenant le for est exécutée \n",
    "(si elle existait déjà son contenu serait écrasé). Une fois la boucle terminée, \n",
    "cette variable d'itération animal ne sera pas détruite et contiendra ainsi la dernière valeur de la liste animaux (ici la chaîne de caractères souris)."
   ]
  },
  {
   "cell_type": "markdown",
   "metadata": {},
   "source": [
    ">Notez bien les types des variables utilisées ici :\n",
    "    animaux est une liste sur laquelle on itère, et animal est une chaîne de caractères \n",
    "    car chaque élément de la liste est une chaîne de caractères. \n",
    "    Nous verrons plus loin que la variable d'itération peut être de n'importe\n",
    "    quel type selon la liste parcourue. En Python, une boucle itère toujours sur un objet dit séquentiel(c'est-à-dire un objet constitué d'autres objets) tel qu'une liste. \n",
    "    Nous verrons aussi plus tard d'autres objets séquentiels sur lesquels on peut itérer dans une boucle."
   ]
  },
  {
   "cell_type": "markdown",
   "metadata": {},
   "source": [
    "D'ores et déjà, prêtez attention au caractère deux-points « : » à la fin de la ligne débutant par for. Cela signifie que la boucle for attend un bloc d'instructions, en l’occurrence toutes les instructions que Python répétera à chaque itération de la boucle On appelle ce bloc d'instructions le corps de la boucle. Comment indique-t-on à Python où ce bloc commence et se termine ? Cela est signalé uniquement par l'indentation, c'est-à-dire le décalage vers la droite de la (ou des) ligne(s) du bloc d'instructions."
   ]
  },
  {
   "cell_type": "markdown",
   "metadata": {},
   "source": [
    "**Nommage de la variable d'itération**  \n",
    "Dans l'exemple précédent, nous avons choisi le nom i pour la variable d'itération. Ceci est une habitude en informatique et indique en général qu'il s'agit d'un entier (le nom i vient sans doute du mot indice ou index en anglais). Nous vous conseillons de suivre cette convention afin d'éviter les confusions, si vous itérez sur les indices vous pouvez appeler la variable d'itération i \n",
    "Si, par contre, vous itérez sur une liste comportant des chaînes de caractères,\n",
    "mettez un nom explicite pour la variable d'itération.  \n",
    "Par exemple : for prenom in ['Joe', 'Bill', 'John']:"
   ]
  },
  {
   "cell_type": "markdown",
   "metadata": {},
   "source": [
    "***Remarque***\n",
    "\n",
    "Les notions de bloc d'instruction et d'indentations avait été abordées rapidement dans le chapitre 1 Introduction.\n",
    "Dans l'exemple suivant, le corps de la boucle contient deux instructions : print(animal) et print(animal*2) car elles sont indentées par rapport à la ligne débutant par for :"
   ]
  },
  {
   "cell_type": "code",
   "execution_count": 3,
   "metadata": {},
   "outputs": [
    {
     "name": "stdout",
     "output_type": "stream",
     "text": [
      "girafe\n",
      "girafegirafe\n",
      "tigre\n",
      "tigretigre\n",
      "singe\n",
      "singesinge\n",
      "souris\n",
      "sourissouris\n",
      "C'est fini\n"
     ]
    }
   ],
   "source": [
    "for animal in animaux:\n",
    "    print(animal)\n",
    "    print(animal*2)\n",
    "print(\"C'est fini\")"
   ]
  },
  {
   "cell_type": "markdown",
   "metadata": {},
   "source": [
    "La ligne 4 print(\"C'est fini\") ne fait pas partie du corps de la boucle \n",
    "car elle est au même niveau que le for (c'est-à-dire non indentée par rapport au for). \n",
    " Notez également que chaque instruction du corps de la boucle doit être indentée de la même manière (ici 4 espaces).\n",
    "\n",
    "*** Remarque***\n",
    "\n",
    "Outre une meilleure lisibilité, les deux-points et l'indentation sont formellement requis en Python. Même si on peut indenter comme on veut (plusieurs espaces ou plusieurs tabulations, mais pas une combinaison des deux), les développeurs recommandent l'utilisation de quatre espaces. Vous pouvez consulter à ce sujet le chapitre 15 Bonnes pratiques de programmation en Python.\n",
    "\n",
    "Faites en sorte de configurer votre éditeur de texte favori de façon à écrire quatre espaces lorsque vous tapez sur la touche Tab (tabulation).\n",
    "\n",
    "Si on oublie l'indentation, Python renvoie un message d'erreur :"
   ]
  },
  {
   "cell_type": "code",
   "execution_count": 4,
   "metadata": {},
   "outputs": [
    {
     "name": "stdout",
     "output_type": "stream",
     "text": [
      "tigre\n",
      "singe\n"
     ]
    }
   ],
   "source": [
    "animaux = ['girafe', 'tigre', 'singe', 'souris']\n",
    "for animal in animaux[1:3]:\n",
    "    print(animal)"
   ]
  },
  {
   "cell_type": "markdown",
   "metadata": {},
   "source": [
    "## <span style=\"color: #0000ff;\"><font size=\"+1\"><strong>5.1.1 Itérée sur une listes d'entiers</strong> </font> </span>"
   ]
  },
  {
   "cell_type": "markdown",
   "metadata": {},
   "source": [
    "On a vu que les boucles for pouvaient utiliser une liste contenant des chaînes de caractères,\n",
    "mais elles peuvent tout aussi bien utiliser des listes contenant des entiers (ou n'importe quel type de variable)."
   ]
  },
  {
   "cell_type": "code",
   "execution_count": 5,
   "metadata": {},
   "outputs": [
    {
     "name": "stdout",
     "output_type": "stream",
     "text": [
      "1\n",
      "2\n",
      "3\n"
     ]
    }
   ],
   "source": [
    ">>> for i in [1, 2, 3]:\n",
    "    print(i)"
   ]
  },
  {
   "cell_type": "markdown",
   "metadata": {},
   "source": [
    "**Python possède la fonction range() sur les Listes et qui est trés efficasse pour faire une boucle sur une liste d'entiers de manière automatique**"
   ]
  },
  {
   "cell_type": "code",
   "execution_count": 6,
   "metadata": {},
   "outputs": [
    {
     "name": "stdout",
     "output_type": "stream",
     "text": [
      "0\n",
      "1\n",
      "2\n",
      "3\n"
     ]
    }
   ],
   "source": [
    "for i in range(4):\n",
    "    print(i)"
   ]
  },
  {
   "cell_type": "markdown",
   "metadata": {},
   "source": [
    "Dans cet exemple, nous pouvons faire plusieurs remarques importantes :\n",
    "\n",
    "Contrairement à la création de liste avec list(range(4)), \n",
    "la fonction range() peut être utilisée telle quelle dans une boucle. \n",
    "Il n'est pas nécessaire de taper for i in list(range(4)): même si cela fonctionnerait également.\n",
    "\n",
    "Comment cela est-ce possible ? Et bien range() est une fonction qui a été spécialement conçue pour cela, c'est-à-dire que l'on peut itérer directement dessus. Pour Python, il s'agit d'un nouveau type,\n",
    "par exemple dans l'instruction x = range(3) la variable x est de type range\n",
    "(tout comme on avait les types int, float, str ou list) à utiliser spécialement avec les boucles.\n",
    "\n",
    "L'instruction list(range(4)) se contente de transformer un objet de type range en un objet de type list.  Si vous vous souvenez bien, il s'agit d'une fonction de casting, qui convertit un type en un autre \n",
    "(voir chapitre 2 Variables). Il n'y aucun intérêt à utiliser \n",
    "dans une boucle la construction for i in list(range(4)):. \n",
    "    C'est même contre-productif. En effet, range() se contente de stocker l'entier actuel, le pas pour passer à l'entie\n",
    "r suivant, et le dernier entier à parcourir, ce qui revient à stocker seulement 3 nombres entiers\n",
    "et ce quelle que soit la longueur de la séquence, même avec un range(1000000).\n",
    "Si on utilisait list(range(1000000)), Python construirait d'abord une liste de 1 million d'éléments\n",
    "dans la mémoire puis itérerait dessus, d'où une énorme perte de temps !"
   ]
  },
  {
   "cell_type": "markdown",
   "metadata": {},
   "source": [
    "##  <span style=\"color: #0000ff;\"><font size=\"+1\"><strong>5.1.4 Itération sur les indices</strong> </font> </span>\n",
    " \n",
    "Revenons à notre liste animaux.\n",
    "Nous allons maintenant parcourir cette liste, mais cette fois par une itération sur ses indices :"
   ]
  },
  {
   "cell_type": "code",
   "execution_count": 7,
   "metadata": {},
   "outputs": [
    {
     "name": "stdout",
     "output_type": "stream",
     "text": [
      "girafe\n",
      "tigre\n",
      "singe\n",
      "souris\n"
     ]
    }
   ],
   "source": [
    "animaux = ['girafe', 'tigre', 'singe', 'souris']\n",
    "for i in range(4):\n",
    "    print(animaux[i])"
   ]
  },
  {
   "cell_type": "markdown",
   "metadata": {},
   "source": [
    " \n",
    "##La variable i prendra les valeurs successives 0, 1, 2 et 3 et on accèdera à chaque élément de la liste animaux \n",
    "par son indice (i.e. animaux[i]). Notez à nouveau le nom i de la variable d'itération car on itère sur les indices.\n",
    "\n",
    "Quand utiliser l'une ou l'autre des 2 méthodes ? La plus efficace est celle qui réalise les itérations directement\n",
    "sur les éléments :"
   ]
  },
  {
   "cell_type": "code",
   "execution_count": 9,
   "metadata": {},
   "outputs": [
    {
     "name": "stdout",
     "output_type": "stream",
     "text": [
      "girafe\n",
      "tigre\n",
      "singe\n",
      "souris\n"
     ]
    }
   ],
   "source": [
    "animaux = ['girafe', 'tigre', 'singe', 'souris']\n",
    "for animal in animaux:\n",
    "    print(animal)"
   ]
  },
  {
   "cell_type": "markdown",
   "metadata": {},
   "source": [
    "Toutefois, il se peut qu'au cours d'une boucle vous ayez besoin des indices, \n",
    "auquel cas vous devrez itérer sur les indices :"
   ]
  },
  {
   "cell_type": "code",
   "execution_count": 10,
   "metadata": {},
   "outputs": [
    {
     "name": "stdout",
     "output_type": "stream",
     "text": [
      "L'animal 0 est un(e) girafe\n",
      "L'animal 1 est un(e) tigre\n",
      "L'animal 2 est un(e) singe\n",
      "L'animal 3 est un(e) souris\n"
     ]
    }
   ],
   "source": [
    "animaux = ['girafe', 'tigre', 'singe', 'souris']\n",
    "for i in range(len(animaux)):\n",
    "    print(\"L'animal {} est un(e) {}\".format(i, animaux[i]))"
   ]
  },
  {
   "cell_type": "markdown",
   "metadata": {},
   "source": [
    "Python possède toutefois la fonction enumerate() qui vous permet d'itérer sur les indices et les éléments eux-mêmes."
   ]
  },
  {
   "cell_type": "code",
   "execution_count": 13,
   "metadata": {},
   "outputs": [
    {
     "name": "stdout",
     "output_type": "stream",
     "text": [
      "L'animal 0 est un(e) girafe\n",
      "L'animal 1 est un(e) tigre\n",
      "L'animal 2 est un(e) singe\n",
      "L'animal 3 est un(e) souris\n"
     ]
    }
   ],
   "source": [
    "animaux = ['girafe','tigre','singe','souris']\n",
    "for i, animal in enumerate(animaux):\n",
    "    print(\"L'animal {} est un(e) {}\".format(i, animal))"
   ]
  },
  {
   "cell_type": "markdown",
   "metadata": {},
   "source": [
    "##  <span style=\"color: #0000ff;\"><font size=\"+2\"><strong> 5.2 Comparaisons</strong> </font> </span>"
   ]
  },
  {
   "cell_type": "markdown",
   "metadata": {},
   "source": [
    "Avant de passer à une autre sorte de boucles (les boucles while), nous abordons tout de suite les comparaisons.\n",
    "Celles-ci seront reprises dans le chapitre 6 sur les Tests.\n",
    "Python est capable d'effectuer toute une série de comparaisons entre le contenu de deux variables, telles que :"
   ]
  },
  {
   "cell_type": "markdown",
   "metadata": {},
   "source": [
    "|Syntaxe Python | Signification|\n",
    "|---------------|--------------|\n",
    "|       ==      |  égal à      |\n",
    "|       !=      |  différent de|\n",
    "|        >      |  supérieur à |\n",
    "|        >=     |supérieur ou égal à|\n",
    "|        <      |  inférieur à      |\n",
    "|       <=      |inférieur ou égal à|\n",
    "\n",
    "Observez les exemples suivants avec des nombres entiers."
   ]
  },
  {
   "cell_type": "code",
   "execution_count": 14,
   "metadata": {},
   "outputs": [],
   "source": [
    "x = 5"
   ]
  },
  {
   "cell_type": "code",
   "execution_count": 15,
   "metadata": {},
   "outputs": [
    {
     "data": {
      "text/plain": [
       "True"
      ]
     },
     "execution_count": 15,
     "metadata": {},
     "output_type": "execute_result"
    }
   ],
   "source": [
    "x == 5"
   ]
  },
  {
   "cell_type": "code",
   "execution_count": 16,
   "metadata": {},
   "outputs": [
    {
     "data": {
      "text/plain": [
       "False"
      ]
     },
     "execution_count": 16,
     "metadata": {},
     "output_type": "execute_result"
    }
   ],
   "source": [
    "x > 10"
   ]
  },
  {
   "cell_type": "code",
   "execution_count": 17,
   "metadata": {},
   "outputs": [
    {
     "data": {
      "text/plain": [
       "True"
      ]
     },
     "execution_count": 17,
     "metadata": {},
     "output_type": "execute_result"
    }
   ],
   "source": [
    "x < 10"
   ]
  },
  {
   "cell_type": "markdown",
   "metadata": {},
   "source": [
    "Python renvoie la valeur True si la comparaison est vraie et False si elle est fausse. \n",
    "True et False sont des booléens (un nouveau type de variable).\n",
    "\n",
    "Faites bien attention à ne pas confondre l'opérateur d'affectation = qui affecte une valeur à une variable \n",
    "et l'opérateur de comparaison == qui compare les valeurs de deux variables.\n",
    "\n",
    "Vous pouvez également effectuer des comparaisons sur des chaînes de caractères."
   ]
  },
  {
   "cell_type": "code",
   "execution_count": 26,
   "metadata": {},
   "outputs": [
    {
     "data": {
      "text/plain": [
       "False"
      ]
     },
     "execution_count": 26,
     "metadata": {},
     "output_type": "execute_result"
    }
   ],
   "source": [
    "animal = \"tigre\"\n",
    "animal == \"tig\""
   ]
  },
  {
   "cell_type": "code",
   "execution_count": 27,
   "metadata": {},
   "outputs": [
    {
     "data": {
      "text/plain": [
       "True"
      ]
     },
     "execution_count": 27,
     "metadata": {},
     "output_type": "execute_result"
    }
   ],
   "source": [
    "animal != \"tig\"\n",
    "animal == 'tigre'"
   ]
  },
  {
   "cell_type": "markdown",
   "metadata": {},
   "source": [
    "Dans le cas des chaînes de caractères, a priori seuls les tests == et != ont un sens.\n",
    "En fait, on peut aussi utiliser les opérateurs <, >, <= et >=. \n",
    "Dans ce cas, l'ordre alphabétique est pris en compte, par exemple :"
   ]
  },
  {
   "cell_type": "code",
   "execution_count": 28,
   "metadata": {},
   "outputs": [
    {
     "data": {
      "text/plain": [
       "True"
      ]
     },
     "execution_count": 28,
     "metadata": {},
     "output_type": "execute_result"
    }
   ],
   "source": [
    "\"a\" < \"b\""
   ]
  },
  {
   "cell_type": "markdown",
   "metadata": {},
   "source": [
    "\"a\" est inférieur à \"b\" car le caractère a est situé avant le caractère b dans l'ordre alphabétique. \n",
    "En fait, c'est l'ordre ASCII des caractères qui est pris en compte (à chaque caractère correspond un code numérique),\n",
    "on peut donc aussi comparer des caractères spéciaux (comme # ou ~) entre eux. \n",
    " Enfin, on peut comparer des chaînes de caractères de plusieurs caractères :\n",
    "                                                     "
   ]
  },
  {
   "cell_type": "code",
   "execution_count": 29,
   "metadata": {},
   "outputs": [
    {
     "data": {
      "text/plain": [
       "True"
      ]
     },
     "execution_count": 29,
     "metadata": {},
     "output_type": "execute_result"
    }
   ],
   "source": [
    "\"ali\" < \"alo\""
   ]
  },
  {
   "cell_type": "code",
   "execution_count": 30,
   "metadata": {},
   "outputs": [
    {
     "data": {
      "text/plain": [
       "True"
      ]
     },
     "execution_count": 30,
     "metadata": {},
     "output_type": "execute_result"
    }
   ],
   "source": [
    "\"abb\" < \"ada\""
   ]
  },
  {
   "cell_type": "markdown",
   "metadata": {},
   "source": [
    "Dans ce cas, Python compare les deux chaînes de caractères, caractère par caractère,\n",
    "de la gauche vers la droite (le premier caractère avec le premier, le deuxième avec le deuxième, etc).\n",
    "Dès qu'un caractère est différent entre l'une et l'autre des deux chaînes,\n",
    "il considère que la chaîne la plus petite est celle qui présente le caractère ayant le plus petit code ASCII\n",
    "(les caractères suivants de la chaîne de caractères sont ignorés dans la comparaison), \n",
    "comme dans l'exemple \"abb\" < \"ada\" ci-dessus."
   ]
  },
  {
   "cell_type": "markdown",
   "metadata": {},
   "source": [
    "## 5.3 Boucles while\n",
    "Une autre alternative à l'instruction for couramment utilisée en informatique est la boucle while. \n",
    "Le principe est simple. Une série d'instructions est exécutée tant qu'une condition est vraie. \n",
    "\n",
    "Par exemple :"
   ]
  },
  {
   "cell_type": "code",
   "execution_count": null,
   "metadata": {},
   "outputs": [],
   "source": [
    "i = 1\n",
    "while i <= 4:\n",
    "    print(i)\n",
    "    i = i + 1"
   ]
  },
  {
   "cell_type": "markdown",
   "metadata": {},
   "source": [
    "Remarquez qu'il est encore une fois nécessaire d'indenter le bloc d'instructions correspondant au corps de la boucle \n",
    "(ici, les instructions lignes 3 et 4).\n",
    "\n",
    "Une boucle while nécessite généralement trois éléments pour fonctionner correctement :\n",
    "\n",
    "Initialisation de la variable d'itération avant la boucle (ligne 1).\n",
    "Test de la variable d'itération associée à l'instruction while (ligne 2).\n",
    "Mise à jour de la variable d'itération dans le corps de la boucle (ligne 4).\n",
    "Faites bien attention aux tests et à l'incrémentation que vous utilisez car une erreur mène souvent à des « boucles infinies » qui ne s'arrêtent jamais. Vous pouvez néanmoins toujours stopper l'exécution d'un script Python à l'aide de la combinaison de touches Ctrl-C (c'est-à-dire en pressant simultanément les touches Ctrl et C). Par exemple :"
   ]
  },
  {
   "cell_type": "code",
   "execution_count": null,
   "metadata": {},
   "outputs": [],
   "source": [
    "i = 0\n",
    "while i < 10:\n",
    "    print(\"Le python c'est cool !\")\n",
    "    "
   ]
  },
  {
   "cell_type": "code",
   "execution_count": null,
   "metadata": {},
   "outputs": [],
   "source": [
    "Ici, nous avons omis de mettre à jour la variable i dans le corps de la boucle.\n",
    "Par conséquent, la boucle ne s'arrêtera jamais (sauf en pressant Ctrl-C)\n",
    "puisque la condition i < 10 sera toujours vraie.\n",
    "\n",
    "La boucle while combinée à la fonction input() peut s'avérer commode lorsqu'on souhaite demander\n",
    "à l'utilisateur une valeur numérique. Par exemple :"
   ]
  },
  {
   "cell_type": "code",
   "execution_count": null,
   "metadata": {},
   "outputs": [],
   "source": [
    "i = 0\n",
    "while i < 10:\n",
    "    reponse = input(\"Entrez un entier supérieur à 10 : \")\n",
    "    i = int(reponse)\n",
    "\n",
    "    "
   ]
  },
  {
   "cell_type": "markdown",
   "metadata": {},
   "source": [
    "La fonction input() prend en argument un message (sous la forme d'une chaîne de caractères), \n",
    "demande à l'utilisateur d'entrer une valeur et renvoie celle-ci sous forme d'une chaîne de caractères.\n",
    " il faut ensuite convertir cette dernière en entier (avec la fonction int())."
   ]
  },
  {
   "cell_type": "markdown",
   "metadata": {},
   "source": [
    "<p style=\"text-align: center;\"><span style=\"color: #0000ff;\"><font size=\"+4\"><strong>Exercices</strong> </font> </span></p>"
   ]
  },
  {
   "cell_type": "markdown",
   "metadata": {},
   "source": [
    "## <span style=\"color: #0000ff;\"><font size=\"+1\"><strong>1 Boucles de base </strong> </font> </span>"
   ]
  },
  {
   "cell_type": "markdown",
   "metadata": {},
   "source": [
    "\n",
    "Soit la liste :  \n",
    "['vache', 'souris', 'levure', 'bacterie'].  \n",
    "\n",
    "Affichez l'ensemble des éléments de cette liste (un élément par ligne) de trois manières différentes (deux avec for et une avec while)."
   ]
  },
  {
   "cell_type": "markdown",
   "metadata": {},
   "source": [
    "## <span style=\"color: #0000ff;\"><font size=\"+1\"><strong>2 Boucle et jours de la semaine</strong> </font> </span>"
   ]
  },
  {
   "cell_type": "markdown",
   "metadata": {},
   "source": [
    "\n",
    "Constituez une liste semaine contenant les 7 jours de la semaine.  \n",
    "\n",
    "Écrivez une série d'instructions affichant les jours de la semaine (en utilisant une boucle for), ainsi qu'une autre série d'instructions affichant les jours du week-end (en utilisant une boucle while)."
   ]
  },
  {
   "cell_type": "markdown",
   "metadata": {},
   "source": [
    "## <span style=\"color: #0000ff;\"><font size=\"+1\"><strong>3 Nombres de 1 à 10 sur une ligne</strong> </font> </span>"
   ]
  },
  {
   "cell_type": "markdown",
   "metadata": {},
   "source": [
    "Avec une boucle, affichez les nombres de 1 à 10 sur une seule ligne.\n",
    "\n",
    "Conseil : n'hésitez pas à relire le début du chapitre 3 Affichage qui discute de la fonction print()."
   ]
  },
  {
   "cell_type": "markdown",
   "metadata": {},
   "source": [
    "## <span style=\"color: #0000ff;\"><font size=\"+1\"><strong>4 Nombres pairs et impairs</strong> </font> </span>"
   ]
  },
  {
   "cell_type": "markdown",
   "metadata": {},
   "source": [
    "Soit impairs la liste de nombres [1, 3, 5, 7, 9, 11, 13, 15, 17, 19, 21]. Écrivez un programme qui, à partir de la liste impairs, construit une liste pairs dans laquelle tous les éléments de impairs sont incrémentés de 1."
   ]
  },
  {
   "cell_type": "markdown",
   "metadata": {},
   "source": [
    "## <span style=\"color: #0000ff;\"><font size=\"+1\"><strong>5 Calcul de la moyenne</strong> </font> </span>"
   ]
  },
  {
   "cell_type": "markdown",
   "metadata": {},
   "source": [
    "Voici les notes d'un étudiant [14, 9, 6, 8, 12]. Calculez la moyenne de ces notes. Utilisez l'écriture formatée pour afficher la valeur de la moyenne avec deux décimales."
   ]
  },
  {
   "cell_type": "markdown",
   "metadata": {},
   "source": [
    "## <span style=\"color: #0000ff;\"><font size=\"+1\"><strong>6 Produit de nombres consécutifs</strong> </font> </span>"
   ]
  },
  {
   "cell_type": "markdown",
   "metadata": {},
   "source": [
    "\n",
    "Avez les fonctions list() et range(), créez la liste entiers contenant les nombres entiers pairs de 2 à 20 inclus.\n",
    "\n",
    "Calculez ensuite le produit des nombres consécutifs deux à deux de entiers en utilisant une boucle.\n",
    "\n",
    "Exemple pour les premières itérations :  \n",
    "8   \n",
    "24  \n",
    "48\n",
    "\n",
    "[...]"
   ]
  },
  {
   "cell_type": "code",
   "execution_count": null,
   "metadata": {},
   "outputs": [],
   "source": []
  }
 ],
 "metadata": {
  "kernelspec": {
   "display_name": "Python 3",
   "language": "python",
   "name": "python3"
  },
  "language_info": {
   "codemirror_mode": {
    "name": "ipython",
    "version": 3
   },
   "file_extension": ".py",
   "mimetype": "text/x-python",
   "name": "python",
   "nbconvert_exporter": "python",
   "pygments_lexer": "ipython3",
   "version": "3.7.3"
  }
 },
 "nbformat": 4,
 "nbformat_minor": 4
}
