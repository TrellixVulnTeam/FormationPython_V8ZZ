{
 "cells": [
  {
   "cell_type": "markdown",
   "metadata": {},
   "source": [
    "<hr size=\"4\" color=\"blue\">\n",
    "<p style=\"text-align: center;\"><span style=\"color: #0000ff;\"><font size=\"+5\"><strong> 5 Les dictionnaires </strong> </font></span> </p>\n",
    "<hr size=\"4\" color=\"blue\">"
   ]
  },
  {
   "cell_type": "markdown",
   "metadata": {},
   "source": [
    "<div style=\"border: 2px solid #1EF223; padding: 3px; background-color: #DEFFCD; -moz-border-radius-topleft: 5px; -moz-border-radius-topright: 5px; -moz-border-radius-bottomright: 5px; -moz-border-radius-bottomleft: 5px;\">\n",
    "Les <strong>dictionnaires </strong>sont une structure permettant de stocker des éléments hétérogènes indexés par des clefs (elles aussi hétérogènes):"
   ]
  },
  {
   "cell_type": "markdown",
   "metadata": {},
   "source": [
    "Les **dictionnaires** sont des objets pouvant en contenir d'autres. Cependant, au lieu d'héberger des informations\n",
    "dans un ordre précis, ils associent chaque objet contenu à une clé \n",
    "(la plupart du temps, une chaîne de caractères).  \n",
    "Par exemple, un dictionnaire peut contenir un carnet d'adresses et on accède à chaque contact en précisant son nom."
   ]
  },
  {
   "cell_type": "markdown",
   "metadata": {},
   "source": [
    " ##  <span style=\"color: #0000ff;\"><font size=\"+2\"><strong>1 Création et édition de dictionnaires</strong> </font> </span>"
   ]
  },
  {
   "cell_type": "markdown",
   "metadata": {},
   "source": [
    "Un dictionnaire est un type de données extrêmement puissant et pratique. \n",
    "Il se rapproche des listes sur certains points mais, sur beaucoup d'autres, il en diffère totalement.\n",
    "Python utilise ce type pour représenter diverses fonctionnalités :\n",
    "- on peut par exemple retrouver les attributs d'un objet grâce à un dictionnaire particulier.\n",
    "\n",
    "\n",
    "**Le dictionnaire est a un objet conteneur.**\n",
    "Il n'a quant à lui aucune structure ordonnée, à la différence des listes.\n",
    "De plus, pour accéder aux objets contenus dans le dictionnaire, \n",
    "on n'utilise pas nécessairement des indices mais des clés qui peuvent être de bien des types distincts.  \n",
    "\n",
    "**Remarque**<br>\n",
    "Les listes sont des objets conteneurs, dans lesquels on trouve d'autres objets. \n",
    "Pour accéder à ces objets contenus, il faut connaître leur position dans la liste. \n",
    "Cette position se traduit par des entiers, appelés indices, compris entre 0 (inclus) et la taille \n",
    "de la liste (non incluse). Tout cela, vous devez déjà le savoir.\n"
   ]
  },
  {
   "cell_type": "markdown",
   "metadata": {},
   "source": [
    "Voici la classe sur laquelle se construit un dictionnaire : <font size=\"+1\"> <span style=\"background:#E7E7E7;text-decoration: underline;\"><strong>dict()</strong></span></font>. \n",
    "Vous devriez du même coup trouver la première méthode d'instanciation d'un dictionnaire :"
   ]
  },
  {
   "cell_type": "code",
   "execution_count": 2,
   "metadata": {},
   "outputs": [
    {
     "data": {
      "text/plain": [
       "dict"
      ]
     },
     "execution_count": 2,
     "metadata": {},
     "output_type": "execute_result"
    }
   ],
   "source": [
    "mon_dictionnaire = dict()\n",
    "type(mon_dictionnaire)"
   ]
  },
  {
   "cell_type": "code",
   "execution_count": null,
   "metadata": {},
   "outputs": [],
   "source": [
    "mon_dictionnaire"
   ]
  },
  {
   "cell_type": "markdown",
   "metadata": {},
   "source": [
    "Voici une deuxième manière de créer un dictionnaire vide"
   ]
  },
  {
   "cell_type": "code",
   "execution_count": null,
   "metadata": {},
   "outputs": [],
   "source": [
    "mon_dictionnaire = {}"
   ]
  },
  {
   "cell_type": "markdown",
   "metadata": {},
   "source": [
    "Les parenthèses délimitent les tuples, les crochets délimitent les listes et les accolades{} \n",
    "délimitent les dictionnaires.  \n",
    "Du coup, vous devriez trouver la"
   ]
  },
  {
   "cell_type": "markdown",
   "metadata": {},
   "source": [
    "**Voyons comment ajouter des clés et valeurs dans notre dictionnaire vide :**"
   ]
  },
  {
   "cell_type": "code",
   "execution_count": null,
   "metadata": {},
   "outputs": [],
   "source": [
    "mon_dictionnaire = {}\n",
    "mon_dictionnaire[\"pseudo\"] = \"Prolixe\"\n",
    "mon_dictionnaire[\"mot de passe\"] = \"*\"\n",
    "mon_dictionnaire"
   ]
  },
  {
   "cell_type": "markdown",
   "metadata": {},
   "source": [
    "Nous indiquons entre crochets la clé à laquelle nous souhaitons accéder.\n",
    "- Si la clé n'existe pas, elle est ajoutée au dictionnaire avec la valeur spécifiée \n",
    "après le signe=.\n",
    "- Sinon, l'ancienne valeur à l'emplacement indiqué est remplacée par la nouvelle :"
   ]
  },
  {
   "cell_type": "code",
   "execution_count": 6,
   "metadata": {},
   "outputs": [
    {
     "data": {
      "text/plain": [
       "{'pseudo': '6pri1', 'mot de passe': '*'}"
      ]
     },
     "execution_count": 6,
     "metadata": {},
     "output_type": "execute_result"
    }
   ],
   "source": [
    "mon_dictionnaire = {}\n",
    "mon_dictionnaire[\"pseudo\"] = \"Prolixe\"\n",
    "mon_dictionnaire[\"mot de passe\"] = \"*\"\n",
    "mon_dictionnaire[\"pseudo\"] = \"6pri1\"\n",
    "mon_dictionnaire"
   ]
  },
  {
   "cell_type": "markdown",
   "metadata": {},
   "source": [
    "La valeur 'Prolixe' pointée par la clé 'pseudo' a été remplacée, à la ligne 4, par la valeur '6pri1' .  \n",
    "Cela devrait vous rappeler la création de variables : si la variable n'existe pas, elle est créée, sinon elle est remplacée par la nouvelle valeur."
   ]
  },
  {
   "cell_type": "markdown",
   "metadata": {},
   "source": [
    "Pour **accéder à la valeur d'une clé** précise, c'est très simple :"
   ]
  },
  {
   "cell_type": "code",
   "execution_count": null,
   "metadata": {},
   "outputs": [],
   "source": [
    "mon_dictionnaire[\"mot de passe\"]"
   ]
  },
  {
   "cell_type": "markdown",
   "metadata": {},
   "source": [
    "Si la clé n'existe pas dans le dictionnaire, une exception de typeKeyErrorsera levée."
   ]
  },
  {
   "cell_type": "markdown",
   "metadata": {},
   "source": [
    "Généralisons un peu tout cela : nous avons des dictionnaires, qui peuvent contenir d'autres objets.\n",
    " On place ces objets et on y accède grâce à des clés. Un dictionnaire ne peut naturellement\n",
    "pas contenir deux clés identiques (comme on l'a vu, la seconde valeur écrase la première). \n",
    " En revanche, rien n'empêche d'avoir deux valeurs identiques dans le dictionnaire."
   ]
  },
  {
   "cell_type": "markdown",
   "metadata": {},
   "source": [
    ">**Remarque**<br>\n",
    "Nous avons utilisé ici, pour nos clés et nos valeurs, des chaînes de caractères. \n",
    "Ce n'est absolument pas obligatoire. \n",
    "Comme avec les listes, vous pouvez utiliser des entiers comme clés :"
   ]
  },
  {
   "cell_type": "code",
   "execution_count": null,
   "metadata": {},
   "outputs": [],
   "source": [
    "mon_dictionnaire = {}\n",
    "mon_dictionnaire[0] = \"a\"\n",
    "mon_dictionnaire[2] = \"i\"\n",
    "mon_dictionnaire[3] = \"o\"\n",
    "mon_dictionnaire[4] = \"u\"\n",
    "mon_dictionnaire[5] = \"y\"\n",
    "mon_dictionnaire                            "
   ]
  },
  {
   "cell_type": "markdown",
   "metadata": {},
   "source": [
    ">**Remarque**<br>\n",
    "On a l'impression de recréer le fonctionnement d'une liste mais ce n'est pas le cas :\n",
    "rappelez-vous qu'un dictionnaire n'a pas de structure ordonnée.\n",
    "Si vous supprimez par exemple l'indice2, le dictionnaire, contrairement aux listes,\n",
    "ne va pas décaler toutes les clés d'indice supérieur à l'indice supprimé. Il n'a pas été conçu pour.\n",
    "\n",
    "On peut utiliser quasiment tous les types comme clés et on peut utiliser absolument tous les types comme valeurs."
   ]
  },
  {
   "cell_type": "markdown",
   "metadata": {},
   "source": [
    "On peut aussi créer des dictionnaires déjà remplis :"
   ]
  },
  {
   "cell_type": "code",
   "execution_count": null,
   "metadata": {},
   "outputs": [],
   "source": [
    "placard = {\"chemise\":3, \"pantalon\":6, \"tee-shirt\":7}"
   ]
  },
  {
   "cell_type": "markdown",
   "metadata": {},
   "source": [
    "On précise entre guillemets la clé, le signe deux points « : » et la valeur correspondante.   \n",
    "On sépare les différents couples clé : valeur par une virgule.\n",
    "C'est d'ailleurs comme cela que Python vous affiche un dictionnaire quand vous le lui demandez."
   ]
  },
  {
   "cell_type": "markdown",
   "metadata": {},
   "source": [
    "##  <span style=\"color: #0000ff;\"><font size=\"+2\"><strong>2 Supprimer des clés d'un dictionnaire</strong> </font> </span>"
   ]
  },
  {
   "cell_type": "markdown",
   "metadata": {},
   "source": [
    "Comme pour les listes, vous avez deux possibilités mais elles reviennent sensiblement au même :\n",
    "\n",
    "le mot-clé del><font size=\"+1\"> <span style=\"background:#E7E7E7;text-decoration: underline;\"><strong>del</strong></span></font>;"
   ]
  },
  {
   "cell_type": "markdown",
   "metadata": {
    "jupyter": {
     "source_hidden": true
    }
   },
   "source": [
    "le mot-clé del  fonctionne de la même façon que pour les listes :"
   ]
  },
  {
   "cell_type": "code",
   "execution_count": null,
   "metadata": {},
   "outputs": [],
   "source": [
    "placard = {\"chemise\":3, \"pantalon\":6, \"tee shirt\":7}\n",
    "del placard[\"chemise\"]\n",
    "placard"
   ]
  },
  {
   "cell_type": "markdown",
   "metadata": {},
   "source": [
    "La méthode><font size=\"+1\"> <span style=\"background:#E7E7E7;text-decoration: underline;\"><strong>pop</strong></span></font>  supprime également la clé précisée mais elle renvoie la valeur supprimée :"
   ]
  },
  {
   "cell_type": "code",
   "execution_count": 9,
   "metadata": {},
   "outputs": [
    {
     "data": {
      "text/plain": [
       "3"
      ]
     },
     "execution_count": 9,
     "metadata": {},
     "output_type": "execute_result"
    }
   ],
   "source": [
    "placard = {\"chemise\":3, \"pantalon\":6, \"tee shirt\":7}\n",
    "placard.pop(\"chemise\")"
   ]
  },
  {
   "cell_type": "markdown",
   "metadata": {},
   "source": [
    "En plus de supprimer la clé et la valeur associée, la méthode pop renvoie cette valeur.\n",
    "Cela peut être utile parfois.\n",
    "\n",
    "Voilà pour le tour d'horizon.\n",
    "Je vous laisse consulter l'aide pour une liste détaillée."
   ]
  },
  {
   "cell_type": "markdown",
   "metadata": {},
   "source": [
    " ##  <span style=\"color: #0000ff;\"><font size=\"+2\"><strong>3 Parcourir un dictionnaire</strong> </font> </span>"
   ]
  },
  {
   "cell_type": "markdown",
   "metadata": {},
   "source": [
    "Comme vous pouvez le penser, le parcours d'un dictionnaire ne s'effectue pas tout à fait comme celui d'une liste. La différence n'est pas si énorme que cela mais, la plupart du temps, on passe par des méthodes de dictionnaire."
   ]
  },
  {
   "cell_type": "markdown",
   "metadata": {},
   "source": [
    " ###  <span style=\"color: #0000ff;\"><font size=\"+1\"><strong>3.1 Parcours des clés</strong> </font> </span>\n",
    "\n",
    "Peut-être avez-vous déjà essayé par vous-mêmes de parcourir un dictionnaire comme on l'a fait pour les listes :"
   ]
  },
  {
   "cell_type": "code",
   "execution_count": 10,
   "metadata": {},
   "outputs": [
    {
     "name": "stdout",
     "output_type": "stream",
     "text": [
      "pommes\n",
      "melons\n",
      "poires\n"
     ]
    }
   ],
   "source": [
    "fruits = {\"pommes\":21, \"melons\":3, \"poires\":31}\n",
    "for cle in fruits:\n",
    "    print(cle)"
   ]
  },
  {
   "cell_type": "markdown",
   "metadata": {},
   "source": [
    "Comme vous le voyez, si on essaye de parcourir un dictionnaire « simplement », \n",
    "on parcourt en réalité la liste des clés contenues dans le dictionnaire.\n",
    "\n",
    "Mais… les clés ne s'affichent pas dans l'ordre dans lequel on les a entrées… c'est normal ?\n",
    "\n",
    "Les dictionnaires n'ont pas de structure ordonnée, gardez-le à l'esprit.\n",
    "Donc en ce sens oui, c'est tout à fait normal.\n",
    "\n",
    "Une méthode de la classe dict\n",
    "permet d'obtenir ce même résultat. Personnellement, je l'utilise plus fréquemment car on est sûr, en lisant l'instruction, que c'est la liste des clés que l'on parcourt  :"
   ]
  },
  {
   "cell_type": "code",
   "execution_count": 11,
   "metadata": {},
   "outputs": [
    {
     "name": "stdout",
     "output_type": "stream",
     "text": [
      "pommes\n",
      "melons\n",
      "poires\n"
     ]
    }
   ],
   "source": [
    "fruits = {\"pommes\":21, \"melons\":3, \"poires\":31}\n",
    "for cle in fruits.keys():\n",
    "    print(cle)"
   ]
  },
  {
   "cell_type": "markdown",
   "metadata": {},
   "source": [
    "La méthodekeys(« clés » en anglais) renvoie la liste des clés contenues dans le dictionnaire.\n",
    "En vérité, ce n'est pas tout à fait une liste (essayez de taperfruits.keys()dans votre interpréteur)\n",
    "mais c'est une séquence qui se parcourt comme une liste."
   ]
  },
  {
   "cell_type": "markdown",
   "metadata": {},
   "source": [
    "##  <span style=\"color: #0000ff;\"><font size=\"+2\"><strong>3.2 Parcours des valeurs</strong> </font> </span>"
   ]
  },
  {
   "cell_type": "markdown",
   "metadata": {},
   "source": [
    "On peut aussi parcourir les valeurs contenues dans un dictionnaire.\n",
    "Pour ce faire, on utilise la méthodevalues(« valeurs » en anglais)."
   ]
  },
  {
   "cell_type": "code",
   "execution_count": null,
   "metadata": {},
   "outputs": [],
   "source": [
    "fruits = {\"pommes\":21, \"melons\":3, \"poires\":31}\n",
    "for valeur in fruits.values():\n",
    "    print(valeur)"
   ]
  },
  {
   "cell_type": "markdown",
   "metadata": {},
   "source": [
    "Cette méthode est peu utilisée pour un parcours car il est plus pratique de parcourir la liste des clés, cela suffit pour avoir les valeurs correspondantes. Mais on peut aussi, bien entendu, l'utiliser dans une condition :"
   ]
  },
  {
   "cell_type": "code",
   "execution_count": null,
   "metadata": {},
   "outputs": [],
   "source": [
    "if 21 in fruits.values():\n",
    "    print(\"Un des fruits se trouve dans la quantité 21.\")"
   ]
  },
  {
   "cell_type": "markdown",
   "metadata": {},
   "source": [
    "##  <span style=\"color: #0000ff;\"><font size=\"+2\"><strong>3.3 Parcours des clés et valeurs simultanément</strong> </font> </span>"
   ]
  },
  {
   "cell_type": "markdown",
   "metadata": {},
   "source": [
    "Pour avoir en même temps les indices et les objets d'une liste, on utilise la fonctionenumerate, j'espère que vous vous en souvenez. Pour faire de même avec les dictionnaires, on utilise la méthodeitems. Elle renvoie une liste, contenant les couplesclé : valeur, sous la forme d'untuple. Voyons comment l'utiliser :"
   ]
  },
  {
   "cell_type": "code",
   "execution_count": 12,
   "metadata": {},
   "outputs": [
    {
     "name": "stdout",
     "output_type": "stream",
     "text": [
      "La clé pommes contient la valeur 21.\n",
      "La clé melons contient la valeur 3.\n",
      "La clé poires contient la valeur 31.\n"
     ]
    }
   ],
   "source": [
    "fruits = {\"pommes\":21, \"melons\":3, \"poires\":31}\n",
    "for cle, valeur in fruits.items():\n",
    "    print(\"La clé {} contient la valeur {}.\".format(cle, valeur))"
   ]
  },
  {
   "cell_type": "markdown",
   "metadata": {},
   "source": [
    "Il est parfois très pratique de parcourir un dictionnaire avec ses clés et les valeurs associées."
   ]
  },
  {
   "cell_type": "markdown",
   "metadata": {},
   "source": [
    " ##  <span style=\"color: #0000ff;\"><font size=\"+2\"><strong>4 Les dictionnaires et paramètres de fonction</strong> </font> </span>"
   ]
  },
  {
   "cell_type": "markdown",
   "metadata": {},
   "source": [
    "Récupérer les paramètres nommés dans un dictionnaire\n",
    "Il existe aussi une façon de capturer les paramètres nommés d'une fonction. \n",
    "Dans ce cas, toutefois, ils sont placés dans un dictionnaire. Si, par exemple, vous appelez la fonction ainsi :fonction(parametre='a'), vous aurez, dans le dictionnaire capturant les paramètres nommés, une clé'parametre'liée à la valeur'a'. Voyez plutôt :"
   ]
  },
  {
   "cell_type": "code",
   "execution_count": null,
   "metadata": {},
   "outputs": [],
   "source": [
    "def fonction_inconnue(**parametres_nommes):\n",
    "    \"\"\"Fonction permettant de voir comment récupérer les paramètres nommés\n",
    "    dans un dictionnaire\"\"\"\n",
    "    print(\"J'ai reçu en paramètres nommés : {}.\".format(parametres_nommes))\n",
    "fonction_inconnue() # Aucun paramètre"
   ]
  },
  {
   "cell_type": "code",
   "execution_count": null,
   "metadata": {},
   "outputs": [],
   "source": [
    "fonction_inconnue(p=4, j=8)"
   ]
  },
  {
   "cell_type": "code",
   "execution_count": null,
   "metadata": {},
   "outputs": [],
   "source": [
    "Pour capturer tous les paramètres nommés non précisés dans un dictionnaire, il faut mettre deux étoiles ** avant le nom du paramètre.\n",
    "\n",
    "Si vous passez des paramètres non nommés à cette fonction, Python lèvera une exception.\n",
    "\n",
    "Ainsi, pour avoir une fonction qui accepte n'importe quel type de paramètres, nommés ou non, dans n'importe quel ordre, dans n'importe quelle quantité, il faut la déclarer de cette manière :\n",
    "\n",
    "def fonction_inconnue(*en_liste, **en_dictionnaire):\n",
    "Tous les paramètres non nommés se retrouveront dans la variableen_listeet les paramètres nommés dans la variableen_dictionnaire.\n",
    "\n",
    "Mais à quoi cela peut-il bien servir d'avoir une fonction qui accepte n'importe quel paramètre ?\n",
    "\n",
    "Pour l'instant à pas grand chose mais cela viendra. Quand on abordera le chapitre sur les décorateurs, vous vous en souviendrez et vous pourrez vous féliciter de connaître cette fonctionnalité.\n",
    "\n",
    "Transformer un dictionnaire en paramètres nommés d'une fonction\n",
    "Là encore, on peut faire exactement l'inverse : transformer un dictionnaire en paramètres nommés d'une fonction. Voyons un exemple tout simple :"
   ]
  },
  {
   "cell_type": "code",
   "execution_count": null,
   "metadata": {},
   "outputs": [],
   "source": [
    "parametres = {\"sep\":\" >> \", \"end\":\" -\\n\"}\n",
    "print(\"Voici\", \"un\", \"exemple\", \"d'appel\", **parametres)"
   ]
  },
  {
   "cell_type": "code",
   "execution_count": null,
   "metadata": {},
   "outputs": [],
   "source": [
    "Les paramètres nommés sont transmis à la fonction par un dictionnaire. \n",
    "Pour indiquer à Python que le dictionnaire doit être transmis comme des paramètres nommés, \n",
    "on place deux étoiles avant son nom ** dans l'appel de la fonction.\n",
    "\n",
    "Comme vous pouvez le voir, c'est comme si nous avions écrit :"
   ]
  },
  {
   "cell_type": "code",
   "execution_count": null,
   "metadata": {},
   "outputs": [],
   "source": [
    ">>> print(\"Voici\", \"un\", \"exemple\", \"d'appel\", sep=\" >> \", end=\" -\\n\")"
   ]
  },
  {
   "cell_type": "code",
   "execution_count": null,
   "metadata": {},
   "outputs": [],
   "source": [
    "Pour l'instant, vous devez trouver que c'est bien se compliquer la vie pour si peu.\n",
    "Nous verrons dans la suite de ce cours qu'il n'en est rien, \n",
    "en fait, même si nous n'utilisons pas cette fonctionnalité tous les jours."
   ]
  },
  {
   "cell_type": "markdown",
   "metadata": {},
   "source": [
    "##  <span style=\"color: #0000ff;\"><font size=\"+2\"><strong>5 Stocker des fonctions.</strong> </font> </span>"
   ]
  },
  {
   "cell_type": "markdown",
   "metadata": {},
   "source": [
    "Les fonctions sont manipulables comme des variables. Ce sont des objets, un peu particuliers mais des objets tout de même. Donc on peut les prendre pour valeur d'affectation ou les ranger dans des listes ou dictionnaires. C'est pourquoi je présente cette fonctionnalité à présent, auparavant j'aurais manqué d'exemples pratiques."
   ]
  },
  {
   "cell_type": "code",
   "execution_count": 19,
   "metadata": {},
   "outputs": [
    {
     "name": "stdout",
     "output_type": "stream",
     "text": [
      "Affichons un message\n"
     ]
    }
   ],
   "source": [
    "print_2 = print # L'objet print_2 pointera sur la fonction print\n",
    "print_2(\"Affichons un message\")"
   ]
  },
  {
   "cell_type": "code",
   "execution_count": null,
   "metadata": {},
   "outputs": [],
   "source": [
    "On copie la fonction print dans une autre variable print_2.\n",
    "On peut ensuite appelern print_2n et la fonction va afficher le texte saisi,\n",
    "tout comme print l'aurait fait.\n",
    "\n",
    "En pratique, on affecte rarement des fonctions de cette manière. \n",
    "C'est peu utile. Par contre, on met parfois des fonctions dans des dictionnaires :"
   ]
  },
  {
   "cell_type": "code",
   "execution_count": 20,
   "metadata": {},
   "outputs": [],
   "source": [
    "def fete():\n",
    "    print(\"C'est la fête.\")"
   ]
  },
  {
   "cell_type": "code",
   "execution_count": 21,
   "metadata": {},
   "outputs": [],
   "source": [
    "def oiseau():\n",
    "    print(\"Fais comme l'oiseau...\")"
   ]
  },
  {
   "cell_type": "code",
   "execution_count": 22,
   "metadata": {},
   "outputs": [
    {
     "data": {
      "text/plain": [
       "<function __main__.oiseau()>"
      ]
     },
     "execution_count": 22,
     "metadata": {},
     "output_type": "execute_result"
    }
   ],
   "source": [
    "fonctions = {}\n",
    "fonctions[\"fete\"] = fete # on ne met pas les parenthèses\n",
    "fonctions[\"oiseau\"] = oiseau\n",
    "fonctions[\"oiseau\"]"
   ]
  },
  {
   "cell_type": "code",
   "execution_count": 23,
   "metadata": {},
   "outputs": [
    {
     "name": "stdout",
     "output_type": "stream",
     "text": [
      "Fais comme l'oiseau...\n"
     ]
    }
   ],
   "source": [
    "fonctions[\"oiseau\"]() # on essaye de l'appeler"
   ]
  },
  {
   "cell_type": "markdown",
   "metadata": {},
   "source": [
    "Prenons dans l'ordre si vous le voulez bien :\n",
    "- On commence par définir deux fonctions,fete et oiseau.\n",
    "- On crée un dictionnaire nommé fonctions.\n",
    "- On met dans ce dictionnaire les fonctions fete et oiseau. La clé pointant vers la fonction est le nom de la fonction, tout bêtement, mais on aurait pu lui donner un nom plus original.\n",
    "- En tapant fonctions[\"oiseau\"](), on accède à la fonction oiseau et on l'appelle dans la foulée."
   ]
  },
  {
   "cell_type": "markdown",
   "metadata": {},
   "source": [
    " **Remarque**<br>\n",
    " On peut stocker les références des fonctions dans n'importe quel objet conteneur, des listes, des dictionnaires… et d'autres classes, quand nous apprendrons à en faire. Je ne vous demande pas de comprendre absolument la manipulation des références des fonctions, essayez simplement de retenir cet exemple. Dans tous les cas, nous aurons l'occasion d'y revenir."
   ]
  },
  {
   "cell_type": "markdown",
   "metadata": {},
   "source": [
    "<p ><span style=\"color: #0000ff;\"><font size=\"+2\"><strong>En résumé</strong> </font> </span></p>"
   ]
  },
  {
   "cell_type": "markdown",
   "metadata": {},
   "source": [
    "\n",
    "- Un dictionnaire est un objet conteneur associant des clés à des valeurs.\n",
    "\n",
    "- Pour créer un dictionnaire, on utilise la syntaxedictionnaire = {cle1:valeur1, cle2:valeur2, cleN:valeurN}.\n",
    "\n",
    "- On peut ajouter ou remplacer un élément dans un dictionnaire :dictionnaire[cle] = valeur.\n",
    "\n",
    "- On peut supprimer une clé (et sa valeur correspondante) d'un dictionnaire en utilisant, au choix, le mot-clédelou la méthodepop.\n",
    "\n",
    "- On peut parcourir un dictionnaire grâce aux méthodeskeys(parcourt les clés),values(parcourt les valeurs) ouitems(parcourt les couples clé-valeur).\n",
    "\n",
    "- On peut capturer les paramètres nommés passés à une fonction en utilisant cette syntaxe :def fonction_inconnue(**parametres_nommes): (les paramètres nommés se retrouvent dans le dictionnaireparametres_nommes)."
   ]
  },
  {
   "cell_type": "code",
   "execution_count": null,
   "metadata": {},
   "outputs": [],
   "source": [
    "13 Dictionnaires et tuples\n",
    "13.1 Dictionnaires\n",
    "Les dictionnaires se révèlent très pratiques lorsque vous devez manipuler des structures complexes\n",
    "à décrire et que les listes présentent leurs limites. Les dictionnaires sont des collections non ordonnées d'objets, c'est-à-dire qu'il n'y a pas de notion d'ordre (i.e. pas d'indice). On accède aux valeurs d'un dictionnaire par des clés. Ceci semble un peu confus ? Regardez l'exemple suivant :\n",
    "\n",
    "\n",
    ">>> ani1 = {}\n",
    ">>> ani1[\"nom\"] = \"girafe\"\n",
    ">>> ani1[\"taille\"] = 5.0\n",
    ">>> ani1[\"poids\"] = 1100\n",
    ">>> ani1\n",
    "{'nom': 'girafe', 'taille': 5.0, 'poids': 1100}\n",
    "En premier, on définit un dictionnaire vide avec les accolades {} (tout comme on peut le faire pour les listes avec []). Ensuite, on remplit le dictionnaire avec différentes clés (\"nom\", \"taille\", \"poids\") auxquelles on affecte des valeurs (\"girafe\", 5.0, 1100). Vous pouvez mettre autant de clés que vous voulez dans un dictionnaire (tout comme vous pouvez ajouter autant d'éléments que vous voulez dans une liste).\n",
    "\n",
    " Remarque\n",
    "Un dictionnaire est affiché sans ordre particulier.\n",
    "\n",
    "On peut aussi initialiser toutes les clés et les valeurs d'un dictionnaire en une seule opération :\n",
    "\n",
    "\n",
    ">>> ani2 = {\"nom\":\"singe\", \"poids\":70, \"taille\":1.75}\n",
    "Mais rien ne nous empêche d'ajouter une clé et une valeur supplémentaire :\n",
    "\n",
    "\n",
    ">>> ani2[\"age\"] = 15\n",
    "Pour récupérer la valeur associée à une clé donnée, il suffit d'utiliser la syntaxe suivante dictionnaire[\"cle\"]. Par exemple :\n",
    "\n",
    "\n",
    ">>> ani1[\"taille\"]\n",
    "5.0\n",
    " Remarque\n",
    "Toutes les clés de dictionnaire utilisées jusqu'à présent étaient des chaînes de caractères. Rien n'empêche d'utiliser d'autres types d'objets comme des entiers (voire même des tuples, cf. rubrique suivante), cela peut parfois s'avérer très utile.\n",
    "\n",
    "Néanmoins, nous vous conseillons, autant que possible, d'utiliser systématiquement des chaînes de caractères pour vos clés de dictionnaire.\n",
    "\n",
    "13.1.1 Itération sur les clés pour obtenir les valeurs\n",
    "Il est possible d'obtenir toutes les valeurs d'un dictionnaire à partir de ses clés :\n",
    "\n",
    "\n",
    ">>> ani2 = {'nom':'singe', 'poids':70, 'taille':1.75}\n",
    ">>> for key in ani2:\n",
    "...     print(key, ani2[key])\n",
    "...\n",
    "poids 70\n",
    "nom singe\n",
    "taille 1.75\n",
    "13.1.2 Méthodes .keys() et .values()\n",
    "Les méthodes .keys() et .values() renvoient, comme vous pouvez vous en doutez, les clés et les valeurs d'un dictionnaire :\n",
    "\n",
    "\n",
    ">>> ani2.keys()\n",
    "dict_keys(['poids', 'nom', 'taille'])\n",
    ">>> ani2.values()\n",
    "dict_values([70, 'singe', 1.75])\n",
    "Les mentions dict_keys et dict_values indiquent que nous avons affaire à des objets un peu particuliers. Si besoin, nous pouvons les transformer en liste avec la fonction list() :\n",
    "\n",
    "\n",
    ">>> ani2.values()\n",
    "dict_values(['singe', 70, 1.75])\n",
    ">>> list(ani2.values())\n",
    "['singe', 70, 1.75]\n",
    "Toutefois, ce sont des objets « itérables », donc utilisables dans une boucle.\n",
    "\n",
    "13.1.3 Existence d'une clé\n",
    "Pour vérifier si une clé existe dans un dictionnaire, on peut utiliser le test d’appartenance avec l'instruction in qui renvoie un booléen :\n",
    "\n",
    "\n",
    ">>> if \"poids\" in ani2:\n",
    "...     print(\"La clé 'poids' existe pour ani2\")\n",
    "...\n",
    "La clé 'poids' existe pour ani2\n",
    ">>> if \"age\" in ani2:\n",
    "...     print(\"La clé 'age' existe pour ani2\")\n",
    "...\n",
    ">>>\n",
    "Dans le second test (lignes 5 à 7), le message n'est pas affiché car la clé age n'est pas présente dans le dictionnaire ani2.\n",
    "\n",
    "13.1.4 Liste de dictionnaires\n",
    "En créant une liste de dictionnaires qui possèdent les mêmes clés, on obtient une structure qui ressemble à une base de données :\n",
    "\n",
    "\n",
    ">>> animaux = [ani1, ani2]\n",
    ">>> animaux\n",
    "[{'nom': 'girafe', 'poids': 1100, 'taille': 5.0}, {'nom': 'singe',\n",
    "'poids': 70, 'taille': 1.75}]\n",
    ">>>\n",
    ">>> for ani in animaux:\n",
    "...     print(ani['nom'])\n",
    "...\n",
    "girafe\n",
    "singe\n",
    "Vous constatez ainsi que les dictionnaires permettent de gérer des structures complexes de manière plus explicite que les listes.\n",
    "\n",
    "13.2 Tuples\n",
    "Les tuples (« n-uplets » en français) correspondent aux listes à la différence qu'ils sont non modifiables. On a vu dans le chapitre 11 Plus sur les listes que les listes pouvaient être modifiées par références, notamment lors de la copie de listes. Les tuples s'affranchissent de ce problème puisqu'ils sont non modifiables. Pratiquement, ils utilisent les parenthèses au lieu des crochets :\n",
    "\n",
    "\n",
    ">>> x = (1, 2, 3)\n",
    ">>> x\n",
    "(1, 2, 3)\n",
    ">>> x[2]\n",
    "3\n",
    ">>> x[0:2]\n",
    "(1, 2)\n",
    ">>> x[2] = 15\n",
    "Traceback (innermost last):\n",
    "File \"<stdin>\", line 1, in ?\n",
    "TypeError: object doesn't support item assignment\n",
    "L'affectation et l'indiçage fonctionnent comme avec les listes. Mais si on essaie de modifier un des éléments du tuple, Python renvoie un message d'erreur. Si vous voulez ajouter un élément (ou le modifier), vous devez créer un autre tuple :\n",
    "\n",
    "\n",
    ">>> x = (1, 2, 3)\n",
    ">>> x + (2,)\n",
    "(1, 2, 3, 2)\n",
    " Remarque\n",
    "Pour utiliser un tuple d'un seul élément, vous devez utiliser une syntaxe avec une virgule (element,), ceci pour éviter une ambiguïté avec une simple expression.\n",
    "\n",
    "Autre particularité des tuples, il est possible d'en créer de nouveaux sans les parenthèses, dès lors que ceci ne pose pas d'ambiguïté avec une autre expression :\n",
    "\n",
    "\n",
    ">>> x = (1, 2, 3)\n",
    ">>> x\n",
    "(1, 2, 3)\n",
    ">>> x = 1, 2, 3\n",
    ">>> x\n",
    "(1, 2, 3)\n",
    "Toutefois, nous vous conseillons d'utiliser systématiquement les parenthèses afin d'éviter les confusions.\n",
    "\n",
    "Enfin, on peut utiliser la fonction tuple(sequence) qui fonctionne exactement comme la fonction list(), c'est-à-dire qu'elle prend en argument un objet séquentiel et renvoie le tuple correspondant (opération de casting) :\n",
    "\n",
    "\n",
    ">>> tuple([1,2,3])\n",
    "(1, 2, 3)\n",
    ">>> tuple(\"ATGCCGCGAT\")\n",
    "('A', 'T', 'G', 'C', 'C', 'G', 'C', 'G', 'A', 'T')\n",
    " Remarque\n",
    "Les listes, les dictionnaires et les tuples sont des objets qui peuvent contenir des collections d'autres objets. On peut donc construire des listes qui contiennent des dictionnaires, des tuples ou d'autres listes, mais aussi des dictionnaires contenant des tuples, des listes, etc.\n",
    "\n",
    "Pratiquement, nous avons déjà croisé les tuples avec la fonction enumerate() dans le chapitre 5 Boucles et comparaisons qui renvoie l'indice de l'élément et l'élément d'une liste, ainsi dans le chapitre 9 Fonctions lorsqu'on voulait qu'une fonction renvoie plusieurs valeurs (par exemple dans l'instruction return x,y, le couple x,y est un tuple). Cela revenait à faire une affectation multiple du type x, y = 1, 2.\n",
    "\n",
    "13.3 Exercices\n",
    "Conseil : pour ces exercices, créez des scripts puis exécutez-les dans un shell.\n",
    "\n",
    "13.3.1 Composition en acides aminés\n",
    "En utilisant un dictionnaire, déterminez le nombre d’occurrences de chaque acide aminé dans la séquence AGWPSGGASAGLAILWGASAIMPGALW. Le dictionnaire ne doit contenir que les acides aminés présents dans la séquence.\n",
    "\n",
    "13.3.2 Mots de 2 et 3 lettres dans une séquence d'ADN\n",
    "Créez une fonction compte_mots_2_lettres() qui prend comme argument une séquence sous la forme d'une chaîne de caractères et qui renvoie tous les mots de 2 lettres qui existent dans la séquence sous la forme d'un dictionnaire. Par exemple pour la séquence ACCTAGCCCTA, le dictionnaire renvoyée serait :\n",
    "{'AC': 1, 'CC': 3, 'CT': 2, 'TA': 2, 'AG': 1, 'GC': 1}\n",
    "\n",
    "Créez une nouvelle fonction compte_mots_3_lettres() qui a un comportement similaire à compte_mots_2_lettres() mais avec des mots de 3 lettres.\n",
    "\n",
    "Utilisez ces fonctions pour affichez les mots de 2 et 3 lettres et leurs occurrences trouvés dans la séquence d'ADN :\n",
    "ACCTAGCCATGTAGAATCGCCTAGGCTTTAGCTAGCTCTAGCTAGCTG\n",
    "\n",
    "Voici un exemple de sortie attendue :\n",
    "\n",
    "\n",
    "Mots de 2 lettres\n",
    "AC : 1\n",
    "CC : 3\n",
    "CT : 8\n",
    "[...]\n",
    "Mots de 3 lettres\n",
    "ACC : 1\n",
    "CCT : 2\n",
    "CTA : 5\n",
    "[...]\n",
    "13.3.3 Mots de 2 lettres dans la séquence du chromosome I de Saccharomyces cerevisiae\n",
    "Créez une fonction lit_fasta() qui prend comme argument le nom d'un fichier FASTA sous la forme d'une chaîne de caractères, lit la séquence dans le fichier FASTA et la renvoie sous la forme d'une chaîne de caractères. N'hésitez pas à vous inspirer d'un exercice similaire du chapitre 10 Plus sur les chaînes de caractères.\n",
    "\n",
    "Utilisez cette fonction et la fonction compte_mots_2_lettres() de l'exercice précédent pour extraire les mots de 2 lettres et leurs occurrences dans la séquence du chromosome I de la levure du boulanger Saccharomyces cerevisiae (fichier NC_001133.fna).\n",
    "\n",
    "Le génome complet est fourni au format FASTA. Vous trouverez des explications sur ce format et des exemples de code dans l'annexe A Quelques formats de données rencontrés en biologie.\n",
    "\n",
    "13.3.4 Mots de n lettres dans un fichier FASTA\n",
    "Créez un script extract-words.py qui prend comme arguments le nom d'un fichier FASTA suivi d'un entier compris entre 1 et 4. Ce script doit extraire du fichier FASTA tous les mots et leurs occurrences en fonction du nombre de lettres passé en option.\n",
    "\n",
    "Utilisez pour ce script la fonction lit_fasta() de l'exercice précédent. Créez également la fonction compte_mots_n_lettres() qui prend comme argument une séquence sous la forme d'une chaîne de caractères et le nombre de lettres des mots sous la forme d'un entier.\n",
    "\n",
    "Testez ce script avec :\n",
    "\n",
    "la séquence du chromosome I de la levure du boulanger Saccharomyces cerevisiae (fichier NC_001133.fna)\n",
    "le génome de la bactérie Escherichia coli (fichier NC_000913.fna)\n",
    "Les deux fichiers sont au format FASTA.\n",
    "\n",
    "Cette méthode vous paraît-elle efficace sur un génome assez gros comme celui d'Escherichia coli ?\n",
    "\n",
    "13.3.5 Atomes carbone alpha d'un fichier PDB\n",
    "Téléchargez le fichier 1bta.pdb qui correspond à la structure tridimensionnelle de la protéine barstar sur le site de la Protein Data Bank (PDB).\n",
    "\n",
    "Créez la fonction trouve_calpha() qui prend en argument le nom d'un fichier PDB (sous la forme d'une chaîne de caractères), qui sélectionne uniquement les lignes contenant des carbones alpha et qui les renvoie sous la forme d'une liste de dictionnaires. Chaque dictionnaire contient quatre clés :\n",
    "\n",
    "le numéro du résidu (resid) avec une valeur entière,\n",
    "la coordonnée atomique x (x) avec une valeur float,\n",
    "la coordonnée atomique y (y) avec une valeur float,\n",
    "la coordonnée atomique z (z) avec une valeur float.\n",
    "Utilisez la fonction trouve_calpha() pour afficher à l'écran le nombre total de carbones alpha de la barstar ainsi que les coordonnées atomiques des carbones alpha des deux premiers résidus (acides aminés).\n",
    "\n",
    "Conseil : vous trouverez des explications sur le format PDB et des exemples de code pour lire ce type de fichier en Python dans l'annexe A Quelques formats de données rencontrés en biologie.\n",
    "\n",
    "13.3.6 Barycentre d'une protéine (exercice +++)\n",
    "Téléchargez le fichier 1bta.pdb qui correspond à la structure tridimensionnelle de la protéine barstar sur le site de la Protein Data Bank (PDB).\n",
    "\n",
    "Un carbone alpha est présent dans chaque résidu (acide aminé) d'une protéine. On peut obtenir une bonne approximation du barycentre d'une protéine en calculant le barycentre de ses carbones alpha.\n",
    "\n",
    "Le barycentre \n",
    "G\n",
    " de coordonnées (\n",
    "G\n",
    "x\n",
    ", \n",
    "G\n",
    "y\n",
    ", \n",
    "G\n",
    "z\n",
    ") est obtenu à partir des \n",
    "n\n",
    " carbones alpha (CA) de coordonnées (\n",
    "C\n",
    "A\n",
    "x\n",
    ", \n",
    "C\n",
    "A\n",
    "y\n",
    ", \n",
    "C\n",
    "A\n",
    "z\n",
    ") avec :\n",
    "\n",
    "G\n",
    "x\n",
    "=\n",
    "1\n",
    "n\n",
    "n\n",
    "∑\n",
    "i\n",
    "=\n",
    "1\n",
    " \n",
    "C\n",
    "A\n",
    "i\n",
    ",\n",
    "x\n",
    "$\n",
    "$\n",
    "$\n",
    "$\n",
    "G\n",
    "y\n",
    "=\n",
    "1\n",
    "n\n",
    "n\n",
    "∑\n",
    "i\n",
    "=\n",
    "1\n",
    " \n",
    "C\n",
    "A\n",
    "i\n",
    ",\n",
    "y\n",
    "$\n",
    "$\n",
    "$\n",
    "$\n",
    "G\n",
    "z\n",
    "=\n",
    "1\n",
    "n\n",
    "n\n",
    "∑\n",
    "i\n",
    "=\n",
    "1\n",
    " \n",
    "C\n",
    "A\n",
    "i\n",
    ",\n",
    "z\n",
    "Créez une fonction calcule_barycentre() qui prend comme argument une liste de dictionnaires dont les clés (resid, x, y et z) sont celles de l'exercice précédent et qui renvoie les coordonnées du barycentre sous la forme d'une liste de floats.\n",
    "\n",
    "Utilisez la fonction trouve_calpha() de l'exercice précédent et la fonction\n",
    "calcule_barycentre()pour afficher, avec deux chiffres significatifs, les coordonnées du barycentre des carbones alpha de la barstar."
   ]
  },
  {
   "cell_type": "markdown",
   "metadata": {},
   "source": [
    "--------------\n",
    "<p style=\"text-align: center;\"><span style=\"color: #0000ff;\"><font size=\"+3\"><strong>Exercices</strong> </font> </span></p>\n",
    "\n",
    "------------------\n"
   ]
  },
  {
   "cell_type": "markdown",
   "metadata": {},
   "source": [
    "#  <span style=\"color: #0000ff;\"><font size=\"+2\"><strong> Plateau d'échecs</strong> </font> </span> \n"
   ]
  },
  {
   "cell_type": "markdown",
   "metadata": {},
   "source": [
    "On souhaite représenter un plateau d'échecs.  \n",
    "Traditionnellement, on représente une case de l'échiquier par une lettre (de A à H) \n",
    "suivie d'un chiffre (de 1 à 8). La lettre définit la colonne et le chiffre définit la ligne.\n",
    "\n",
    "- Faire un dictionnaire dont les clés seront des tuples contenant la lettre et le chiffre identifiant\n",
    "la case, auxquelles on associe comme valeurs le nom des pièces ?"
   ]
  },
  {
   "cell_type": "code",
   "execution_count": null,
   "metadata": {},
   "outputs": [],
   "source": [
    "echiquier = {}\n",
    "echiquier['a', 1] = \"tour blanche\" # En bas à gauche de l'échiquier\n",
    "echiquier['b', 1] = \"cavalier blanc\" # À droite de la tour\n",
    "echiquier['c', 1] = \"fou blanc\" # À droite du cavalier\n",
    "echiquier['d', 1] = \"reine blanche\" # À droite du fou\n",
    "\n",
    "# ... Première ligne des blancs\n",
    "echiquier['a', 2] = \"pion blanc\" # Devant la tour\n",
    "echiquier['b', 2] = \"pion blanc\" # Devant le cavalier, à droite du pion\n",
    "# ... Seconde ligne des blancs\n",
    "echiquier"
   ]
  },
  {
   "cell_type": "markdown",
   "metadata": {},
   "source": [
    ">**Remarque :** Dans cet exemple, nos tuples sont sous-entendus. \n",
    "On ne les place pas entre parenthèses. Python comprend qu'on veut créer des tuples, \n",
    "ce qui est bien, mais l'important est que vous le compreniez bien aussi.\n",
    "Certains cours encouragent à toujours placer des parenthèses autour des tuples quand on les utilise. \n",
    "Pour ma part, je pense que, si vous gardez à l'esprit qu'il s'agit de tuples, \n",
    "que vous n'avez aucune peine à l'identifier, cela suffit. Si vous faites la confusion, \n",
    "mettez des parenthèses autour des tuples en toutes circonstances."
   ]
  },
  {
   "cell_type": "code",
   "execution_count": null,
   "metadata": {},
   "outputs": [],
   "source": [
    "tuple0 = (0, 5.4, \"chaine\", True)\n",
    "print(tuple0)"
   ]
  },
  {
   "cell_type": "code",
   "execution_count": null,
   "metadata": {
    "jupyter": {
     "source_hidden": true
    }
   },
   "outputs": [],
   "source": [
    "frozenset0 = frozenset([0, 5.4, \"chaine\", True])"
   ]
  },
  {
   "cell_type": "code",
   "execution_count": null,
   "metadata": {
    "jupyter": {
     "source_hidden": true
    }
   },
   "outputs": [],
   "source": [
    "dict0[tuple0] = \"test\"\n",
    "dict0[frozenset0] = \"rest\""
   ]
  },
  {
   "cell_type": "markdown",
   "metadata": {
    "jupyter": {
     "source_hidden": true
    }
   },
   "source": [
    "d'où l'intérêt des frozensets. Comme pour les listes et les ensembles, il est possible de faire des compréhensions de dictionnaires:"
   ]
  },
  {
   "cell_type": "code",
   "execution_count": 18,
   "metadata": {},
   "outputs": [],
   "source": [
    "dict1 = {x: x**2 for x in range(5)}"
   ]
  },
  {
   "cell_type": "markdown",
   "metadata": {},
   "source": [
    "Une dernière chose intéressante avec les dictionnaires est l'unpaking illustré par l'exemple suivant:"
   ]
  },
  {
   "cell_type": "code",
   "execution_count": null,
   "metadata": {},
   "outputs": [],
   "source": [
    "def add(a=0, b=0):\n",
    "    return a + b\n",
    "d = {'a': 2, 'b': 3}\n",
    "add(**d)"
   ]
  },
  {
   "cell_type": "markdown",
   "metadata": {},
   "source": [
    "a) Comment définir un dictionnaire vide ?\n",
    "\n",
    "b) Comment concaténer plusieurs dictionnaire entre eux ?\n",
    "\n",
    "c) On considère une liste de mots:"
   ]
  },
  {
   "cell_type": "code",
   "execution_count": null,
   "metadata": {},
   "outputs": [],
   "source": [
    "mots = ['Abricot', 'Airelle', 'Ananas', 'Banane', 'Cassis', 'Cerise', 'Citron',\n",
    "'Clémentine', 'Coing', 'Datte', 'Fraise', 'Framboise', 'Grenade', 'Groseille',\n",
    "'Kaki', 'Kiwi', 'Litchi', 'Mandarine', 'Mangue', 'Melon', 'Mirabelle', 'Nectarine',\n",
    "'Orange', 'Pamplemousse', 'Papaye', 'Pêche', 'Poire', 'Pomme', 'Prune', 'Raisin']"
   ]
  },
  {
   "cell_type": "markdown",
   "metadata": {},
   "source": [
    "Écrire une fonction mots_position(mots, x, n) qui retourne la liste des mots ayant le caractère x comme n-ième lettre.\n",
    "\n",
    " Réponse\n",
    "\n",
    "d) En imaginant que la liste des mots soit très longue, alors à chaque évaluation de la fonction mots_position, l'ensemble des mots est parcouru ce qui prend pas mal de temps. Pour améliorer cela, construire un dictionnaire mots_dict ayant pour clefs les tuples (x,n) et comme valeurs la liste des mots ayant le caractère x comme n-ième lettre, c'est-à-dire tel que mots_dict[x,n] retourne la même chose que mots_position(mots, x , n) à l'ordre près. Ainsi la liste mots n'est parcourue qu'une seule fois lors de la construction du dictionnaire et ensuite l'évaluation du dictionnaire est extrêmement rapide pour n'importe quelle requête."
   ]
  },
  {
   "cell_type": "code",
   "execution_count": null,
   "metadata": {},
   "outputs": [],
   "source": [
    "a = {}\n",
    "a = {}\n",
    "a[\"nom\"] = \"engel\"\n",
    "a[\"prenom\"] = \"olivier\"\n",
    "a.get(\"name\")\n",
    "print (a)\n",
    "del a[\"nom\"]\n",
    "print (a)"
   ]
  },
  {
   "cell_type": "code",
   "execution_count": null,
   "metadata": {},
   "outputs": [],
   "source": [
    "dict0[list0] = \"test\"\n",
    "dict0[set0] = \"retest\""
   ]
  },
  {
   "cell_type": "markdown",
   "metadata": {},
   "source": [
    "Par contre il est possible d'avoir un tuple ou un frozenset comme clef:"
   ]
  }
 ],
 "metadata": {
  "kernelspec": {
   "display_name": "Python 3",
   "language": "python",
   "name": "python3"
  },
  "language_info": {
   "codemirror_mode": {
    "name": "ipython",
    "version": 3
   },
   "file_extension": ".py",
   "mimetype": "text/x-python",
   "name": "python",
   "nbconvert_exporter": "python",
   "pygments_lexer": "ipython3",
   "version": "3.6.8"
  }
 },
 "nbformat": 4,
 "nbformat_minor": 4
}
