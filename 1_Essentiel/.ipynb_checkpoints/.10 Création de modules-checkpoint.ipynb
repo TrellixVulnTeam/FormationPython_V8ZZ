{
 "cells": [
  {
   "cell_type": "markdown",
   "metadata": {},
   "source": [
    "<hr size=\"4\" color=\"blue\">\n",
    "<p style=\"text-align: center;\"><span style=\"color: #0000ff;\"><font size=\"+5\"><strong> 10 Création de modules </strong> </font></span> </p>\n",
    "<hr size=\"4\" color=\"blue\">"
   ]
  },
  {
   "cell_type": "markdown",
   "metadata": {},
   "source": [
    " ##  <span style=\"color: #0000ff;\"><font size=\"+2\"><strong>  10.1 Pourquoi créer ses propres modules ?  </strong> </font> </span>"
   ]
  },
  {
   "cell_type": "markdown",
   "metadata": {},
   "source": [
    "\n",
    "Dans le chapitre 8 Modules, nous avons découvert quelques modules existants dans Python comme random, math, etc. Nous avons vu par ailleurs dans les chapitres 9 Fonctions et 12 Plus sur les fonctions que les fonctions sont utiles pour réutiliser une fraction de code plusieurs fois au sein d'un même programme sans avoir à dupliquer ce code.  \n",
    "On peut imaginer qu'une fonction bien écrite pourrait être judicieusement réutilisée dans un autre programme Python. C'est justement l'intérêt de créer un module. On y met un ensemble de fonctions que l'on peut être amené à utiliser souvent. En général, les modules sont regroupés autour d'un thème précis. Par exemple, on pourrait concevoir un module d'analyse de séquences biologiques ou encore de gestion de fichiers PDB."
   ]
  },
  {
   "cell_type": "markdown",
   "metadata": {},
   "source": [
    " ##  <span style=\"color: #0000ff;\"><font size=\"+2\"><strong>  11.2 Création d'un module  </strong> </font> </span>"
   ]
  },
  {
   "cell_type": "markdown",
   "metadata": {},
   "source": [
    "En Python, la création d'un module est très simple. Il suffit d'écrire un ensemble de fonctions (et/ou de constantes) dans un fichier, puis d'enregistrer ce dernier avec une extension .py (comme n'importe quel script Python). À titre d'exemple, nous allons créer un module simple chargéd'afficher des messages que nous enregistrerons sous le nom message.py :"
   ]
  },
  {
   "cell_type": "code",
   "execution_count": 3,
   "metadata": {},
   "outputs": [],
   "source": [
    "DATE = 16092008\n",
    "\n",
    "\n",
    "def bonjour(nom):\n",
    "    \"\"\"Dit Bonjour.\"\"\"\n",
    "    return \"Bonjour \" + nom\n",
    "\n",
    "\n",
    "def ciao(nom):\n",
    "    \"\"\"Dit Ciao.\"\"\"\n",
    "    return \"Ciao \" + nom\n",
    "\n",
    "\n",
    "def hello(nom):\n",
    "    \"\"\"Dit Hello.\"\"\"\n",
    "    return \"Hello \" + nom"
   ]
  },
  {
   "cell_type": "markdown",
   "metadata": {},
   "source": [
    "Les chaînes de caractères entre triple guillemets en tête du module et en tête de chaque fonction sont facultatives mais elles jouent néanmoins un rôle essentiel dans la documentation du code.\n",
    "\n",
    " Remarque\n",
    "Une constante est, par définition, une variable dont la valeur n'est pas modifiée. Par convention en Python, le nom des constantes est écrit en majuscules (comme DATE dans notre exemple)."
   ]
  },
  {
   "cell_type": "markdown",
   "metadata": {},
   "source": [
    " ##  <span style=\"color: #0000ff;\"><font size=\"+2\"><strong>  11.3 utilisation de son propre module  </strong> </font> </span>"
   ]
  },
  {
   "cell_type": "markdown",
   "metadata": {},
   "source": [
    "Pour appeler une fonction ou une variable de ce module, il faut que le fichier message.py soit dans le répertoire courant (dans lequel on travaille) ou bien dans un répertoire listé par la variable d'environnement PYTHONPATH de votre système d'exploitation. Ensuite, il suffit d'importer le module et toutes ses fonctions (et constantes) vous sont alors accessibles.\n",
    "\n",
    " Remarque\n",
    "Avec Mac OS X et Linux, il faut taper la commande suivante depuis un shell Bash pour modifier la variable d'environnement PYTHONPATH :\n",
    "export PYTHONPATH=$PYTHONPATH:/chemin/vers/mon/super/module\n",
    "\n",
    "Avec Windows, mais depuis un shell PowerShell, il faut taper la commande suivante :\n",
    "$env:PYTHONPATH += \";C:\\chemin\\vers\\mon\\super\\module\"\n",
    "\n",
    "Une fois cette manipulation effectuée, vous pouvez contrôler que le chemin vers le répertoire contenant vos modules a bien été ajouté à la variable d'environnement PYTHONPATH :\n",
    "\n",
    "sous Mac OS X et Linux : echo $PYTHONPATH\n",
    "sous Windows : echo $env:PYTHONPATH\n",
    "Le chargement du module se fait avec la commande import message. Notez que le fichier est bien enregistré avec une extension .py et pourtant on ne la précise pas lorsqu'on importe le module. Ensuite, on peut utiliser les fonctions comme avec un module classique."
   ]
  },
  {
   "cell_type": "code",
   "execution_count": 2,
   "metadata": {},
   "outputs": [
    {
     "ename": "ModuleNotFoundError",
     "evalue": "No module named 'message'",
     "output_type": "error",
     "traceback": [
      "\u001b[0;31m---------------------------------------------------------------------------\u001b[0m",
      "\u001b[0;31mModuleNotFoundError\u001b[0m                       Traceback (most recent call last)",
      "\u001b[0;32m<ipython-input-2-7e34d0896688>\u001b[0m in \u001b[0;36m<module>\u001b[0;34m\u001b[0m\n\u001b[0;32m----> 1\u001b[0;31m \u001b[0;32mimport\u001b[0m \u001b[0mmessage\u001b[0m\u001b[0;34m\u001b[0m\u001b[0;34m\u001b[0m\u001b[0m\n\u001b[0m\u001b[1;32m      2\u001b[0m \u001b[0mmessage\u001b[0m\u001b[0;34m.\u001b[0m\u001b[0mhello\u001b[0m\u001b[0;34m(\u001b[0m\u001b[0;34m\"Joe\"\u001b[0m\u001b[0;34m)\u001b[0m\u001b[0;34m\u001b[0m\u001b[0;34m\u001b[0m\u001b[0m\n\u001b[1;32m      3\u001b[0m \u001b[0mmessage\u001b[0m\u001b[0;34m.\u001b[0m\u001b[0mciao\u001b[0m\u001b[0;34m(\u001b[0m\u001b[0;34m\"Bill\"\u001b[0m\u001b[0;34m)\u001b[0m\u001b[0;34m\u001b[0m\u001b[0;34m\u001b[0m\u001b[0m\n\u001b[1;32m      4\u001b[0m \u001b[0mmessage\u001b[0m\u001b[0;34m.\u001b[0m\u001b[0mbonjour\u001b[0m\u001b[0;34m(\u001b[0m\u001b[0;34m\"Monsieur\"\u001b[0m\u001b[0;34m)\u001b[0m\u001b[0;34m\u001b[0m\u001b[0;34m\u001b[0m\u001b[0m\n\u001b[1;32m      5\u001b[0m \u001b[0mmessage\u001b[0m\u001b[0;34m.\u001b[0m\u001b[0mDATE\u001b[0m\u001b[0;34m\u001b[0m\u001b[0;34m\u001b[0m\u001b[0m\n",
      "\u001b[0;31mModuleNotFoundError\u001b[0m: No module named 'message'"
     ]
    }
   ],
   "source": [
    "import message\n",
    "message.hello(\"Joe\")\n",
    "message.ciao(\"Bill\")\n",
    "message.bonjour(\"Monsieur\")\n",
    "message.DATE"
   ]
  },
  {
   "cell_type": "markdown",
   "metadata": {},
   "source": [
    " Remarque\n",
    "La première fois qu'un module est importé, Python crée un répertoire nommé __pycache__ contenant un fichier avec une extension .pyc qui contient le bytecode, c'est-à-dire le code précompilé du module."
   ]
  },
  {
   "cell_type": "markdown",
   "metadata": {},
   "source": [
    " ##  <span style=\"color: #0000ff;\"><font size=\"+2\"><strong>  14.4 Les docstrings  </strong> </font> </span>"
   ]
  },
  {
   "cell_type": "markdown",
   "metadata": {},
   "source": [
    "Lorsqu'on écrit un module, il est important de créer de la documentation pour expliquer ce que fait le module et comment utiliser chaque fonction. Les chaînes de caractères entre triple guillemets situées en début du module et de chaque fonction sont là pour cela, on les appelle docstrings (« chaînes de documentation » en français). Ces docstrings permettent notamment de fournir de l'aide lorsqu'on invoque la commande help() :"
   ]
  },
  {
   "cell_type": "code",
   "execution_count": null,
   "metadata": {},
   "outputs": [],
   "source": [
    ">>> help(message)"
   ]
  },
  {
   "cell_type": "markdown",
   "metadata": {},
   "source": [
    "Pour quitter l'aide, pressez la touche Q.\n",
    "\n",
    "Vous remarquez que Python a généré automatiquement cette page d'aide, tout comme il est capable de le faire pour les modules internes à Python (random, math, etc.) et ce grâce aux docstrings. Notez que l'on peut aussi appeler l'aide pour une seule fonction :"
   ]
  },
  {
   "cell_type": "code",
   "execution_count": null,
   "metadata": {},
   "outputs": [],
   "source": [
    ">>> help(message.ciao)"
   ]
  },
  {
   "cell_type": "markdown",
   "metadata": {},
   "source": [
    "En résumé, les docstrings sont destinés aux utilisateurs du module. Leur but est différent des commentaires qui, eux, sont destinés à celui qui lit le code (pour en comprendre les subtilités). Une bonne docstring de fonction doit contenir tout ce dont un utilisateur a besoin pour utiliser cette fonction. Une liste minimale et non exhaustive serait :\n",
    "\n",
    "ce que fait la fonction,\n",
    "ce qu'elle prend en argument,\n",
    "ce qu'elle renvoie.\n",
    "Pour en savoir plus sur les docstrings et comment les écrire, nous vous recommandons de lire le chapitre 15 Bonnes pratiques en programmation Python."
   ]
  },
  {
   "cell_type": "markdown",
   "metadata": {},
   "source": [
    " ##  <span style=\"color: #0000ff;\"><font size=\"+2\"><strong>  11.3 utilisation de son propre module   </strong> </font> </span>"
   ]
  },
  {
   "cell_type": "markdown",
   "metadata": {},
   "source": [
    "\n",
    "La visibilité des fonctions au sein des modules suit des règles simples :\n",
    "\n",
    "Les fonctions dans un même module peuvent s'appeler les unes les autres.\n",
    "\n",
    "Les fonctions dans un module peuvent appeler des fonctions situées dans un autre module s'il a été préalablement importé. Par exemple, si la commande import autremodule est utilisée dans un module, il est possible d'appeler une fonction avec autremodule.fonction().\n",
    "\n",
    "Toutes ces règles viennent de la manière dont Python gère les espaces de noms. De plus amples explications sont données sur ce concept dans le chapitre 19 Avoir la classe avec les objets."
   ]
  },
  {
   "cell_type": "markdown",
   "metadata": {},
   "source": [
    " ##  <span style=\"color: #0000ff;\"><font size=\"+2\"><strong>  10.3 module ou script  </strong> </font> </span>"
   ]
  },
  {
   "cell_type": "code",
   "execution_count": null,
   "metadata": {},
   "outputs": [],
   "source": [
    "Vous avez remarqué que notre module message ne contient que des fonctions et une constante. Si on l'exécutait comme un script classique, cela n'afficherait rien :\n",
    "\n",
    "\n",
    "$ python message.py\n",
    "$\n",
    "Cela s'explique par l'absence de programme principal, c'est-à-dire, de lignes de code que l'interpréteur exécute lorsqu'on lance le script.\n",
    "\n",
    "À l'inverse, que se passe-t-il alors si on importe un script en tant que module alors qu'il contient un programme principal avec des lignes de code ? Prenons par exemple le script message2.py suivant :\n",
    "\n",
    "\n",
    "\"\"\"Script de test.\"\"\"\n",
    "\n",
    "\n",
    "def bonjour(nom):\n",
    "    \"\"\"Dit Bonjour.\"\"\"\n",
    "    return \"Bonjour \" + nom\n",
    "\n",
    "\n",
    "# programme principal\n",
    "print(bonjour(\"Joe\"))\n",
    "Si on l'importe dans l'interpréteur, on obtient :\n",
    "\n",
    "\n",
    ">>> import message2\n",
    "Bonjour Joe\n",
    "Ceci n'est pas le comportement voulu pour un module car on n'attend pas d'affichage particulier (par exemple la commande import math n'affiche rien dans l'interpréteur).\n",
    "\n",
    "Afin de pouvoir utiliser un code Python en tant que module ou en tant que script, nous vous conseillons la structure suivante :\n",
    "\n",
    "\n",
    "\"\"\"Script de test.\"\"\"\n",
    "\n",
    "\n",
    "def bonjour(nom):\n",
    "    \"\"\"Dit Bonjour.\"\"\"\n",
    "    return \"Bonjour \" + nom\n",
    "\n",
    "\n",
    "if __name__ == \"__main__\":\n",
    "    print(bonjour(\"Joe\"))\n",
    "À la ligne 9, l'instruction if __name__ == \"__main__\": indique à Python :\n",
    "\n",
    "Si le programme message2.py est exécuté en tant que script dans un shell, le résultat du test if sera alors True et le bloc d'instructions correspondant (ligne 10) sera exécuté :\n",
    "\n",
    "$ python message2.py Bonjour Joe\n",
    "\n",
    "Si le programme message2.py est importé en tant que module, le résultat du test if sera alors False (et le bloc d'instructions correspondant ne sera pas exécuté) :\n",
    "\n",
    "`\n",
    "\n",
    "import message2\n",
    "\n",
    "`\n",
    "\n",
    "À nouveau, ce comportement est possible grâce à la gestion des espaces de noms par Python (pour plus détails, consultez le chapitre 19 Avoir la classe avec les objets).\n",
    "\n",
    "Au delà de la commodité de pouvoir utiliser votre script en tant que programme ou en tant que module, cela présente l'avantage de bien voir où se situe le programme principal quand on lit le code. Ainsi, plus besoin d'ajouter un commentaire # programme principal comme nous vous l'avions suggéré dans les chapitres 9 Fonctions et 12 Plus sur les fonctions. L'utilisation de la ligne if __name__ == \"__main__\": est une bonne pratique que nous vous recommandons !\n",
    "\n",
    "14.7 Exercice\n",
    "14.7.1 Module ADN\n",
    "Dans le script adn.py, construisez un module qui va contenir les fonctions et constantes suivantes.\n",
    "\n",
    "Fonction lit_fasta() : prend en argument un nom de fichier sous forme d'une chaîne de caractères et renvoie la séquence d'ADN lue dans le fichier sous forme d'une chaîne de caractères.\n",
    "Fonction seq_alea() : prend en argument une taille de séquence sous forme d'un entier et renvoie une séquence d'ADN de la taille correspondante sous forme d'une chaîne de caractères.\n",
    "Fonction comp_inv() : prend en argument une séquence d'ADN sous forme d'une chaîne de caractères et renvoie la séquence complémentaire inverse (aussi sous forme d'une chaîne de caractères).\n",
    "Fonction prop_gc() : prend en argument une séquence d'ADN sous forme d'une chaîne de caractères et renvoie la proportion en GC de la séquence sous forme d'un float. Nous vous rappelons que la proportion de GC s'obtient comme la somme des bases Guanine (G) et Cytosine (C) divisée par le nombre total de bases (A, T, C, G).\n",
    "\n",
    "Constante BASE_COMP : dictionnaire qui contient la complémentarité des bases d'ADN (A\n",
    "→\n",
    "T, T\n",
    "→\n",
    "C, G\n",
    "→\n",
    "C et C\n",
    "→\n",
    "G). Ce dictionnaire sera utilisé par la fonction comp_inv().\n",
    "\n",
    "À la fin de votre script, proposez des exemples d'utilisation des fonctions que vous aurez créées. Ces exemples d'utilisation ne devront pas être exécutés lorsque le script est chargé comme un module.\n",
    "\n",
    "Conseils :\n",
    "\n",
    "Dans cet exercice, on supposera que toutes les séquences sont manipulées comme des chaînes de caractères en majuscules.\n",
    "Pour les fonctions seq_alea() et comp_inv(), n'hésitez pas à jeter un œil aux exercices correspondants dans le chapitre 11 Plus sur les listes.\n",
    "Voici un exemple de fichier FASTA adn.fasta pour tester la fonction lit_fasta()."
   ]
  }
 ],
 "metadata": {
  "kernelspec": {
   "display_name": "Python 3",
   "language": "python",
   "name": "python3"
  },
  "language_info": {
   "codemirror_mode": {
    "name": "ipython",
    "version": 3
   },
   "file_extension": ".py",
   "mimetype": "text/x-python",
   "name": "python",
   "nbconvert_exporter": "python",
   "pygments_lexer": "ipython3",
   "version": "3.7.2"
  }
 },
 "nbformat": 4,
 "nbformat_minor": 4
}
