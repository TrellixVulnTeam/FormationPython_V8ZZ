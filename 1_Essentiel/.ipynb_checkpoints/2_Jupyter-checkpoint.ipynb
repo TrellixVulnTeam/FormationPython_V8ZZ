{
 "cells": [
  {
   "cell_type": "markdown",
   "metadata": {},
   "source": [
    "<hr size=\"4\" color=\"blue\">\n",
    "<p style=\"text-align: center;\"><span style=\"color: #0000ff;\"><font size=\"+5\"><strong> Jupyter </strong> </font></span> </p>\n",
    "<hr size=\"4\" color=\"blue\">"
   ]
  },
  {
   "cell_type": "markdown",
   "metadata": {},
   "source": [
    " ##  <span style=\"color: #0000ff;\"><font size=\"+2\"><strong>1 Définition</strong> </font> </span>\n",
    " "
   ]
  },
  {
   "cell_type": "markdown",
   "metadata": {},
   "source": [
    "<div style=\"border: 2px solid #1EF223; padding: 3px; background-color: #DEFFCD; -moz-border-radius-topleft: 5px; -moz-border-radius-topright: 5px; -moz-border-radius-bottomright: 5px; -moz-border-radius-bottomleft: 5px;\">\n",
    "\n",
    "Les notebooks Jupyter sont des cahiers électroniques qui, dans le même document, peuvent rassembler du texte, des images, des formules mathématiques et du code informatique exécutable. Ils sont manipulables interactivement dans un navigateur web.\n",
    "\n",
    "La cellule est l'élément de base d'un notebook Jupyter. Elle peut contenir du texte formaté au format Markdown ou du code informatique qui pourra être exécuté.\n",
    "    "
   ]
  },
  {
   "cell_type": "markdown",
   "metadata": {},
   "source": [
    " ##  <span style=\"color: #0000ff;\"><font size=\"+2\"><strong> 2 Utilisation de Jupyter : Jupyter Lab </strong> </font> </span>\n",
    " "
   ]
  },
  {
   "cell_type": "markdown",
   "metadata": {},
   "source": [
    "En 2018, le consortium Jupyter a lancé JupyterLab qui est un environnement complet d'analyse Python.\n",
    "L'interface proposée par JupyterLab est très riche. On peut y organiser un notebook Jupyter « classique » avec une figure en encart ou  un shell."
   ]
  },
  {
   "cell_type": "markdown",
   "metadata": {},
   "source": [
    " ### <span style=\"color: #0000ff;\"><font size=\"+1\"><strong> 2.1 Serveur Jupyter ( outil OSU) </strong> </font> </span>\n",
    " "
   ]
  },
  {
   "cell_type": "markdown",
   "metadata": {},
   "source": [
    " ### <span style=\"color: #0000ff;\"><font size=\"+0\"><strong> 2.1.1 le workspace </strong> </font> </span>\n",
    " "
   ]
  },
  {
   "cell_type": "markdown",
   "metadata": {},
   "source": [
    "\n",
    "Aller sur le site de l'[OSU](https://jupyter.osupytheas.fr/hub/login) puis entre vos identifiants"
   ]
  },
  {
   "cell_type": "markdown",
   "metadata": {},
   "source": [
    "    Une fois Jupyter Lab lancé, la fenêtre suivante, représentant le workspace, doit apparaitre dans un navigateur:"
   ]
  },
  {
   "cell_type": "markdown",
   "metadata": {},
   "source": [
    "<img src=\"./Figure/EcranAcceuilJupyter.png\" width=\"600\">"
   ]
  },
  {
   "cell_type": "markdown",
   "metadata": {},
   "source": [
    " ### <span style=\"color: #0000ff;\"><font size=\"+0\"><strong> 2.1.1 Le notebook </strong> </font> </span>\n",
    " "
   ]
  },
  {
   "cell_type": "markdown",
   "metadata": {},
   "source": [
    "Jupyter Lab permet essentiellement de traiter trois types de documents: les **notebooks**, les **scripts** et les **terminaux**.  \n",
    "- 1 Un notebook est constitué de cellules qui peuvent être évaluées de manière interactive à la demande ce qui permet une grande flexibilité peuvant contenir\n",
    " * soit du code \n",
    " * soit du texte au format Markdown. \n",
    "\n",
    "\n",
    "- 2 Un script Python est simplement un fichier texte contenant des instructions Python. Un script Python s'exécute en entier de A à Z et il n'est pas possible d'interagir interactivement avec lui pendant son exécution (à moins que cela n'ai été explicitement programmé). Pour exécuter un script python il est nécessaire d'ouvrir un terminal."
   ]
  },
  {
   "cell_type": "markdown",
   "metadata": {},
   "source": [
    " ### <span style=\"color: #0000ff;\"><font size=\"+1\"><strong> 3 Commandes de bases </strong> </font> </span>\n",
    " "
   ]
  },
  {
   "cell_type": "markdown",
   "metadata": {},
   "source": [
    " \n",
    "\n",
    "**Dans le Workspace :**\n",
    "* Créer un nouveau fichier: cliquer sur le bouton `PLUS` situé en haut à gauche, puis choisir le type de fichier à créer.\n",
    "\n",
    "* Renommer un fichier: cliquer avec le second bouton de la souris sur le titre du notebook (soit dans l'onglet, soit dans la liste des fichiers).\n",
    "\n",
    "**Dans le notebook :**\n",
    "* Inserer une cellule: bouton +\n",
    "\n",
    "* Changer le type de cellules: menu déroulant permettant de choisir entre \"Code\" et \"Markdown\".\n",
    "\n",
    "* Exécuter une cellule: bouton executer .\n",
    "\n",
    "* Exécuter un script: taper `python nomduscript.py` dans un terminal pour exécuter le script `nomduscript.py`.\n",
    "\n",
    "* Réorganiser les cellules: cliquer-déposer.\n",
    "\n",
    "* Juxtaposer des onglets: cliquer-déposer.\n",
    "\n",
    "\n",
    "\n",
    "La documentation détaillée de Jupyter Lab est disponible [ici](http://jupyterlab.readthedocs.io/en/stable/index.html).\n"
   ]
  },
  {
   "cell_type": "markdown",
   "metadata": {},
   "source": [
    " ### <span style=\"color: #0000ff;\"><font size=\"+1\"><strong> 4 Upload de fichier </strong> </font> </span>\n",
    " "
   ]
  },
  {
   "cell_type": "markdown",
   "metadata": {},
   "source": [
    "<img src=\"./Figure/UploadJupyter.png\" width=\"600\">"
   ]
  },
  {
   "cell_type": "markdown",
   "metadata": {},
   "source": [
    "<div style=\"border: 2px solid #C0392B; padding: 3px; background-color: #E6B0AA; -moz-border-radius-topleft: 5px; -moz-border-radius-topright: 5px; -moz-border-radius-bottomright: 5px; -moz-border-radius-bottomleft: 5px;\">\n",
    "    \n",
    "Ouvrez votre premier notebook en double cliquant sur le fichier : 3_Variable.npy\n"
   ]
  }
 ],
 "metadata": {
  "kernelspec": {
   "display_name": "Python 3",
   "language": "python",
   "name": "python3"
  },
  "language_info": {
   "codemirror_mode": {
    "name": "ipython",
    "version": 3
   },
   "file_extension": ".py",
   "mimetype": "text/x-python",
   "name": "python",
   "nbconvert_exporter": "python",
   "pygments_lexer": "ipython3",
   "version": "3.7.3"
  }
 },
 "nbformat": 4,
 "nbformat_minor": 4
}
