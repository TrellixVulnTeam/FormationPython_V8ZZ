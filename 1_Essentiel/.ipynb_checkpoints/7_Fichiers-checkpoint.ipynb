{
 "cells": [
  {
   "cell_type": "markdown",
   "metadata": {},
   "source": [
    "# <hr size=\"4\" color=\"blue\">\n",
    "<p style=\"text-align: center;\"><span style=\"color: #0000ff;\"><font size=\"+5\"><strong> 7 les fichiers textes  </strong> </font></span> </p>\n",
    "<hr size=\"4\" color=\"blue\">"
   ]
  },
  {
   "cell_type": "markdown",
   "metadata": {},
   "source": [
    " ##  <span style=\"color: #0000ff;\"><font size=\"+2\"><strong> 7.1 lecture dans les fichiers.</strong> </font> </span>\n",
    " "
   ]
  },
  {
   "cell_type": "markdown",
   "metadata": {},
   "source": [
    "<div style=\"border: 2px solid #1EF223; padding: 3px; background-color: #DEFFCD; -moz-border-radius-topleft: 5px; -moz-border-radius-topright: 5px; -moz-border-radius-bottomright: 5px; -moz-border-radius-bottomleft: 5px;\">\n",
    "    \n",
    "\n",
    "L'information a tfaiter peut-être stockée sous forme de texte dans des fichiers txt.\n",
    "Pour traiter cette information, vous devez le plus souvent lire ou écrire dans un ou plusieurs fichiers. \n",
    "Python possède pour cela de nombreux outils qui vous simplifient la vie."
   ]
  },
  {
   "cell_type": "markdown",
   "metadata": {},
   "source": [
    "<font size=\"+1\"> <span style=\"background:#E7E7E7;text-decoration: underline;\"><strong> readlines()\n",
    " </strong></span></font>  \n",
    " 1\n",
    "Avant de passer à un exemple concret, créez un fichier dans un éditeur de texte\n",
    "que vous enregistrerez dans votre répertoire courant avec le nom zoo.txt et le contenu suivant :"
   ]
  },
  {
   "cell_type": "markdown",
   "metadata": {},
   "source": [
    "girafe\n",
    "tigre\n",
    "singe\n",
    "souris"
   ]
  },
  {
   "cell_type": "markdown",
   "metadata": {},
   "source": [
    "Ensuite, testez le code suivant dans l'interpréteur Python :"
   ]
  },
  {
   "cell_type": "code",
   "execution_count": 10,
   "metadata": {},
   "outputs": [],
   "source": [
    "filin = open(\"Zoo.txt\", \"r\")"
   ]
  },
  {
   "cell_type": "markdown",
   "metadata": {},
   "source": [
    "L'instruction open() ouvre le fichier zoo.txt. Ce fichier est ouvert en lecture seule, comme l'indique le second argument r (pour read) de la fonction open(). Remarquez que le fichier n'est pas encore lu, mais simplement ouvert (un peu comme lorsqu'on ouvre un livre, mais qu'on ne l'a pas encore lu). Le curseur de lecture est prêt à lire le premier caractère du fichier. L'instruction open(\"zoo.txt\", \"r\") suppose que le fichier zoo.txt est dans le répertoire depuis lequel l'interpréteur Python a été lancé. Si ce n'est pas le cas, il faut préciser le chemin d'accès au fichier. Par exemple, /home/pierre/zoo.txt pour Linux ou Mac OS X ou C:\\Users\\pierre\\zoo.txt pour Windows."
   ]
  },
  {
   "cell_type": "code",
   "execution_count": 11,
   "metadata": {},
   "outputs": [
    {
     "name": "stdout",
     "output_type": "stream",
     "text": [
      "<_io.TextIOWrapper name='Zoo.txt' mode='r' encoding='UTF-8'>\n"
     ]
    }
   ],
   "source": [
    "print (filin)"
   ]
  },
  {
   "cell_type": "markdown",
   "metadata": {},
   "source": [
    " Lorsqu'on affiche le contenu de la variable filin, on se rend compte que Python la considère comme un objet de type fichier ouvert (ligne 3)."
   ]
  },
  {
   "cell_type": "code",
   "execution_count": 12,
   "metadata": {},
   "outputs": [
    {
     "data": {
      "text/plain": [
       "['girafe\\n', 'tigre\\n', 'singe\\n', 'souris']"
      ]
     },
     "execution_count": 12,
     "metadata": {},
     "output_type": "execute_result"
    }
   ],
   "source": [
    "filin.readlines()\n"
   ]
  },
  {
   "cell_type": "markdown",
   "metadata": {},
   "source": [
    "Nous utilisons à nouveau la syntaxe objet.méthode() (présentée dans le chapitre 3 Affichage). Ici la méthode .readlines() agit sur l'objet filin en déplaçant le curseur de lecture du début à la fin du fichier, puis elle renvoie une liste contenant toutes les lignes du fichier (dans notre analogie avec un livre, ceci correspondrait à lire toutes les lignes du livre)."
   ]
  },
  {
   "cell_type": "code",
   "execution_count": 13,
   "metadata": {},
   "outputs": [],
   "source": [
    "filin.close()"
   ]
  },
  {
   "cell_type": "markdown",
   "metadata": {},
   "source": [
    "Enfin, on applique la méthode .close() sur l'objet filin, ce qui, vous vous en doutez, ferme le fichier (ceci correspondrait à fermer le livre). Vous remarquerez que la méthode .close() ne renvoie rien mais modifie l'état de l'objet filin en fichier fermé."
   ]
  },
  {
   "cell_type": "code",
   "execution_count": 14,
   "metadata": {},
   "outputs": [
    {
     "ename": "ValueError",
     "evalue": "I/O operation on closed file.",
     "output_type": "error",
     "traceback": [
      "\u001b[0;31m---------------------------------------------------------------------------\u001b[0m",
      "\u001b[0;31mValueError\u001b[0m                                Traceback (most recent call last)",
      "\u001b[0;32m<ipython-input-14-ebc630c159d3>\u001b[0m in \u001b[0;36m<module>\u001b[0;34m()\u001b[0m\n\u001b[0;32m----> 1\u001b[0;31m \u001b[0mfilin\u001b[0m\u001b[0;34m.\u001b[0m\u001b[0mreadlines\u001b[0m\u001b[0;34m(\u001b[0m\u001b[0;34m)\u001b[0m\u001b[0;34m\u001b[0m\u001b[0;34m\u001b[0m\u001b[0m\n\u001b[0m",
      "\u001b[0;31mValueError\u001b[0m: I/O operation on closed file."
     ]
    }
   ],
   "source": [
    "filin.readlines()"
   ]
  },
  {
   "cell_type": "markdown",
   "metadata": {},
   "source": [
    "si on essaie de lire à nouveau les lignes du fichier, Python renvoie une erreur car il ne peut pas lire un fichier fermé (lignes 7 à 10)."
   ]
  },
  {
   "cell_type": "markdown",
   "metadata": {},
   "source": [
    "Voici maintenant un exemple complet de lecture d'un fichier avec Python."
   ]
  },
  {
   "cell_type": "code",
   "execution_count": 16,
   "metadata": {},
   "outputs": [
    {
     "data": {
      "text/plain": [
       "['girafe\\n', 'tigre\\n', 'singe\\n', 'souris']"
      ]
     },
     "execution_count": 16,
     "metadata": {},
     "output_type": "execute_result"
    }
   ],
   "source": [
    "filin = open(\"Zoo.txt\", \"r\")\n",
    "lignes = filin.readlines()\n",
    "lignes"
   ]
  },
  {
   "cell_type": "code",
   "execution_count": 20,
   "metadata": {},
   "outputs": [
    {
     "name": "stdout",
     "output_type": "stream",
     "text": [
      "girafe\n",
      "\n",
      "tigre\n",
      "\n",
      "singe\n",
      "\n",
      "souris\n"
     ]
    }
   ],
   "source": [
    "for l in lignes:\n",
    "    print(l)\n",
    "filin.close()"
   ]
  },
  {
   "cell_type": "markdown",
   "metadata": {},
   "source": [
    "Vous voyez qu'en cinq lignes de code, vous avez lu, parcouru le fichier et affiché son contenu.\n",
    "\n",
    " Remarque\n",
    "Chaque élément de la liste lignes est une chaîne de caractères. C'est en effet sous forme de chaînes de caractères que Python lit le contenu d'un fichier.\n",
    "Chaque élément de la liste lignes se termine par le caractère \\n. Ce caractère un peu particulier correspond au « saut de ligne » qui permet de passer d'une ligne à la suivante. Ceci est codé par un caractère spécial que l'on représente par \\n. Vous pourrez parfois rencontrer également la notation octale \\012. Dans la suite de cet ouvrage, nous emploierons aussi l'expression « retour à la ligne » que nous trouvons plus intuitive.\n",
    "Par défaut, l'instruction print() affiche quelque chose puis revient à la ligne. Ce retour à la ligne dû à print() se cumule alors avec celui de la fin de ligne (\\n) de chaque ligne du fichier et donne l'impression qu'une ligne est sautée à chaque fois.\n",
    "Il existe en Python le mot-clé with qui permet d'ouvrir et de fermer un fichier de manière efficace. Si pour une raison ou une autre l'ouverture ou la lecture du fichier conduit à une erreur, l'utilisation de with garantit la bonne fermeture du fichier, ce qui n'est pas le cas dans le code précédent. Voici donc le même exemple avec with :"
   ]
  },
  {
   "cell_type": "code",
   "execution_count": 21,
   "metadata": {},
   "outputs": [
    {
     "name": "stdout",
     "output_type": "stream",
     "text": [
      "girafe\n",
      "\n",
      "tigre\n",
      "\n",
      "singe\n",
      "\n",
      "souris\n"
     ]
    }
   ],
   "source": [
    "with open(\"Zoo.txt\", 'r') as filin:\n",
    "    lignes = filin.readlines()\n",
    "    for ligne in lignes:\n",
    "        print(ligne)"
   ]
  },
  {
   "cell_type": "markdown",
   "metadata": {},
   "source": [
    " **Remarque**  \n",
    "L'instruction with introduit un bloc d'indentation. C'est à l'intérieur de ce bloc que nous effectuons toutes les opérations sur le fichier.\n",
    "Une fois sorti du bloc d'indentation, Python fermera automatiquement le fichier. Vous n'avez donc plus besoin d’utiliser la méthode .close()."
   ]
  },
  {
   "cell_type": "markdown",
   "metadata": {},
   "source": [
    "<font size=\"+1\"> <span style=\"background:#E7E7E7;text-decoration: underline;\"><strong> read()\n",
    " </strong></span></font>  \n",
    " \n",
    "\n",
    "Il existe d'autres méthodes que .readlines() pour lire (et manipuler) un fichier. Par exemple, la méthode .read() lit tout le contenu d'un fichier et renvoie une chaîne de caractères unique."
   ]
  },
  {
   "cell_type": "code",
   "execution_count": 22,
   "metadata": {},
   "outputs": [
    {
     "name": "stdout",
     "output_type": "stream",
     "text": [
      "<_io.TextIOWrapper name='Zoo.txt' mode='r' encoding='UTF-8'>\n"
     ]
    }
   ],
   "source": [
    "with open(\"Zoo.txt\", \"r\") as filin:\n",
    "    filin.read()\n",
    "print(filin)"
   ]
  },
  {
   "cell_type": "markdown",
   "metadata": {},
   "source": [
    "<font size=\"+1\"> <span style=\"background:#E7E7E7;text-decoration: underline;\"><strong> readline()\n",
    " </strong></span></font>  \n",
    " \n",
    "La méthode .readline() (sans s à la fin) lit une ligne d'un fichier et la renvoie sous forme de chaîne de caractères. À chaque nouvel appel de .readline(), la ligne suivante est renvoyée. Associée à la boucle while, cette méthode permet de lire un fichier ligne par ligne."
   ]
  },
  {
   "cell_type": "code",
   "execution_count": 23,
   "metadata": {},
   "outputs": [
    {
     "name": "stdout",
     "output_type": "stream",
     "text": [
      "girafe\n",
      "\n",
      "tigre\n",
      "\n",
      "singe\n",
      "\n",
      "souris\n"
     ]
    }
   ],
   "source": [
    "with open(\"Zoo.txt\", \"r\") as filin:\n",
    "    ligne = filin.readline()\n",
    "    while ligne != \"\":\n",
    "        print(ligne)\n",
    "        ligne = filin.readline()"
   ]
  },
  {
   "cell_type": "markdown",
   "metadata": {},
   "source": [
    " ##  <span style=\"color: #0000ff;\"><font size=\"+2\"><strong> 7.1,4 Itérations directe sur les fichiers.</strong> </font> </span>\n",
    " "
   ]
  },
  {
   "cell_type": "markdown",
   "metadata": {},
   "source": [
    "Python essaie de vous faciliter la vie au maximum. Voici un moyen à la fois simple et élégant de parcourir un fichier."
   ]
  },
  {
   "cell_type": "code",
   "execution_count": 10,
   "metadata": {},
   "outputs": [
    {
     "name": "stdout",
     "output_type": "stream",
     "text": [
      "girafe\n",
      "\n",
      "tigre\n",
      "\n",
      "singe\n",
      "\n",
      "souris\n"
     ]
    }
   ],
   "source": [
    "with open(\"Zoo.txt\", \"r\") as filin:\n",
    "    for ligne in filin:\n",
    "        print(ligne)"
   ]
  },
  {
   "cell_type": "markdown",
   "metadata": {},
   "source": [
    "L'objet filin est « itérable », ainsi la boucle for va demander à Python d'aller lire le fichier ligne par ligne.\n",
    "\n",
    "**Conseils**\n",
    "Privilégiez cette méthode par la suite.\n",
    "\n",
    "**Remarque**  \n",
    "Les méthodes abordées précédemment permettent d'accéder au contenu d'un fichier, soit ligne par ligne (méthode .readline()), soit globalement en une seule chaîne de caractères (méthode .read()), soit globalement avec les lignes différenciées sous forme d'une liste de chaînes de caractères (méthode .readlines()). Il est également possible en Python de se rendre à un endroit particulier d'un fichier avec la méthode .seek() mais qui sort du cadre de cet ouvrage."
   ]
  },
  {
   "cell_type": "markdown",
   "metadata": {},
   "source": [
    " ##  <span style=\"color: #0000ff;\"><font size=\"+2\"><strong> 7.2 Ecriture dans un fichier</strong> </font> </span>\n",
    " "
   ]
  },
  {
   "cell_type": "markdown",
   "metadata": {},
   "source": [
    "Écrire dans un fichier est aussi simple que de le lire. Voyez l'exemple suivant :"
   ]
  },
  {
   "cell_type": "code",
   "execution_count": 24,
   "metadata": {},
   "outputs": [],
   "source": [
    "animaux2 = [\"poisson\", \"abeille\", \"chat\"]\n",
    "with open(\"zoo2.txt\", \"w\") as filout:\n",
    "    for animal in animaux2:\n",
    "        filout.write(animal)"
   ]
  },
  {
   "cell_type": "markdown",
   "metadata": {},
   "source": [
    "Quelques commentaires sur cet exemple :\n",
    "\n",
    "Ligne 1. Création d'une liste de chaînes de caractères animaux2.\n",
    "\n",
    "Ligne 2. Ouverture du fichier zoo2.txt en mode écriture, avec le caractère w pour write. L'instruction with crée un bloc d'instructions qui doit être indenté.\n",
    "\n",
    "Ligne 3. Parcours de la liste animaux2 avec une boucle for.\n",
    "\n",
    "Ligne 4. À chaque itération de la boucle, nous avons écrit chaque élément de la liste dans le fichier. La méthode .write() s'applique sur l'objet filout. Notez qu'à chaque utilisation de la méthode .write(), celle-ci nous affiche le nombre d'octets (équivalent au nombre de caractères) écrits dans le fichier (lignes 6 à 8). Ceci est valable uniquement dans l'interpréteur, si vous créez un programme avec les mêmes lignes de code, ces valeurs ne s'afficheront pas à l'écran."
   ]
  },
  {
   "cell_type": "markdown",
   "metadata": {},
   "source": [
    "Si nous ouvrons le fichier zoo2.txt avec un éditeur de texte, voici ce que nous obtenons :\n",
    "\n",
    "poissonabeillechat\n",
    "\n",
    "Ce n'est pas exactement le résultat attendu car implicitement nous voulions le nom de chaque animal sur une ligne. Nous avons oublié d'ajouter le caractère fin de ligne après chaque nom d'animal.\n",
    "\n",
    "Pour ce faire, nous pouvons utiliser l'écriture formatée :"
   ]
  },
  {
   "cell_type": "code",
   "execution_count": 25,
   "metadata": {},
   "outputs": [],
   "source": [
    "animaux2 = [\"poisson\", \"abeille\", \"chat\"]\n",
    "with open(\"zoo2.txt\", \"w\") as filout:\n",
    "    for animal in animaux2:\n",
    "        filout.write(\"{}\\n\".format(animal))"
   ]
  },
  {
   "cell_type": "markdown",
   "metadata": {},
   "source": [
    "- Ligne 4. L'écriture formatée vue au chapitre 3 Affichage permet d'ajouter un retour à la ligne (\\n) après le nom de chaque animal.\n",
    "\n",
    "- Lignes 6 à 8. Le nombre d'octets écrits dans le fichier est augmenté de 1 par rapport à l'exemple précédent car le caractère retour à la ligne compte pour un seul octet.\n",
    "\n",
    "Le contenu du fichier zoo2.txt est alors :\n",
    "\n",
    "\n",
    "poisson\n",
    "abeille\n",
    "chat\n",
    "Vous voyez qu'il est extrêmement simple en Python de lire ou d'écrire dans un fichier."
   ]
  },
  {
   "cell_type": "markdown",
   "metadata": {},
   "source": [
    " ##  <span style=\"color: #0000ff;\"><font size=\"+2\"><strong> 7.3 Ouvrir deux fichiers avec l'instruction with</strong> </font> </span>\n",
    " "
   ]
  },
  {
   "cell_type": "markdown",
   "metadata": {},
   "source": [
    "On peut avec l'instruction with ouvrir deux fichiers (ou plus) en même temps. Voyez l'exemple suivant :"
   ]
  },
  {
   "cell_type": "code",
   "execution_count": 26,
   "metadata": {},
   "outputs": [],
   "source": [
    "with open(\"Zoo.txt\", \"r\") as fichier1, open(\"zoo2.txt\", \"w\") as fichier2:\n",
    "    for ligne in fichier1:\n",
    "        fichier2.write(\"* \" + ligne)\n",
    " "
   ]
  },
  {
   "cell_type": "markdown",
   "metadata": {},
   "source": [
    "\n",
    "Dans cet exemple, with permet une notation très compacte.\n",
    "\n",
    "Si vous souhaitez aller plus loin, sachez que l'instruction with est plus générale et est utilisable dans d'autres contextes."
   ]
  },
  {
   "cell_type": "markdown",
   "metadata": {},
   "source": [
    "**Remarque**\n",
    "> Note sur les retours à la ligne sous Unix et sous Windows\n",
    "Conseil : si vous êtes débutant, vous pouvez sauter cette rubrique.\n",
    "On a vu plus haut que le caractère spécial \\n correspondait à un retour à la ligne. C'est le standard sous Unix (Mac OS X et Linux).\n",
    "Toutefois, Windows utilise deux caractères spéciaux pour le retour à la ligne : \\r correspondant à un retour chariot (hérité des machines à écrire) et \\n comme sous Unix.\n",
    "Si vous avez commencé à programmer en Python 2, vous aurez peut-être remarqué que selon les versions, la lecture de fichier supprimait parfois les \\r et d'autres fois les laissait. Heureusement, la fonction open() dans Python 3 gère tout ça automatiquement et renvoie uniquement des sauts de ligne sous forme d'un seul \\n (même si le fichier a été conçu sous Windows et qu'il contient initialement des \\r)."
   ]
  },
  {
   "cell_type": "markdown",
   "metadata": {},
   "source": [
    "> Importance des conversions de types avec les fichiers\n",
    "Vous avez sans doute remarqué que les méthodes qui lisent un fichier (par exemple .readlines()) vous renvoient systématiquement des chaînes de caractères. De même, pour écrire dans un fichier il faut fournir une chaîne de caractères à la méthode .write().\n",
    "Pour tenir compte de ces contraintes, il faudra utiliser les fonctions de conversions de types vues au chapitre 2 Variables : int(), float() et str(). Ces fonctions de conversion sont essentielles lorsqu'on lit ou écrit des nombres dans un fichier.\n",
    "En effet, les nombres dans un fichier sont considérés comme du texte, donc comme des chaînes de caractères, par la méthode .readlines(). Par conséquent, il faut les convertir (en entier ou en float) si on veut effectuer des opérations numériques avec."
   ]
  },
  {
   "cell_type": "markdown",
   "metadata": {},
   "source": [
    "> Du respect des formats de données et de fichiers\n",
    "Maintenant que vous savez lire et écrire des fichiers en Python, vous êtes capables de manipuler beaucoup d'information en biologie. Prenez garde cependant aux formats de fichiers, c'est-à-dire à la manière dont est stockée l'information biologique dans des fichiers. Nous vous renvoyons pour cela à l'annexe A Quelques formats de données rencontrés en biologie."
   ]
  },
  {
   "cell_type": "markdown",
   "metadata": {},
   "source": [
    "<p style=\"text-align: center;\"><span style=\"color: #0000ff;\"><font size=\"+3\"><strong>Exercices</strong> </font> </span></p>"
   ]
  },
  {
   "cell_type": "markdown",
   "metadata": {},
   "source": [
    "Conseil : pour ces exercices, créez des scripts puis exécutez-les dans un shell."
   ]
  },
  {
   "cell_type": "markdown",
   "metadata": {},
   "source": [
    " ##  <span style=\"color: #0000ff;\"><font size=\"+2\"><strong> 1. Moyenne des notes</strong> </font> </span>\n",
    " "
   ]
  },
  {
   "cell_type": "markdown",
   "metadata": {},
   "source": [
    "- **Creer un fichier notes.txt** qui contient les notes obtenues par des étudiants pour le cours de Python. Chaque ligne du fichier ne contient qu'une note.\n",
    "\n",
    "- **Téléchargez le fichier notes.txt** et enregistrez-le dans votre répertoire de travail.\n",
    "\n",
    "- **Créez un script Python** qui lit chaque ligne de ce fichier, extrait les notes sous forme de float et les stocke dans une liste.\n",
    "\n",
    "- Terminez le script **en calculant et affichant la moyenne** des notes avec deux décimales."
   ]
  },
  {
   "cell_type": "code",
   "execution_count": 31,
   "metadata": {},
   "outputs": [
    {
     "name": "stdout",
     "output_type": "stream",
     "text": [
      "[10.0]\n",
      "[10.0, 12.0]\n",
      "[10.0, 12.0, 10.5]\n",
      "[10.0, 12.0, 10.5, 13.0]\n",
      "[10.0, 12.0, 10.5, 13.0, 3.0]\n",
      "[10.0, 12.0, 10.5, 13.0, 3.0, 18.0]\n",
      "11.083333333333334\n"
     ]
    }
   ],
   "source": [
    "with open('notes.txt','r') as notes:\n",
    "    notesclasse=notes.readlines()\n",
    "    notespourcalcul=[]\n",
    "    for n in notesclasse:\n",
    "        notespourcalcul.append(float(n))\n",
    "        print(notespourcalcul)\n",
    "    print(sum(notespourcalcul)/len(notespourcalcul))"
   ]
  },
  {
   "cell_type": "markdown",
   "metadata": {},
   "source": [
    " ##  <span style=\"color: #0000ff;\"><font size=\"+2\"><strong>2.  Admis ou recalé   </strong> </font> </span>\n",
    " "
   ]
  },
  {
   "cell_type": "markdown",
   "metadata": {},
   "source": [
    "\n",
    "Le script réécrira ensuite les notes dans le fichier notes2.txt avec une note par ligne suivie de « recalé » si la note est inférieure à 10 et « admis » si la note est supérieure ou égale à 10. Toutes les notes seront écrites avec une décimale. À titre d'exemple, voici les 3 premières lignes attendues pour le fichier notes2.txt :\n",
    "\n",
    "\n",
    "13.5 admis  \n",
    "17.0 admis  \n",
    "9.5 recalé"
   ]
  },
  {
   "cell_type": "code",
   "execution_count": 37,
   "metadata": {},
   "outputs": [
    {
     "name": "stdout",
     "output_type": "stream",
     "text": [
      "[10.0, 'admis\\n', 12.0, 'admis\\n', 10.5, 'admis\\n', 13.0, 'admis\\n', 3.0, 'recalé\\n', 18.0, 'admis\\n']\n"
     ]
    }
   ],
   "source": [
    "with open('notes.txt','r') as notes:\n",
    "    notesclasse=notes.readlines()\n",
    "    notespourcalcul=[]\n",
    "    for n in notesclasse:\n",
    "        notespourcalcul.append(float(n))\n",
    "        if float(n)>=10:\n",
    "            notespourcalcul.append('admis\\n')\n",
    "        else :\n",
    "            notespourcalcul.append('recalé\\n')\n",
    "    print(notespourcalcul)\n",
    "    with open(\"notesmodif.txt\", \"w\") as filout:\n",
    "        for ligne in notespourcalcul:\n",
    "            filout.write(\" \" + str(ligne))\n",
    "    \n",
    "   \n",
    "        "
   ]
  },
  {
   "cell_type": "code",
   "execution_count": null,
   "metadata": {},
   "outputs": [],
   "source": []
  }
 ],
 "metadata": {
  "kernelspec": {
   "display_name": "Python 3",
   "language": "python",
   "name": "python3"
  },
  "language_info": {
   "codemirror_mode": {
    "name": "ipython",
    "version": 3
   },
   "file_extension": ".py",
   "mimetype": "text/x-python",
   "name": "python",
   "nbconvert_exporter": "python",
   "pygments_lexer": "ipython3",
   "version": "3.7.3"
  }
 },
 "nbformat": 4,
 "nbformat_minor": 4
}
