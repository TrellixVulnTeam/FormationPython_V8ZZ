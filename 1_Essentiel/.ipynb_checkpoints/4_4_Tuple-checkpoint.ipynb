{
 "cells": [
  {
   "cell_type": "markdown",
   "metadata": {},
   "source": [
    "<hr size=\"4\" color=\"blue\">\n",
    "<p style=\"text-align: center;\"><span style=\"color: #0000ff;\"><font size=\"+5\"><strong> 5 Les Tuples </strong> </font></span> </p>\n",
    "<hr size=\"4\" color=\"blue\">"
   ]
  },
  {
   "cell_type": "markdown",
   "metadata": {},
   "source": [
    "<div style=\"border: 2px solid #1EF223; padding: 3px; background-color: #DEFFCD; -moz-border-radius-topleft: 5px; -moz-border-radius-topright: 5px; -moz-border-radius-bottomright: 5px; -moz-border-radius-bottomleft: 5px;\">\n",
    "    Les tuples permettant tout comme les listes de stocker des éléments hétérogènes:"
   ]
  },
  {
   "cell_type": "code",
   "execution_count": 1,
   "metadata": {},
   "outputs": [
    {
     "name": "stdout",
     "output_type": "stream",
     "text": [
      "(0, 5.4, 'chaine', True)\n"
     ]
    }
   ],
   "source": [
    "tuple0 = (0, 5.4, \"chaine\", True)\n",
    "print(tuple0)"
   ]
  },
  {
   "cell_type": "markdown",
   "metadata": {},
   "source": [
    "<div style=\"border: 2px solid #FF3A37; padding: 3px; background-color: #FFC1C0; -moz-border-radius-topleft: 5px; -moz-border-radius-topright: 5px; -moz-border-radius-bottomright: 5px; -moz-border-radius-bottomleft: 5px;\">\n",
    "    \n",
    "Au contraire des listes, les tuples ne sont pas mutables. Il n'est pas possible de modifier un élément, d'en rajouter un ou d'en supprimer un sans redéfinir tout le tuple. "
   ]
  },
  {
   "cell_type": "markdown",
   "metadata": {},
   "source": [
    "L'avantage d'un tuple sur une liste est que un tuple est hashable, c'est-à-dire qu'il peut être utilisé comme clé dans un dictionnaire."
   ]
  },
  {
   "cell_type": "markdown",
   "metadata": {},
   "source": [
    "Un tuple, c'est comme une liste, sauf que les éléments ne peuvent pas être changés (non mutable) :"
   ]
  },
  {
   "cell_type": "code",
   "execution_count": 2,
   "metadata": {},
   "outputs": [
    {
     "ename": "TypeError",
     "evalue": "'tuple' object does not support item assignment",
     "output_type": "error",
     "traceback": [
      "\u001b[0;31m---------------------------------------------------------------------------\u001b[0m",
      "\u001b[0;31mTypeError\u001b[0m                                 Traceback (most recent call last)",
      "\u001b[0;32m<ipython-input-2-4b73c4fd75c5>\u001b[0m in \u001b[0;36m<module>\u001b[0;34m()\u001b[0m\n\u001b[1;32m      1\u001b[0m \u001b[0mt\u001b[0m \u001b[0;34m=\u001b[0m \u001b[0;34m(\u001b[0m\u001b[0;34m'a'\u001b[0m\u001b[0;34m,\u001b[0m \u001b[0;34m'b'\u001b[0m\u001b[0;34m)\u001b[0m\u001b[0;34m\u001b[0m\u001b[0;34m\u001b[0m\u001b[0m\n\u001b[0;32m----> 2\u001b[0;31m \u001b[0mt\u001b[0m\u001b[0;34m[\u001b[0m\u001b[0;36m0\u001b[0m\u001b[0;34m]\u001b[0m \u001b[0;34m=\u001b[0m \u001b[0;34m'c'\u001b[0m\u001b[0;34m\u001b[0m\u001b[0;34m\u001b[0m\u001b[0m\n\u001b[0m",
      "\u001b[0;31mTypeError\u001b[0m: 'tuple' object does not support item assignment"
     ]
    }
   ],
   "source": [
    "t = ('a', 'b')\n",
    "t[0] = 'c' "
   ]
  },
  {
   "cell_type": "markdown",
   "metadata": {},
   "source": [
    "**Intérêt des tuples** : ils peuvent être utilisés comme clefs dans les dictionnaires, alors que les listes ne le peuvent pas."
   ]
  },
  {
   "cell_type": "markdown",
   "metadata": {},
   "source": [
    "Définition d'un tuple :"
   ]
  },
  {
   "cell_type": "code",
   "execution_count": 3,
   "metadata": {},
   "outputs": [],
   "source": [
    "t = ('a', 'b', 2)"
   ]
  },
  {
   "cell_type": "markdown",
   "metadata": {},
   "source": [
    "tuple à 0 élément :"
   ]
  },
  {
   "cell_type": "code",
   "execution_count": 4,
   "metadata": {},
   "outputs": [],
   "source": [
    " t = ()"
   ]
  },
  {
   "cell_type": "markdown",
   "metadata": {},
   "source": [
    "tuple à 1 élément : "
   ]
  },
  {
   "cell_type": "code",
   "execution_count": 5,
   "metadata": {},
   "outputs": [],
   "source": [
    "t = ('a',) \n",
    "t = 'a', #avec la virgule dans les 2 cas !"
   ]
  },
  {
   "cell_type": "markdown",
   "metadata": {},
   "source": [
    "tuple à 2 éléments :"
   ]
  },
  {
   "cell_type": "code",
   "execution_count": 6,
   "metadata": {},
   "outputs": [],
   "source": [
    " t = ('a', 'b')"
   ]
  },
  {
   "cell_type": "markdown",
   "metadata": {},
   "source": [
    " ou"
   ]
  },
  {
   "cell_type": "code",
   "execution_count": 7,
   "metadata": {},
   "outputs": [],
   "source": [
    " t = 'a', 'b'"
   ]
  },
  {
   "cell_type": "markdown",
   "metadata": {},
   "source": [
    "On accède au 2ème élément par(comme pour les listes)."
   ]
  },
  {
   "cell_type": "code",
   "execution_count": 8,
   "metadata": {},
   "outputs": [
    {
     "data": {
      "text/plain": [
       "'b'"
      ]
     },
     "execution_count": 8,
     "metadata": {},
     "output_type": "execute_result"
    }
   ],
   "source": [
    "t[1] "
   ]
  },
  {
   "cell_type": "markdown",
   "metadata": {},
   "source": [
    "On peut :\n",
    "- **faire une liste de tuples** :\n",
    "                                  "
   ]
  },
  {
   "cell_type": "code",
   "execution_count": 11,
   "metadata": {},
   "outputs": [
    {
     "name": "stdout",
     "output_type": "stream",
     "text": [
      "1\n",
      "2\n",
      "3\n",
      "4\n",
      "5\n",
      "6\n"
     ]
    }
   ],
   "source": [
    "myList = [(1, 2), (3, 4), (5, 6)]\n",
    "for (x, y) in myList:\n",
    "    print(x)\n",
    "    print(y)\n",
    " "
   ]
  },
  {
   "cell_type": "markdown",
   "metadata": {},
   "source": [
    "- **échanger les valeurs de 2 variables** :"
   ]
  },
  {
   "cell_type": "code",
   "execution_count": 29,
   "metadata": {},
   "outputs": [
    {
     "name": "stdout",
     "output_type": "stream",
     "text": [
      "(2, 3)\n",
      "(3, 2)\n"
     ]
    }
   ],
   "source": [
    "a=2\n",
    "b=3\n",
    "print((a, b))\n",
    "(a, b) = (b, a)\n",
    "print((a, b))"
   ]
  },
  {
   "cell_type": "markdown",
   "metadata": {},
   "source": [
    "- **tuples de compréhension :**\n"
   ]
  },
  {
   "cell_type": "code",
   "execution_count": 30,
   "metadata": {},
   "outputs": [
    {
     "data": {
      "text/plain": [
       "(1, 4, 9, 16)"
      ]
     },
     "execution_count": 30,
     "metadata": {},
     "output_type": "execute_result"
    }
   ],
   "source": [
    "tuple(x ** 2 for x in [1, 2, 3, 4])\n",
    "    "
   ]
  },
  {
   "cell_type": "markdown",
   "metadata": {},
   "source": [
    "- **Vous pouvez également créer un tuple à partir d’une chaîne de caractère.**  \n",
    "Chaque caractère de la chaîne devient un élément du tuple.  \n",
    "Par exemple:"
   ]
  },
  {
   "cell_type": "code",
   "execution_count": 31,
   "metadata": {},
   "outputs": [
    {
     "name": "stdout",
     "output_type": "stream",
     "text": [
      "('a', 'b', 'a', 'c')\n"
     ]
    }
   ],
   "source": [
    "t4 = tuple(\"abac\")\n",
    "print(t4)"
   ]
  },
  {
   "cell_type": "markdown",
   "metadata": {},
   "source": [
    "La liste ci-dessous résume les opérations utilisées avec les tuples.\n",
    "\n",
    "- x in s : Vrai si l’élément x est dans le tuple s.\n",
    "- x not in s : Vrai si l’élément x ne figure pas dans le tuple s.\n",
    "- s1 + s2 : Concaténer deux tuples s1 et s2.\n",
    "- s * n, n * s : Crée un tuple composé de n copies concaténées de s.\n",
    "- s[i] : Elément d’indice i dans le tuple s.\n",
    "- s[i : j] : Tranche du tuple s dès l’indice i à l’indice j – 1.\n",
    "- len(s) : Le nombre d’éléments dans le tuple s.\n",
    "- min(s) : Le plus petit élément dans le tuple s.\n",
    "- max(s) : Le plus grand élément dans le tuple s.\n",
    "- sum(s) : Somme de tous les éléments de s.\n",
    "- Boucle for : Traverse les éléments du tuple s de gauche à droite.\n",
    "- <, <=, >, >=, =, != : Compare deux tuples\n",
    "- Vous pouvez utiliser les fonctions len, min, max, et sum sur un tuple.\n",
    "\n",
    "- Vous pouvez utiliser une boucle for pour parcourir tous les éléments d’un tuple, et aussi accéder aux éléments ou plages d’éléments (tranches).\n",
    "\n",
    "- Vous pouvez utiliser les opérateurs in et not in afin de déterminer si un élément est dans un tuple ou pas. L’exemple suivant illustre les différents opérateurs ci-dessus."
   ]
  },
  {
   "cell_type": "code",
   "execution_count": 32,
   "metadata": {},
   "outputs": [
    {
     "name": "stdout",
     "output_type": "stream",
     "text": [
      "('green', 'red', 'blue')\n",
      "(7, 1, 2, 23, 4, 5)\n",
      "la longueur est  6\n",
      "le maximum est  23\n",
      "le minimum est  1\n",
      "la somme est  42\n",
      "Le premier élément est 7\n",
      "('green', 'red', 'blue', 7, 1, 2, 23, 4, 5)\n",
      "('green', 'red', 'blue', 'green', 'red', 'blue')\n",
      "(2, 23)\n",
      "blue\n",
      "True\n",
      "green red blue (1, 2, 4, 5, 7, 23)\n",
      "True\n",
      "False\n"
     ]
    }
   ],
   "source": [
    "tuple1 = (\"green\", \"red\", \"blue\") # Crée un tuple\n",
    "print(tuple1)\n",
    "tuple2 = tuple([7, 1, 2, 23, 4, 5]) # Crée un tuple à partir d’une liste\n",
    "print(tuple2)\n",
    "print(\"la longueur est \", len(tuple2)) # Afficher la longueur\n",
    "print(\"le maximum est \", max(tuple2)) # Afficher le maximum\n",
    "print(\"le minimum est \", min(tuple2)) # Afficher le minimum\n",
    "print(\"la somme est \", sum(tuple2)) # Afficher la somme\n",
    "print(\"Le premier élément est\", tuple2[0]) # Afficher le premier élément\n",
    "tuple3 = tuple1 + tuple2 # Combiner deux tuples\n",
    "print(tuple3)\n",
    "tuple3 = 2 * tuple1 # Dupliquer un tuple\n",
    "print(tuple3)\n",
    "print(tuple2[2 : 4]) # afficher une tranche d’un tuple\n",
    "print(tuple1[-1]) # afficher le dernier élément\n",
    "print(2 in tuple2) # l’opérateur in\n",
    "for v in tuple1:\n",
    "   print(v, end = ' ')\n",
    "list1 = list(tuple2) # convertir un tuple en une liste\n",
    "list1.sort()\n",
    "tuple4 = tuple(list1)\n",
    "tuple5 = tuple(list1)\n",
    "print(tuple4)\n",
    "print(tuple4 == tuple5) # Comparer deux tuples\n",
    "print(tuple4 >tuple2)# Comparer tuple2 et tuple4. tuple2 = (7, 1, 2, 23, 4, 5) et tuple4=(1, 2, 4, 5, 7, 23)."
   ]
  },
  {
   "cell_type": "code",
   "execution_count": null,
   "metadata": {},
   "outputs": [],
   "source": []
  }
 ],
 "metadata": {
  "kernelspec": {
   "display_name": "Python 3",
   "language": "python",
   "name": "python3"
  },
  "language_info": {
   "codemirror_mode": {
    "name": "ipython",
    "version": 3
   },
   "file_extension": ".py",
   "mimetype": "text/x-python",
   "name": "python",
   "nbconvert_exporter": "python",
   "pygments_lexer": "ipython3",
   "version": "3.7.3"
  }
 },
 "nbformat": 4,
 "nbformat_minor": 4
}
