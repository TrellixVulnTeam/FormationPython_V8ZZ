{
 "cells": [
  {
   "cell_type": "markdown",
   "metadata": {},
   "source": [
    "<hr size=\"4\" color=\"blue\">\n",
    "<p style=\"text-align: center;\"><span style=\"color: #0000ff;\"><font size=\"+5\"><strong> 6 Tests </strong> </font></span> </p>\n",
    "<hr size=\"4\" color=\"blue\">"
   ]
  },
  {
   "cell_type": "markdown",
   "metadata": {},
   "source": [
    " ##  <span style=\"color: #0000ff;\"><font size=\"+2\"><strong>6.1 Définition</strong> </font> </span>\n",
    " "
   ]
  },
  {
   "cell_type": "markdown",
   "metadata": {},
   "source": [
    "<div style=\"border: 2px solid #1EF223; padding: 3px; background-color: #DEFFCD; -moz-border-radius-topleft: 5px; -moz-border-radius-topright: 5px; -moz-border-radius-bottomright: 5px; -moz-border-radius-bottomleft: 5px;\">\n",
    "Les tests sont un élément essentiel à tout langage informatique si on veut lui donner un peu de complexité car ils permettent à l'ordinateur de prendre des décisions. Pour cela, Python utilise l'instruction if ainsi qu'une comparaison que nous avons abordée au chapitre précédent. "
   ]
  },
  {
   "cell_type": "markdown",
   "metadata": {},
   "source": [
    "Voici un premier exemple :"
   ]
  },
  {
   "cell_type": "code",
   "execution_count": 1,
   "metadata": {},
   "outputs": [
    {
     "name": "stdout",
     "output_type": "stream",
     "text": [
      "Le test est vrai !\n"
     ]
    }
   ],
   "source": [
    "x = 2\n",
    "if x == 2:\n",
    "    print(\"Le test est vrai !\")"
   ]
  },
  {
   "cell_type": "markdown",
   "metadata": {},
   "source": [
    "et un second :"
   ]
  },
  {
   "cell_type": "code",
   "execution_count": 2,
   "metadata": {},
   "outputs": [],
   "source": [
    "x = \"souris\"\n",
    "if x == \"tigre\":\n",
    "    print(\"Le test est vrai !\")"
   ]
  },
  {
   "cell_type": "markdown",
   "metadata": {},
   "source": [
    "Il y a plusieurs remarques à faire concernant ces deux exemples :\n",
    "\n",
    "- Dans le premier exemple, le test étant vrai, l'instruction print(\"Le test est vrai !\") est exécutée.\n",
    "- Dans le second exemple, le test est faux et rien n'est affiché."
   ]
  },
  {
   "cell_type": "markdown",
   "metadata": {},
   "source": [
    "<div style=\"border: 2px solid #C0392B; padding: 3px; background-color: #E6B0AA; -moz-border-radius-topleft: 5px; -moz-border-radius-topright: 5px; -moz-border-radius-bottomright: 5px; -moz-border-radius-bottomleft: 5px;\">\n",
    "    \n",
    "\n",
    "Les blocs d'instructions dans les tests doivent forcément être indentés comme pour les boucles for et while. L'indentation indique la portée des instructions à exécuter si le test est vrai.\n",
    "Comme avec les boucles for et while, la ligne qui contient l'instruction if se termine par le caractère deux-points « :»."
   ]
  },
  {
   "cell_type": "markdown",
   "metadata": {},
   "source": [
    "Parfois, il est pratique de tester si la condition est vraie ou si elle est fausse dans une même instruction if. Plutôt que d'utiliser deux instructions if, on peut se servir des instructions if et else :"
   ]
  },
  {
   "cell_type": "code",
   "execution_count": 3,
   "metadata": {},
   "outputs": [
    {
     "name": "stdout",
     "output_type": "stream",
     "text": [
      "Le test est vrai !\n"
     ]
    }
   ],
   "source": [
    "x = 2\n",
    "if x == 2:\n",
    "    print(\"Le test est vrai !\")\n",
    "else:\n",
    "    print(\"Le test est faux !\")"
   ]
  },
  {
   "cell_type": "code",
   "execution_count": 4,
   "metadata": {},
   "outputs": [
    {
     "name": "stdout",
     "output_type": "stream",
     "text": [
      "Le test est faux !\n"
     ]
    }
   ],
   "source": [
    "x = 3\n",
    "if x == 2:\n",
    "    print(\"Le test est vrai !\")\n",
    "else:\n",
    "    print(\"Le test est faux !\")"
   ]
  },
  {
   "cell_type": "markdown",
   "metadata": {},
   "source": [
    "    \n",
    "On peut utiliser une série de tests dans la même instruction if, \n",
    "notamment pour tester plusieurs valeurs d'une même variable.\n",
    "\n",
    "Par exemple, on se propose de tirer au sort une base d'ADN puis d'afficher le nom de cette dernière.\n",
    "Dans le code suivant, nous utilisons l'instruction random.choice(liste) qui renvoie un élément choisi au hasard \n",
    "dans une liste. L'instruction import random sera vue plus tard dans le chapitre 8 Modules, \n",
    "admettez pour le moment qu'elle est nécessaire."
   ]
  },
  {
   "cell_type": "code",
   "execution_count": 5,
   "metadata": {},
   "outputs": [
    {
     "name": "stdout",
     "output_type": "stream",
     "text": [
      "choix d'une guanine\n"
     ]
    }
   ],
   "source": [
    "import random\n",
    "base = random.choice([\"a\", \"t\", \"c\", \"g\"])\n",
    "if base == \"a\":\n",
    "    print(\"choix d'une adénine\")\n",
    "elif base == \"t\":\n",
    "    print(\"choix d'une thymine\")\n",
    "elif base == \"c\":\n",
    "    print(\"choix d'une cytosine\")\n",
    "elif base == \"g\":\n",
    "    print(\"choix d'une guanine\")\n",
    "\n",
    "    "
   ]
  },
  {
   "cell_type": "markdown",
   "metadata": {},
   "source": [
    "Dans cet exemple, Python teste la première condition, puis, si et seulement si elle est fausse, teste la deuxième et ainsi de suite... Le code correspondant à la première condition vérifiée est exécuté puis Python sort du bloc d'instructions du if."
   ]
  },
  {
   "cell_type": "markdown",
   "metadata": {},
   "source": [
    " ##  <span style=\"color: #0000ff;\"><font size=\"+2\"><strong>  6.3 Importance de l'indentation  </strong> </font> </span>\n",
    " "
   ]
  },
  {
   "cell_type": "markdown",
   "metadata": {},
   "source": [
    "<div style=\"border: 2px solid #1EF223; padding: 3px; background-color: #DEFFCD; -moz-border-radius-topleft: 5px; -moz-border-radius-topright: 5px; -moz-border-radius-bottomright: 5px; -moz-border-radius-bottomleft: 5px;\">\n",
    "\n",
    "De nouveau, faites bien attention à l'indentation !\n",
    "Vous devez être très rigoureux sur ce point. "
   ]
  },
  {
   "cell_type": "markdown",
   "metadata": {},
   "source": [
    "Pour vous en convaincre, exécutez ces deux exemples de code :"
   ]
  },
  {
   "cell_type": "code",
   "execution_count": 6,
   "metadata": {},
   "outputs": [
    {
     "name": "stdout",
     "output_type": "stream",
     "text": [
      "Le test est vrai\n",
      "car la variable nb vaut 5\n"
     ]
    }
   ],
   "source": [
    "nombres = [4, 5, 6]\n",
    "for nb in nombres:\n",
    "    if nb == 5:\n",
    "        print(\"Le test est vrai\")\n",
    "        print(\"car la variable nb vaut {}\".format(nb))\n",
    "\n",
    "        "
   ]
  },
  {
   "cell_type": "code",
   "execution_count": 7,
   "metadata": {},
   "outputs": [
    {
     "name": "stdout",
     "output_type": "stream",
     "text": [
      "car la variable nb vaut 4\n",
      "Le test est vrai\n",
      "car la variable nb vaut 5\n",
      "car la variable nb vaut 6\n"
     ]
    }
   ],
   "source": [
    "nombres = [4, 5, 6]\n",
    "for nb in nombres:\n",
    "    if nb == 5:\n",
    "        print(\"Le test est vrai\")\n",
    "    print(\"car la variable nb vaut {}\".format(nb))"
   ]
  },
  {
   "cell_type": "markdown",
   "metadata": {},
   "source": [
    "Les deux codes pourtant très similaires produisent des résultats très différents.\n",
    "Si vous observez avec attention l'indentation des instructions sur la ligne 5, vous remarquerez que dans le code 1,\n",
    "l'instruction est indentée deux fois, ce qui signifie qu'elle appartient au bloc d'instructions du test if. \n",
    "Dans le code 2, l'instruction de la ligne 5 n'est indentée qu'une seule fois,\n",
    "ce qui fait qu'elle n'appartient plus au bloc d'instructions du test if, \n",
    "d'où l'affichage de car la variable nb vaut xx pour toutes les valeurs de nb."
   ]
  },
  {
   "cell_type": "markdown",
   "metadata": {},
   "source": [
    " ##  <span style=\"color: #0000ff;\"><font size=\"+2\"><strong> 6.4 Tests multiples  </strong> </font> </span>\n",
    " "
   ]
  },
  {
   "cell_type": "markdown",
   "metadata": {},
   "source": [
    "<div style=\"border: 2px solid #1EF223; padding: 3px; background-color: #DEFFCD; -moz-border-radius-topleft: 5px; -moz-border-radius-topright: 5px; -moz-border-radius-bottomright: 5px; -moz-border-radius-bottomleft: 5px;\">\n",
    "Les tests multiples permettent de tester plusieurs conditions en même temps en utilisant des opérateurs booléens.  "
   ]
  },
  {
   "cell_type": "markdown",
   "metadata": {},
   "source": [
    "Les deux opérateurs les plus couramment utilisés sont le ***OU et le ET***.  \n",
    "\n",
    "Voici un petit rappel sur le fonctionnement\n",
    "de l'opérateur OU :"
   ]
  },
  {
   "cell_type": "markdown",
   "metadata": {},
   "source": [
    "| Condition1| Operateur| Condition 2| Résultat|\n",
    "|---------|--------|--------|---------|\n",
    "|     vrai|     ou |   vrai |     vrai|\n",
    "| vrai    |  ou    |  faux  |   vrai  |\n",
    "| faux    |  ou    |  vrai  |   vrai  |\n",
    "| faux    |  ou    |  faux  |   faux  |"
   ]
  },
  {
   "cell_type": "markdown",
   "metadata": {},
   "source": [
    "et de l'opérateur ET :"
   ]
  },
  {
   "cell_type": "markdown",
   "metadata": {},
   "source": [
    "| Condition1| Operateur| Condition 2| Résultat|\n",
    "|---------|--------|--------|---------|\n",
    "|     vrai|     et |   vrai |     vrai|\n",
    "| vrai    |  et    |  faux  |   faux  |\n",
    "| faux    |  et    |  vrai  |   faux  |\n",
    "| faux    |  et    |  faux  |   faux  |"
   ]
  },
  {
   "cell_type": "code",
   "execution_count": 8,
   "metadata": {},
   "outputs": [
    {
     "name": "stdout",
     "output_type": "stream",
     "text": [
      "le test est vrai\n"
     ]
    }
   ],
   "source": [
    "x = 2\n",
    "y = 2\n",
    "if x == 2 and y == 2:\n",
    "    print(\"le test est vrai\") "
   ]
  },
  {
   "cell_type": "markdown",
   "metadata": {},
   "source": [
    "Notez que le même résultat serait obtenu en utilisant deux instructions if imbriquées :"
   ]
  },
  {
   "cell_type": "code",
   "execution_count": 9,
   "metadata": {},
   "outputs": [
    {
     "name": "stdout",
     "output_type": "stream",
     "text": [
      "le test est vrai\n"
     ]
    }
   ],
   "source": [
    "x = 2\n",
    "y = 2\n",
    "if x == 2:\n",
    "    if y == 2:\n",
    "        print(\"le test est vrai\")"
   ]
  },
  {
   "cell_type": "markdown",
   "metadata": {},
   "source": [
    "Vous pouvez aussi tester directement l'effet de ces opérateurs à l'aide de True et False \n",
    "(attention à respecter la casse)."
   ]
  },
  {
   "cell_type": "markdown",
   "metadata": {},
   "source": [
    "Enfin, on peut utiliser l'opérateur logique de négation not qui inverse le résultat d'une condition :"
   ]
  },
  {
   "cell_type": "code",
   "execution_count": 13,
   "metadata": {},
   "outputs": [
    {
     "data": {
      "text/plain": [
       "False"
      ]
     },
     "execution_count": 13,
     "metadata": {},
     "output_type": "execute_result"
    }
   ],
   "source": [
    "not True"
   ]
  },
  {
   "cell_type": "code",
   "execution_count": 14,
   "metadata": {},
   "outputs": [
    {
     "data": {
      "text/plain": [
       "True"
      ]
     },
     "execution_count": 14,
     "metadata": {},
     "output_type": "execute_result"
    }
   ],
   "source": [
    "not False"
   ]
  },
  {
   "cell_type": "code",
   "execution_count": 15,
   "metadata": {},
   "outputs": [
    {
     "data": {
      "text/plain": [
       "False"
      ]
     },
     "execution_count": 15,
     "metadata": {},
     "output_type": "execute_result"
    }
   ],
   "source": [
    "not (True and True)"
   ]
  },
  {
   "cell_type": "markdown",
   "metadata": {},
   "source": [
    " ##  <span style=\"color: #0000ff;\"><font size=\"+2\"><strong>  6.5 Instructions break et continue   </strong> </font> </span>\n",
    " "
   ]
  },
  {
   "cell_type": "markdown",
   "metadata": {},
   "source": [
    "Ces deux instructions permettent de modifier le comportement d'une boucle (for ou while) avec un test.\n",
    "\n",
    "L'instruction break stoppe la boucle."
   ]
  },
  {
   "cell_type": "code",
   "execution_count": 16,
   "metadata": {},
   "outputs": [
    {
     "name": "stdout",
     "output_type": "stream",
     "text": [
      "0\n",
      "1\n",
      "2\n"
     ]
    }
   ],
   "source": [
    "for i in range(5):\n",
    "    if i > 2:\n",
    "        break\n",
    "    print(i)"
   ]
  },
  {
   "cell_type": "markdown",
   "metadata": {},
   "source": [
    "L'instruction continue saute à l'itération suivante, sans exécuter la suite du bloc d'instructions de la boucle."
   ]
  },
  {
   "cell_type": "code",
   "execution_count": 17,
   "metadata": {
    "scrolled": true
   },
   "outputs": [
    {
     "name": "stdout",
     "output_type": "stream",
     "text": [
      "0\n",
      "1\n",
      "3\n",
      "4\n"
     ]
    }
   ],
   "source": [
    "for i in range(5):\n",
    "    if i == 2:\n",
    "        continue\n",
    "    print(i)"
   ]
  },
  {
   "cell_type": "markdown",
   "metadata": {},
   "source": [
    " ##  <span style=\"color: #0000ff;\"><font size=\"+2\"><strong>  6.6 Test sur les float   </strong> </font> </span>\n",
    " "
   ]
  },
  {
   "cell_type": "markdown",
   "metadata": {},
   "source": [
    "Lorsque l'on souhaite tester la valeur d'une variable de type float, \n",
    "le premier réflexe serait d'utiliser l'opérateur d'égalité comme :"
   ]
  },
  {
   "cell_type": "code",
   "execution_count": 18,
   "metadata": {},
   "outputs": [
    {
     "data": {
      "text/plain": [
       "True"
      ]
     },
     "execution_count": 18,
     "metadata": {},
     "output_type": "execute_result"
    }
   ],
   "source": [
    "1/10 == 0.1"
   ]
  },
  {
   "cell_type": "markdown",
   "metadata": {},
   "source": [
    "Toutefois, nous vous le déconseillons formellement. Pourquoi ? \n",
    "Python stocke les valeurs numériques des floats sous forme de nombres flottants (d'où leur nom !),\n",
    "et cela mène à certaines limitations. Observez l'exemple suivant :"
   ]
  },
  {
   "cell_type": "code",
   "execution_count": 19,
   "metadata": {},
   "outputs": [
    {
     "data": {
      "text/plain": [
       "False"
      ]
     },
     "execution_count": 19,
     "metadata": {},
     "output_type": "execute_result"
    }
   ],
   "source": [
    "(3 - 2.7) == 0.3"
   ]
  },
  {
   "cell_type": "code",
   "execution_count": 20,
   "metadata": {},
   "outputs": [
    {
     "data": {
      "text/plain": [
       "0.2999999999999998"
      ]
     },
     "execution_count": 20,
     "metadata": {},
     "output_type": "execute_result"
    }
   ],
   "source": [
    "3 - 2.7"
   ]
  },
  {
   "cell_type": "markdown",
   "metadata": {},
   "source": [
    "Nous voyons que le résultat de l'opération 3 - 2.7 n'est pas exactement 0.3 d'où le False en ligne 2.\n",
    "\n",
    "En fait, ce problème ne vient pas de Python, \n",
    "mais plutôt de la manière dont un ordinateur traite les nombres flottants (comme un rapport de nombres binaires). \n",
    "Ainsi certaines valeurs de float ne peuvent être qu'approchées.\n",
    "Une manière de s'en rendre compte est d'utiliser l'écriture formatée en demandant\n",
    "l'affichage d'un grand nombre de décimales :\n",
    "    "
   ]
  },
  {
   "cell_type": "code",
   "execution_count": 22,
   "metadata": {},
   "outputs": [
    {
     "data": {
      "text/plain": [
       "0.3"
      ]
     },
     "execution_count": 22,
     "metadata": {},
     "output_type": "execute_result"
    }
   ],
   "source": [
    "0.3"
   ]
  },
  {
   "cell_type": "code",
   "execution_count": 23,
   "metadata": {},
   "outputs": [
    {
     "data": {
      "text/plain": [
       "'0.30000'"
      ]
     },
     "execution_count": 23,
     "metadata": {},
     "output_type": "execute_result"
    }
   ],
   "source": [
    "\"{:.5f}\".format(0.3)"
   ]
  },
  {
   "cell_type": "code",
   "execution_count": 24,
   "metadata": {},
   "outputs": [
    {
     "data": {
      "text/plain": [
       "'0.299999999999999988897769753748434595763683319091796875000000'"
      ]
     },
     "execution_count": 24,
     "metadata": {},
     "output_type": "execute_result"
    }
   ],
   "source": [
    "\"{:.60f}\".format(0.3)"
   ]
  },
  {
   "cell_type": "code",
   "execution_count": 25,
   "metadata": {},
   "outputs": [
    {
     "data": {
      "text/plain": [
       "'0.299999999999999822364316059974953532218933105468750000000000'"
      ]
     },
     "execution_count": 25,
     "metadata": {},
     "output_type": "execute_result"
    }
   ],
   "source": [
    "\"{:.60f}\".format(3.0 - 2.7)"
   ]
  },
  {
   "cell_type": "markdown",
   "metadata": {},
   "source": [
    "'0.29\n",
    "On observe que lorsqu'on tape 0.3, Python affiche une valeur arrondie.\n",
    "En réalité, le nombre réel 0.3 ne peut être qu'approché lorsqu'on le code en nombre flottant.\n",
    "Il est donc essentiel d'avoir cela en tête lorsque l'on effectue un test .\n",
    "\n",
    " ***Conseils***\n",
    " \n",
    "Pour les raisons évoquées ci-dessus, il ne faut surtout pas tester si un float est égal à une certaine valeur.\n",
    "La bonne pratique est de vérifier si un float est compris dans un intervalle avec une certaine précision.\n",
    "Si on appelle cette précision delta, on peut procéder ainsi :"
   ]
  },
  {
   "cell_type": "code",
   "execution_count": 26,
   "metadata": {},
   "outputs": [
    {
     "data": {
      "text/plain": [
       "True"
      ]
     },
     "execution_count": 26,
     "metadata": {},
     "output_type": "execute_result"
    }
   ],
   "source": [
    "delta = 0.0001\n",
    "var = 3.0 - 2.7\n",
    "0.3 - delta < var < 0.3 + delta"
   ]
  },
  {
   "cell_type": "code",
   "execution_count": 27,
   "metadata": {},
   "outputs": [
    {
     "data": {
      "text/plain": [
       "True"
      ]
     },
     "execution_count": 27,
     "metadata": {},
     "output_type": "execute_result"
    }
   ],
   "source": [
    "abs(var - 0.3) < delta"
   ]
  },
  {
   "cell_type": "markdown",
   "metadata": {},
   "source": [
    "Ici on teste si var est compris dans l'intervalle \n",
    "0.3± delta.\n",
    "\n",
    "Les deux méthodes mènent à un résultat strictement équivalent :\n",
    "\n",
    "- La ligne 3 est intuitive car elle ressemble à un encadrement mathématique.\n",
    "- La ligne 5 utilise la fonction valeur absolue abs() et est plus compacte."
   ]
  },
  {
   "cell_type": "markdown",
   "metadata": {},
   "source": [
    " ##  <span style=\"color: #0000ff;\"><font size=\"+2\"><strong>  6.7 les exeptions   </strong> </font> </span>\n",
    " "
   ]
  },
  {
   "cell_type": "markdown",
   "metadata": {},
   "source": [
    "Réaliser certaines opérations en mathématique est parfois impossible, comme la division par zéro."
   ]
  },
  {
   "cell_type": "code",
   "execution_count": 28,
   "metadata": {},
   "outputs": [
    {
     "ename": "ZeroDivisionError",
     "evalue": "division by zero",
     "output_type": "error",
     "traceback": [
      "\u001b[0;31m---------------------------------------------------------------------------\u001b[0m",
      "\u001b[0;31mZeroDivisionError\u001b[0m                         Traceback (most recent call last)",
      "\u001b[0;32m<ipython-input-28-25ccb7643f5a>\u001b[0m in \u001b[0;36m<module>\u001b[0;34m\u001b[0m\n\u001b[0;32m----> 1\u001b[0;31m \u001b[0;36m5\u001b[0m\u001b[0;34m/\u001b[0m\u001b[0;36m0\u001b[0m\u001b[0;34m\u001b[0m\u001b[0;34m\u001b[0m\u001b[0m\n\u001b[0m",
      "\u001b[0;31mZeroDivisionError\u001b[0m: division by zero"
     ]
    }
   ],
   "source": [
    "5/0   "
   ]
  },
  {
   "cell_type": "markdown",
   "metadata": {},
   "source": [
    "Python nous dit pourquoi il n'est pas content: ZeroDivisionError .\n",
    "\n",
    "Cet exemple est sans intérêt mais il est tout à fait possible d'utiliser une variable comme dénominateur et à ce moment là comment éviter cette erreur?\n",
    "\n",
    "Une solution serait de vérifier la valeur de la variable et si elle est égale à 0, on annule tout.\n",
    "\n",
    "Une autre solution serait d'anticiper qu'il serait possible qu'il y ait une erreur et en cas d'erreur prévoir des instructions spécifiques."
   ]
  },
  {
   "cell_type": "markdown",
   "metadata": {},
   "source": [
    "<font size=\"+1\"> <span style=\"background:#E7E7E7;text-decoration: underline;\"><strong>Try except</strong></span></font>"
   ]
  },
  {
   "cell_type": "markdown",
   "metadata": {},
   "source": [
    "<div style=\"border: 2px solid #1EF223; padding: 3px; background-color: #DEFFCD; -moz-border-radius-topleft: 5px; -moz-border-radius-topright: 5px; -moz-border-radius-bottomright: 5px; -moz-border-radius-bottomleft: 5px;\">\n",
    "Try signifie \"essayer\" en anglais, ce mot clé permet d'essayer une action et si l'action échoue on peut lui donner d'autres instrutions dans un bloc except ."
   ]
  },
  {
   "cell_type": "code",
   "execution_count": 29,
   "metadata": {},
   "outputs": [
    {
     "name": "stdout",
     "output_type": "stream",
     "text": [
      "Ok pas erreur\n"
     ]
    }
   ],
   "source": [
    "v =1\n",
    "w = 5\n",
    "try:\n",
    "    w/v\n",
    "    print(\"Ok pas erreur\")\n",
    "except:\n",
    "    print(\"Erreur\")"
   ]
  },
  {
   "cell_type": "markdown",
   "metadata": {},
   "source": [
    "Alors pourquoi utiliser try , finalement on s'en moque si il y a une erreur? Et bien pas totalement, ce genre d'erreur est blocante, c'est à dire que si les instructions sont exécutées dans un script, le script s'arrête et cela devient un bug\n",
    "\n",
    "**Cibler les erreurs**  \n",
    "La syntaxe exposée plus haut répond à tout type d'erreur, mais il est possible d'affiner la gestion d'erreur.\n",
    "\n",
    "Par exemple que se passe-t-il si nous divisons un nombre par des lettres?"
   ]
  },
  {
   "cell_type": "code",
   "execution_count": 30,
   "metadata": {},
   "outputs": [
    {
     "ename": "TypeError",
     "evalue": "unsupported operand type(s) for /: 'int' and 'str'",
     "output_type": "error",
     "traceback": [
      "\u001b[0;31m---------------------------------------------------------------------------\u001b[0m",
      "\u001b[0;31mTypeError\u001b[0m                                 Traceback (most recent call last)",
      "\u001b[0;32m<ipython-input-30-76a8a4004686>\u001b[0m in \u001b[0;36m<module>\u001b[0;34m\u001b[0m\n\u001b[0;32m----> 1\u001b[0;31m \u001b[0;36m5\u001b[0m\u001b[0;34m/\u001b[0m\u001b[0;34m\"olivier\"\u001b[0m\u001b[0;34m\u001b[0m\u001b[0;34m\u001b[0m\u001b[0m\n\u001b[0m",
      "\u001b[0;31mTypeError\u001b[0m: unsupported operand type(s) for /: 'int' and 'str'"
     ]
    }
   ],
   "source": [
    "5/\"olivier\""
   ]
  },
  {
   "cell_type": "markdown",
   "metadata": {},
   "source": [
    "On remarque que python nous affiche une erreur mais el1le est différente de celle provoquée par la division par 0. Ici l'erreur est TypeError .\n",
    "\n",
    "Il est possible en python d'executer des instructions en fonction du type d'erreur. Par exemple si la valeur est 0 on aimerait afficher un message et si le dénominateur est du texte on aimerait pouvoir afficher un autre message à l'utilisateur."
   ]
  },
  {
   "cell_type": "code",
   "execution_count": 31,
   "metadata": {},
   "outputs": [
    {
     "name": "stdout",
     "output_type": "stream",
     "text": [
      "Merci de ne pas utiliser le 0\n"
     ]
    }
   ],
   "source": [
    "v = 0\n",
    "w = 5\n",
    "try:\n",
    "    w/v\n",
    "    print(\"Ok pas erreur\")\n",
    "except TypeError:\n",
    "    print(\"Merci d'utiliser des chiffres\")\n",
    "except ZeroDivisionError:\n",
    "    print(\"Merci de ne pas utiliser le 0\")"
   ]
  },
  {
   "cell_type": "code",
   "execution_count": 32,
   "metadata": {
    "scrolled": true
   },
   "outputs": [
    {
     "name": "stdout",
     "output_type": "stream",
     "text": [
      "Merci d'utiliser des chiffres\n"
     ]
    }
   ],
   "source": [
    "v = \"olivier\"\n",
    "w = 5\n",
    "try:\n",
    "    w/v\n",
    "    print(\"Ok pas erreur\")\n",
    "except TypeError:\n",
    "    print(\"Merci d'utiliser des chiffres\")\n",
    "except ZeroDivisionError:\n",
    "    print(\"Merci de ne pas utiliser le 0\")"
   ]
  },
  {
   "cell_type": "markdown",
   "metadata": {},
   "source": [
    "<font size=\"+1\"> <span style=\"background:#E7E7E7;text-decoration: underline;\"><strong> Finally </strong></span></font>"
   ]
  },
  {
   "cell_type": "markdown",
   "metadata": {},
   "source": [
    "On utilise le mot clé finally pour exécuter des instructions quelque soit les erreurs générées ou non (et même si il y a présence d'un return ). Dans tous les cas les instructions placées dans finally seront executées."
   ]
  },
  {
   "cell_type": "code",
   "execution_count": 33,
   "metadata": {},
   "outputs": [
    {
     "name": "stdout",
     "output_type": "stream",
     "text": [
      "Execution\n"
     ]
    }
   ],
   "source": [
    "try:\n",
    "    pass \n",
    "except:\n",
    "    pass\n",
    "finally:\n",
    "    print(\"Execution\")"
   ]
  },
  {
   "cell_type": "markdown",
   "metadata": {},
   "source": [
    "<p style=\"text-align: center;\"><span style=\"color: #0000ff;\"><font size=\"+2\"><strong>Exercices</strong> </font> </span></p>"
   ]
  },
  {
   "cell_type": "markdown",
   "metadata": {},
   "source": [
    "### 6.7.1 Jours de la semaine\n",
    "Constituez une liste semaine contenant le nom des sept jours de la semaine.\n",
    "\n",
    "En utilisant une boucle, écrivez chaque jour de la semaine ainsi que les messages suivants :\n",
    "\n",
    "- Au travail s'il s'agit du lundi au jeudi ;\n",
    "- Chouette c'est vendredi s'il s'agit du vendredi ;\n",
    "- Repos ce week-end s'il s'agit du samedi ou du dimanche."
   ]
  },
  {
   "cell_type": "code",
   "execution_count": null,
   "metadata": {},
   "outputs": [],
   "source": []
  },
  {
   "cell_type": "markdown",
   "metadata": {},
   "source": [
    "### 6.7.2 Séquence complémentaire d'un brin d'ADN\n",
    "La liste ci-dessous représente la séquence d'un brin d'ADN :\n",
    "\n",
    "[\"A\",\"C\",\"G\",\"T\",\"T\",\"A\",\"G\",\"C\",\"T\",\"A\",\"A\",\"C\",\"G\"]\n",
    "\n",
    "Créez un script qui transforme cette séquence en sa séquence complémentaire.\n",
    "\n",
    "Rappel : la séquence complémentaire s'obtient en remplaçant A par T, T par A, C par G et G par C."
   ]
  },
  {
   "cell_type": "code",
   "execution_count": null,
   "metadata": {},
   "outputs": [],
   "source": []
  },
  {
   "cell_type": "markdown",
   "metadata": {},
   "source": [
    "### 6.7.3 Minimum d'une liste\n",
    "La fonction min() de Python renvoie l'élément le plus petit d'une liste constituée de valeurs numériques ou de chaînes de caractères\n",
    ". Sans utiliser cette fonction, créez un script qui détermine le plus petit élément de la liste [8, 4, 6, 1, 5]."
   ]
  },
  {
   "cell_type": "markdown",
   "metadata": {},
   "source": [
    "### 6.7.4 Fréquence des acides aminés\n",
    "La liste ci-dessous représente une séquence d'acides aminés :\n",
    "\n",
    "[\"A\",\"R\",\"A\",\"W\",\"W\",\"A\",\"W\",\"A\",\"R\",\"W\",\"W\",\"R\",\"A\",\"G\"]\n",
    "\n",
    "Calculez la fréquence des acides aminés alanine (A), arginine (R), tryptophane (W) et glycine (G) dans cette séquence."
   ]
  },
  {
   "cell_type": "code",
   "execution_count": null,
   "metadata": {},
   "outputs": [],
   "source": []
  },
  {
   "cell_type": "markdown",
   "metadata": {},
   "source": [
    "### 6.7.5 Notes et mention d'un étudiant\n",
    "Voici les notes d'un étudiant : 14, 9, 13, 15 et 12. \n",
    "Créez un script qui affiche la note maximum (utilisez la fonction max()), la note minimum (utilisez la fonction min()) \n",
    "et qui calcule la moyenne.\n",
    "\n",
    "Affichez la valeur de la moyenne avec deux décimales. Affichez aussi la mention obtenue sachant que la mention est « passable » si la moyenne est entre 10 inclus et 12 exclus, « assez bien » entre 12 inclus et 14 exclus et « bien » au-delà de 14."
   ]
  },
  {
   "cell_type": "code",
   "execution_count": null,
   "metadata": {},
   "outputs": [],
   "source": []
  },
  {
   "cell_type": "markdown",
   "metadata": {},
   "source": [
    "### 6.7.6 Nombres pairs\n",
    "Construisez une boucle qui parcourt les nombres de 0 à 20 et qui affiche \n",
    "- les nombres pairs inférieurs ou égaux à 10 d'une part,\n",
    "- les nombres impairs strictement supérieurs à 10 d'autre part.\n",
    "\n",
    "Pour cet exercice, vous pourrez utiliser l'opérateur modulo % qui renvoie le reste de la division entière entre deux nombres et dont voici quelques exemples d'utilisation :"
   ]
  },
  {
   "cell_type": "code",
   "execution_count": 34,
   "metadata": {},
   "outputs": [
    {
     "data": {
      "text/plain": [
       "0"
      ]
     },
     "execution_count": 34,
     "metadata": {},
     "output_type": "execute_result"
    }
   ],
   "source": [
    "4 % 3\n",
    "5 % 3\n",
    "4 % 2"
   ]
  },
  {
   "cell_type": "markdown",
   "metadata": {},
   "source": [
    "Vous remarquerez qu'un nombre est pair lorsque le reste de sa division entière par 2 est nul."
   ]
  },
  {
   "cell_type": "markdown",
   "metadata": {},
   "source": [
    "---------\n",
    "### Pour aller plus loin.\n",
    "\n",
    "-------------------\n"
   ]
  },
  {
   "cell_type": "code",
   "execution_count": 36,
   "metadata": {},
   "outputs": [
    {
     "ename": "SyntaxError",
     "evalue": "invalid syntax (<ipython-input-36-a37f4aabdb40>, line 2)",
     "output_type": "error",
     "traceback": [
      "\u001b[0;36m  File \u001b[0;32m\"<ipython-input-36-a37f4aabdb40>\"\u001b[0;36m, line \u001b[0;32m2\u001b[0m\n\u001b[0;31m    La conjecture de Syracuse est une conjecture mathématique qui reste improuvée à ce jour et qui est définie de la manière suivante.\u001b[0m\n\u001b[0m                ^\u001b[0m\n\u001b[0;31mSyntaxError\u001b[0m\u001b[0;31m:\u001b[0m invalid syntax\n"
     ]
    }
   ],
   "source": [
    "### 6.7.7 Conjecture de Syracuse (exercice +++)\n",
    "La conjecture de Syracuse est une conjecture mathématique qui reste improuvée à ce jour et qui est définie de la manière suivante.\n",
    "\n",
    "Soit un entier positif n. Si n est pair, alors le diviser par 2. Si il est impair, alors le multiplier par 3 et lui ajouter 1. En répétant cette procédure, la suite de nombres atteint la valeur 1 puis se prolonge indéfiniment par une suite de trois valeurs triviales appelée cycle trivial.\n",
    "\n",
    "Jusqu'à présent, la conjecture de Syracuse, selon laquelle depuis n'importe quel entier positif la suite de Syracuse atteint 1, n'a pas été mise en défaut.\n",
    "\n",
    "Par exemple, les premiers éléments de la suite de Syracuse si on prend comme point de départ 10 sont : 10, 5, 16, 8, 4, 2, 1...\n",
    "\n",
    "Créez un script qui, partant d'un entier positif n (par exemple 10 ou 20), crée une liste des nombres de la suite de Syracuse. Avec différents points de départ (c'est-à-dire avec différentes valeurs de n), la conjecture de Syracuse est-elle toujours vérifiée ? Quels sont les nombres qui constituent le cycle trivial ?\n",
    "\n",
    " Remarque\n",
    "Pour cet exercice, vous avez besoin de faire un nombre d'itérations inconnu pour que la suite de Syracuse atteigne le chiffre 1 puis entame son cycle trivial. Vous pourrez tester votre algorithme avec un nombre arbitraire d'itérations, typiquement 20 ou 100, suivant votre nombre n de départ.\n",
    "Un nombre est pair lorsque le reste de sa division entière (opérateur modulo %) par 2 est nul.\n",
    "6.7.8 Attribution de la structure secondaire des acides aminés d'une protéine (exercice +++)\n",
    "Dans une protéine, les différents acides aminés sont liés entre eux par une liaison peptidique. Les angles phi et psi sont deux angles mesurés autour de cette liaison peptidique. Leurs valeurs sont utiles pour définir la conformation spatiale (appelée « structure secondaire ») adoptée par les acides aminés.\n",
    "\n",
    "Par exemples, les angles phi et psi d'une conformation en « hélice alpha » parfaite ont une valeur de -57 degrés et -47 degrés respectivement. Bien sûr, il est très rare que l'on trouve ces valeurs parfaites dans une protéine, et il est habituel de tolérer une déviation de \n",
    "±\n",
    " 30 degrés autour des valeurs idéales de ces angles.\n",
    "\n",
    "Vous trouverez ci-dessous une liste de listes contenant les valeurs des angles phi et psi de 15 acides aminés \n",
    "de la protéine 1TFE :\n",
    "\n",
    "\n",
    "[[48.6, 53.4],[-124.9, 156.7],[-66.2, -30.8], \\\n",
    "[-58.8, -43.1],[-73.9, -40.6],[-53.7, -37.5], \\\n",
    "[-80.6, -26.0],[-68.5, 135.0],[-64.9, -23.5], \\\n",
    "[-66.9, -45.5],[-69.6, -41.0],[-62.7, -37.5], \\\n",
    "[-68.2, -38.3],[-61.2, -49.1],[-59.7, -41.1]]\n",
    "Pour le premier acide aminé, l'angle phi vaut 48.6 et l'angle psi 53.4.\n",
    "Pour le deuxième, l'angle phi vaut -124.9 et l'angle psi 156.7, etc.\n",
    "\n",
    "En utilisant cette liste, créez un script qui teste,\n",
    "pour chaque acide aminé, s'il est ou non en hélice et affiche \n",
    "les valeurs des angles phi et psi et le message adapté est en hélice ou n'est pas en hélice.\n",
    "\n",
    "Par exemple, pour les 3 premiers acides aminés :\n",
    "\n",
    "\n",
    "[48.6, 53.4] n'est pas en hélice\n",
    "[-124.9, 156.7] n'est pas en hélice\n",
    "[-66.2, -30.8] est en hélice\n",
    "D'après vous, quelle est la structure secondaire majoritaire de ces 15 acides aminés ?\n",
    "\n",
    " Remarque\n",
    "Pour en savoir plus sur le monde merveilleux des protéines, n'hésitez pas à consulter la page Wikipedia sur la structure secondaire des protéines.\n",
    "\n",
    "6.7.9 Détermination des nombres premiers inférieurs à 100 (exercice +++)\n",
    "Voici un extrait de l'article sur les nombres premiers tiré de l'encyclopédie en ligne wikipédia.\n",
    "\n",
    "Un nombre premier est un entier naturel qui admet exactement deux diviseurs distincts entiers\n",
    "et positifs (qui sont alors 1 et lui-même). Cette définition exclut 1, qui n'a qu'un seul diviseur\n",
    "entier positif. Par opposition, un nombre non nul produit de deux nombres entiers différents de 1 est dit composé.\n",
    "Par exemple \n",
    "6\n",
    "=\n",
    "2\n",
    "×\n",
    "3\n",
    " est composé, tout comme \n",
    "21\n",
    "=\n",
    "3\n",
    "×\n",
    "7\n",
    ", mais 11 est premier car 1 et 11 sont les seuls diviseurs de 11. Les nombres 0 et 1 ne sont ni premiers ni composés.\n",
    "\n",
    "Déterminez les nombres premiers inférieurs à 100. Combien y a-t-il de nombres premiers entre 0 et 100 ? Pour vous aider, nous vous proposons plusieurs méthodes.\n",
    "\n",
    "Méthode 1 (peu optimale mais assez intuitive)\n",
    "Pour chaque nombre de 2 à 100, calculez le reste de la division entière (avec l'opérateur modulo %) depuis 1 jusqu'à lui-même. Si c'est un nombre premier, il aura exactement deux nombres pour lesquels le reste de la division entière est égal à 0 (1 et lui-même). Si ce n'est pas un nombre premier, il aura plus de deux nombres pour lesquels le reste de la division entière est égal à 0.\n",
    "\n",
    "Méthode 2 (plus optimale et plus rapide, mais un peu plus compliquée)\n",
    "Parcourez tous les nombres de 2 à 100 et vérifiez si ceux-ci sont composés, c'est-à-dire qu'ils sont le produit de deux nombres premiers. Pratiquement, cela consiste à vérifier que le reste de la division entière (opérateur modulo %) entre le nombre considéré et chaque nombre premier déterminé jusqu'à maintenant est nul. Le cas échéant, ce nombre n'est pas premier. Attention, pour cette méthode, il faudra initialiser la liste de nombres premiers avec le premier nombre premier (donc 2 !)."
   ]
  },
  {
   "cell_type": "markdown",
   "metadata": {},
   "source": [
    "### 6.7.10 Recherche d'un nombre par dichotomie (exercice +++)\n",
    "La recherche par dichotomie est une méthode qui consiste à diviser (en général en parties égales) un problème pour en trouver la solution. À titre d'exemple, voici une discussion entre Pierre et Patrick dans laquelle Pierre essaie de deviner le nombre (compris entre 1 et 100 inclus) auquel Patrick a pensé.\n",
    "\n",
    "[Patrick] « C'est bon, j'ai pensé à un nombre entre 1 et 100. »\n",
    "[Pierre] « OK, je vais essayer de le deviner. Est-ce que ton nombre est plus petit ou plus grand que 50 ? »\n",
    "[Patrick] « Plus grand. »\n",
    "[Pierre] « Est-ce que ton nombre est plus petit, plus grand ou égal à 75 ? »\n",
    "[Patrick] « Plus grand. »\n",
    "[Pierre] « Est-ce que ton nombre est plus petit, plus grand ou égal à 87 ? »\n",
    "[Patrick] « Plus petit. »\n",
    "[Pierre] « Est-ce que ton nombre est plus petit, plus grand ou égal à 81 ? »\n",
    "[Patrick] « Plus petit. »\n",
    "[Pierre] « Est-ce que ton nombre est plus petit, plus grand ou égal à 78 ? »\n",
    "[Patrick] « Plus grand. »\n",
    "[Pierre] « Est-ce que ton nombre est plus petit, plus grand ou égal à 79 ? »\n",
    "[Patrick] « Égal. C'est le nombre auquel j'avais pensé. Bravo ! »\n",
    "Pour arriver rapidement à deviner le nombre, l'astuce consiste à prendre \n",
    " à chaque fois la moitié de l'intervalle dans lequel se trouve le nombre. Voici le détail des différentes étapes :\n",
    "\n",
    "le nombre se trouve entre 1 et 100, on propose 50 (100 / 2).\n",
    "le nombre se trouve entre 50 et 100, on propose 75 ( 50 + (100-50)/2 ).\n",
    "le nombre se trouve entre 75 et 100, on propose 87 ( 75 + (100-75)/2 ).\n",
    "le nombre se trouve entre 75 et 87, on propose 81 ( 75 + (87-75)/2 ).\n",
    "le nombre se trouve entre 75 et 81, on propose 78 ( 75 + (81-75)/2 ).\n",
    "le nombre se trouve entre 78 et 81, on propose 79 ( 78 + (81-78)/2 ).\n",
    "Créez un script qui reproduit ce jeu de devinettes. Vous pensez à un nombre entre 1 et 100 \n",
    "et l'ordinateur essaie de le deviner par dichotomie en vous posant des questions.\n",
    "\n",
    "Votre programme utilisera la fonction input() pour interagir avec l'utilisateur. Voici un exemple de son fonctionnement :\n",
    "\n",
    "\n",
    ">>> lettre = input(\"Entrez une lettre : \")\n",
    "Entrez une lettre : P\n",
    ">>> print(lettre)\n",
    "P\n",
    "Pour vous guider, voici ce que donnerait le programme avec la conversation précédente :\n",
    "\n",
    "\n",
    "Pensez à un nombre entre 1 et 100.\n",
    "Est-ce votre nombre est plus grand, plus petit ou égal à 50 ? [+/-/=] +\n",
    "Est-ce votre nombre est plus grand, plus petit ou égal à 75 ? [+/-/=] +\n",
    "Est-ce votre nombre est plus grand, plus petit ou égal à 87 ? [+/-/=] -\n",
    "Est-ce votre nombre est plus grand, plus petit ou égal à 81 ? [+/-/=] -\n",
    "Est-ce votre nombre est plus grand, plus petit ou égal à 78 ? [+/-/=] +\n",
    "Est-ce votre nombre est plus grand, plus petit ou égal à 79 ? [+/-/=] =\n",
    "J'ai trouvé en 6 questions !\n",
    "Les caractères [+/-/=] indiquent à l'utilisateur comment il doit interagir avec l'ordinateur, \n",
    "         c'est-à-dire entrer soit le caractère + si le nombre choisi est plus grand que le nombre proposé\n",
    "                                                                         par l'ordinateur, soit le caractère - si le nombre choisi est plus petit que le nombre proposé par l'ordinateur, soit le caractère = si le nombre choisi est celui proposé \n",
    "                                                                         par l'ordinateur (en appuyant ensuite sur la touche Entrée)."
   ]
  },
  {
   "cell_type": "code",
   "execution_count": null,
   "metadata": {},
   "outputs": [],
   "source": []
  }
 ],
 "metadata": {
  "kernelspec": {
   "display_name": "Python 3",
   "language": "python",
   "name": "python3"
  },
  "language_info": {
   "codemirror_mode": {
    "name": "ipython",
    "version": 3
   },
   "file_extension": ".py",
   "mimetype": "text/x-python",
   "name": "python",
   "nbconvert_exporter": "python",
   "pygments_lexer": "ipython3",
   "version": "3.6.8"
  }
 },
 "nbformat": 4,
 "nbformat_minor": 4
}
