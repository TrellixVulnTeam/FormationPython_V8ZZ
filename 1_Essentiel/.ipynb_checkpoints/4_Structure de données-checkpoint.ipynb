{
 "cells": [
  {
   "cell_type": "markdown",
   "metadata": {},
   "source": [
    "<hr size=\"4\" color=\"blue\">\n",
    "<p style=\"text-align: center;\"><span style=\"color: #0000ff;\"><font size=\"+5\"><strong> 4 structures de données</strong> </font></span> </p>\n",
    "<hr size=\"4\" color=\"blue\">"
   ]
  },
  {
   "cell_type": "markdown",
   "metadata": {},
   "source": [
    "<div style=\"border: 2px solid #FF3A37; padding: 3px; background-color: #FFC1C0; -moz-border-radius-topleft: 5px; -moz-border-radius-topright: 5px; -moz-border-radius-bottomright: 5px; -moz-border-radius-bottomleft: 5px;\">\n",
    "    \n",
    "Pour utiliser ***déclarer, stocker, structurer ou organiser*** une suite (ordonnée ou non) de données le langage Python offre plusieurs structures de base essentielle qui seront etendues suivant les besoins.  "
   ]
  },
  {
   "cell_type": "markdown",
   "metadata": {},
   "source": [
    "On dispose donc d'objets ayant un type et aux quels vont êtres associés des méthodes."
   ]
  },
  {
   "cell_type": "markdown",
   "metadata": {},
   "source": [
    "Voici les structure de donnés de bases :\n",
    "\n",
    "- [<span style=\"color: #0000ff;\"><font size=\"+1\"><strong>Liste</strong> </font> </span>](./4_1_Listes.ipynb): tableau d’éléments indexés de 0 à n exclu auquel on peut ajouter ou retirer des éléments\n",
    "\n",
    "- [<span style=\"color: #0000ff;\"><font size=\"+1\"><strong>Dictionnaire</strong> </font> </span>](./4_2_Dictionnaire.ipynb)  : structure dans laquelle chaque objet est associé à une clé \n",
    "\n",
    "- [<span style=\"color: #0000ff;\"><font size=\"+1\"><strong>Ensemble</strong> </font> </span>](./4_3_Ensembles.ipynb)  set et frozenset : tableau d’éléments uniques non indexés\n",
    "\n",
    "- [<span style=\"color: #0000ff;\"><font size=\"+1\"><strong>Tuple</strong> </font> </span>](./4_4_Tuple.ipynb)  : tableau d’éléments indexés de 0 à n exclu qu’on ne peut pas modifie\n",
    "D’autres containers sont disponibles via le module collections."
   ]
  },
  {
   "cell_type": "markdown",
   "metadata": {},
   "source": [
    "<div style=\"border: 2px solid #0000ff; padding: 3px; background-color: #0099FF; -moz-border-radius-topleft: 5px; -moz-border-radius-topright: 5px; -moz-border-radius-bottomright: 5px; -moz-border-radius-bottomleft: 5px;\">\n",
    "    \n",
    "***On verra un plus loin qu'il existe en Python de nombreux modules (NumPy, Pandas,....)  qui permet d'avoir des structures de données plus adaptées au travail souhaitées (vecteurs et matrices ou frame ...) et ainsi de manipuler les données efficasement.***"
   ]
  },
  {
   "cell_type": "markdown",
   "metadata": {},
   "source": [
    "***Remarques***  \n",
    "\n",
    "La fonction <font size=\"+1\"> <span style=\"background:#E7E7E7;text-decoration: underline;\"><strong>type()</strong></span></font> retourne le type d'un objet\n",
    "et donc la structure de données à laquelle il appartient."
   ]
  },
  {
   "cell_type": "code",
   "execution_count": null,
   "metadata": {},
   "outputs": [],
   "source": []
  }
 ],
 "metadata": {
  "kernelspec": {
   "display_name": "Python 3",
   "language": "python",
   "name": "python3"
  },
  "language_info": {
   "codemirror_mode": {
    "name": "ipython",
    "version": 3
   },
   "file_extension": ".py",
   "mimetype": "text/x-python",
   "name": "python",
   "nbconvert_exporter": "python",
   "pygments_lexer": "ipython3",
   "version": "3.7.3"
  }
 },
 "nbformat": 4,
 "nbformat_minor": 4
}
