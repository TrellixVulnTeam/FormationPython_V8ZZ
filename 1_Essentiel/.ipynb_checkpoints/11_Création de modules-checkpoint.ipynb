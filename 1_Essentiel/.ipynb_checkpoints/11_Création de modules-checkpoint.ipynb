{
 "cells": [
  {
   "cell_type": "markdown",
   "metadata": {},
   "source": [
    "<hr size=\"4\" color=\"blue\">\n",
    "<p style=\"text-align: center;\"><span style=\"color: #0000ff;\"><font size=\"+5\"><strong> 10 Création de modules </strong> </font></span> </p>\n",
    "<hr size=\"4\" color=\"blue\">"
   ]
  },
  {
   "cell_type": "markdown",
   "metadata": {},
   "source": [
    " ##  <span style=\"color: #0000ff;\"><font size=\"+2\"><strong>  10.1 Pourquoi créer ses propres modules ?  </strong> </font> </span>"
   ]
  },
  {
   "cell_type": "markdown",
   "metadata": {},
   "source": [
    "\n",
    "Dans le chapitre 8 Modules, nous avons découvert quelques modules existants dans Python comme random, math, etc. Nous avons vu par ailleurs dans les chapitres 9 Fonctions et 12 Plus sur les fonctions que les fonctions sont utiles pour réutiliser une fraction de code plusieurs fois au sein d'un même programme sans avoir à dupliquer ce code.  \n",
    "On peut imaginer qu'une fonction bien écrite pourrait être judicieusement réutilisée dans un autre programme Python. C'est justement l'intérêt de créer un module. On y met un ensemble de fonctions que l'on peut être amené à utiliser souvent. En général, les modules sont regroupés autour d'un thème précis. Par exemple, on pourrait concevoir un module d'analyse de séquences biologiques ou encore de gestion de fichiers PDB."
   ]
  },
  {
   "cell_type": "markdown",
   "metadata": {},
   "source": [
    " ##  <span style=\"color: #0000ff;\"><font size=\"+2\"><strong>  11.2 Création d'un module  </strong> </font> </span>"
   ]
  },
  {
   "cell_type": "markdown",
   "metadata": {},
   "source": [
    "Pour les projets les plus ambitieux il sera vite important d'organiser son travail. Les fonctions vont se multiplier et il faudra les enregistrer dans des fichiers distincts pour plus de flexibilité.\n",
    "\n",
    "Créons un autre fichier que nous nommerons func.py"
   ]
  },
  {
   "cell_type": "raw",
   "metadata": {},
   "source": [
    "# coding: utf-8\n",
    "\n",
    "def ajoute_un(v):\n",
    "\treturn v + 1"
   ]
  },
  {
   "cell_type": "markdown",
   "metadata": {},
   "source": [
    "Dans le même dossier que le fichier creer : fiche.py\n"
   ]
  },
  {
   "cell_type": "raw",
   "metadata": {},
   "source": [
    "# coding: utf-8\n",
    "\n",
    "from func import *\n",
    "\n",
    "age = input(\"Quel est votre age? : \")\n",
    "print(\"Vous avez %d ans\" % age)\n",
    "\n",
    "age_plus_un = ajoute_un(age)\n",
    "\n",
    "print(\"Dans un an vous aurez %d ans\" % age_plus_un)"
   ]
  },
  {
   "cell_type": "markdown",
   "metadata": {},
   "source": [
    "Instructions, fonctions, modules, packages...  \n",
    "Nous avons donc vu que lorsque l'on regroupe des fonctions dans un fichier on crée un ensemble de fonctions que l'on nomme \" module \"."
   ]
  },
  {
   "cell_type": "markdown",
   "metadata": {},
   "source": [
    " ##  <span style=\"color: #0000ff;\"><font size=\"+2\"><strong>  11.3 Création d'un package  </strong> </font> </span>"
   ]
  },
  {
   "cell_type": "markdown",
   "metadata": {},
   "source": [
    "Lorsque l'on cherche à regrouper des modules, on parle de package ."
   ]
  },
  {
   "cell_type": "markdown",
   "metadata": {},
   "source": [
    "Pour créer votre propre package,\n",
    "- 1 commencez par créer dans le même dossier que votre programme - un dossier portant le nom de votre package. Dans notre exemple, nous le nommerons \" utils \".\n",
    "\n",
    "- 2 Dans ce dossier, créons le fichier suivant: __init__.py , cela indique à python qu'il s'agit d'un package . Ce fichier peut être vide, seule sa présence est importante.\n",
    "\n",
    "Ensuite créons un fichier toujours dans ce répertoire utils que nous nommerons par exemple \" operations.py \""
   ]
  },
  {
   "cell_type": "markdown",
   "metadata": {},
   "source": [
    "Contenu du dossier de votre projet:\n",
    "- utils (Dossier)\n",
    "- fiche.py\n",
    "- func.py\n",
    "\n",
    "Contenu du dossier utils:\n",
    "- __init__.py\n",
    "- operation.py"
   ]
  },
  {
   "cell_type": "markdown",
   "metadata": {},
   "source": [
    "Maintenant éditons le fichier operations.py et créons une nouvelle fonction"
   ]
  },
  {
   "cell_type": "raw",
   "metadata": {},
   "source": [
    "# coding: utf-8\n",
    "\n",
    "def ajoute_deux(v):\n",
    "\treturn v + 2"
   ]
  },
  {
   "cell_type": "markdown",
   "metadata": {},
   "source": [
    "Puis ajoutons un appel vers cette fonction dans le fichier fiche.py"
   ]
  },
  {
   "cell_type": "raw",
   "metadata": {},
   "source": [
    "# coding: utf-8\n",
    "\n",
    "from func import *\n",
    "from utils.operations import ajoute_deux\n",
    "\n",
    "age = input(\"Quel est votre age? : \")\n",
    "print(\"Vous avez %d ans\" % age)\n",
    "\n",
    "age_plus_un = ajoute_un(age)\n",
    "\n",
    "print(\"Dans un an vous aurez %d ans\" % age_plus_un)\n",
    "\n",
    "age_plus_deux = ajoute_deux(age)\n",
    "\n",
    "print(\"Dans un an vous aurez %d ans\" % age_plus_deux)"
   ]
  },
  {
   "cell_type": "markdown",
   "metadata": {},
   "source": [
    "Alors que remarque-t-on? Tout d'abord on importe un package avec les mots clé from et import , ensuite pour appeler une fonction précise, on passe par la hiérarchie suivante:"
   ]
  },
  {
   "cell_type": "markdown",
   "metadata": {},
   "source": [
    "from package.module import fonction  \n",
    "Si vous voulez importer toutes les fonctions d'un module, vous pouvez indiquer une étoile * qui signifie souvent en informatique \"TOUS\"."
   ]
  },
  {
   "cell_type": "markdown",
   "metadata": {},
   "source": [
    " ##  <span style=\"color: #0000ff;\"><font size=\"+2\"><strong>  14.4 Les docstrings  </strong> </font> </span>"
   ]
  },
  {
   "cell_type": "markdown",
   "metadata": {},
   "source": [
    "Lorsqu'on écrit un module, il est important de créer de la documentation pour expliquer ce que fait le module et comment utiliser chaque fonction. Les chaînes de caractères entre triple guillemets situées en début du module et de chaque fonction sont là pour cela, on les appelle docstrings (« chaînes de documentation » en français). Ces docstrings permettent notamment de fournir de l'aide lorsqu'on invoque la commande help() :"
   ]
  },
  {
   "cell_type": "code",
   "execution_count": null,
   "metadata": {},
   "outputs": [],
   "source": [
    "help(message)"
   ]
  },
  {
   "cell_type": "markdown",
   "metadata": {},
   "source": [
    "Pour quitter l'aide, pressez la touche Q.\n",
    "\n",
    "Vous remarquez que Python a généré automatiquement cette page d'aide, tout comme il est capable de le faire pour les modules internes à Python (random, math, etc.) et ce grâce aux docstrings. Notez que l'on peut aussi appeler l'aide pour une seule fonction :"
   ]
  },
  {
   "cell_type": "code",
   "execution_count": null,
   "metadata": {},
   "outputs": [],
   "source": [
    "help(message.ciao)"
   ]
  },
  {
   "cell_type": "markdown",
   "metadata": {},
   "source": [
    "En résumé, les docstrings sont destinés aux utilisateurs du module. Leur but est différent des commentaires qui, eux, sont destinés à celui qui lit le code (pour en comprendre les subtilités). Une bonne docstring de fonction doit contenir tout ce dont un utilisateur a besoin pour utiliser cette fonction. Une liste minimale et non exhaustive serait :\n",
    "\n",
    "ce que fait la fonction,\n",
    "ce qu'elle prend en argument,\n",
    "ce qu'elle renvoie.\n",
    "Pour en savoir plus sur les docstrings et comment les écrire, nous vous recommandons de lire le chapitre 15 Bonnes pratiques en programmation Python."
   ]
  }
 ],
 "metadata": {
  "kernelspec": {
   "display_name": "Python 3",
   "language": "python",
   "name": "python3"
  },
  "language_info": {
   "codemirror_mode": {
    "name": "ipython",
    "version": 3
   },
   "file_extension": ".py",
   "mimetype": "text/x-python",
   "name": "python",
   "nbconvert_exporter": "python",
   "pygments_lexer": "ipython3",
   "version": "3.7.3"
  }
 },
 "nbformat": 4,
 "nbformat_minor": 4
}
