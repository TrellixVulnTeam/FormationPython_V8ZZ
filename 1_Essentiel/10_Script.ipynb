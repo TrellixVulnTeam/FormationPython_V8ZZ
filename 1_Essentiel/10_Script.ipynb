{
 "cells": [
  {
   "cell_type": "markdown",
   "metadata": {},
   "source": [
    "<hr size=\"4\" color=\"blue\">\n",
    "<p style=\"text-align: center;\"><span style=\"color: #0000ff;\"><font size=\"+5\"><strong> 11 Terminal et  Script</strong> </font></span> </p>\n",
    "<hr style=\"height: 3px; color: #0000ff; width: 50%; border: 1px dashed #000;\">"
   ]
  },
  {
   "cell_type": "markdown",
   "metadata": {},
   "source": [
    "##  <span style=\"color: #0000ff;\"><font size=\"+2\"><strong> 11.1 Introduction au Terminal </strong> </font> </span>"
   ]
  },
  {
   "cell_type": "markdown",
   "metadata": {},
   "source": [
    "\n",
    "<div style=\"border: 2px solid #1EF223; padding: 3px; background-color: #DEFFCD; -moz-border-radius-topleft: 5px; -moz-border-radius-topright: 5px; -moz-border-radius-bottomright: 5px; -moz-border-radius-bottomleft: 5px;\">\n",
    "\n",
    "Un shell est un interpréteur de commandes interactif permettant d'interagir avec l'ordinateur.\n",
    "On utilisera le shell pour lancer l'interpréteur Python sur un fichier python."
   ]
  },
  {
   "cell_type": "markdown",
   "metadata": {},
   "source": [
    "Un shell possède toujours une invite de commande, c'est-à-dire un message qui s'affiche avant l'endroit où on entre des commandes. L' invite est représentée systématiquement par le symbole dollar $, et ce quel que soit le système d'exploitation :\n",
    "- sur linux\n",
    "- sur Mac\n",
    "- sur windows (émulé)\n",
    "\n",
    "Jupyter lab possède un émulateur de console permettant de lancer des script python classique. \n",
    "Cependant sachet que le modelserver est l'environement de développement qui possédent la puissance nécaissaire à l'exécution de code python conséquent. "
   ]
  },
  {
   "cell_type": "markdown",
   "metadata": {},
   "source": [
    "##  <span style=\"color: #0000ff;\"><font size=\"+2\"><strong>11.2 Ouvrir un Terminal sous Jupyter</strong> </font> </span>"
   ]
  },
  {
   "cell_type": "markdown",
   "metadata": {},
   "source": [
    "<img src=\"./Figure/TerminalJupyter.png\" width=\"600\">\n"
   ]
  },
  {
   "cell_type": "markdown",
   "metadata": {},
   "source": [
    "Lorsque vous allez lancé un terminal vous allez obtenir"
   ]
  },
  {
   "cell_type": "raw",
   "metadata": {},
   "source": [
    "ghislain:[~/PoleModelisation/FormationPython]:$"
   ]
  },
  {
   "cell_type": "markdown",
   "metadata": {},
   "source": [
    "Cela signifie que vous étes dans le dossier ghislain:~/PoleModelisation/FormationPython et que le syqwtéme vous invite à lui donner un ordre "
   ]
  },
  {
   "cell_type": "markdown",
   "metadata": {},
   "source": [
    "<b>Commande de base linux</b>\n",
    "<ul>\n",
    " \t<li><a class=\"mw-redirect\" title=\"Chdir\" href=\"https://fr.wikipedia.org/wiki/Chdir\"><tt>cd</tt></a> : Change le répertoire courant. (<i>Change Directory</i>)</li>\n",
    " \t<li><a title=\"Ls\" href=\"https://fr.wikipedia.org/wiki/Ls\"><tt>ls</tt></a> : Affiche la liste des fichiers dans le dossier courant ou d'un autre dossier.</li>\n",
    " \t<li><a href=\"http://www.octetmalin.net/linux/tutoriels/cp-copier-fichier-et-dossier-en-ligne-de-commande.php\">cp</a> : copie des fichier</li>\n",
    " \t<li><a title=\"Mkdir\" href=\"https://fr.wikipedia.org/wiki/Mkdir\"><tt>mkdir</tt></a> : Crée un ou plusieurs répertoires (<i>MaKe DIRectory</i>)</li>\n",
    " \t<li><a href=\"https://haydenjames.io/linux-securely-copy-files-using-scp/\">scp</a> : copie de fichier/dossier d'un serveur à un autre.</li>\n",
    "    <li><a href=\"http://www.commandeslinux.fr/commande-pwd/\">pwd</a> :afficher le chemin d'accès vers le répertoire où se situe l'utilisateur qui a entré la commande.</li>\n",
    "</ul>"
   ]
  },
  {
   "cell_type": "markdown",
   "metadata": {},
   "source": [
    "Lancez la commande qui lance l'interpréteur python :"
   ]
  },
  {
   "cell_type": "raw",
   "metadata": {},
   "source": [
    "$ python"
   ]
  },
  {
   "cell_type": "markdown",
   "metadata": {},
   "source": [
    "Vous obtenez"
   ]
  },
  {
   "cell_type": "raw",
   "metadata": {},
   "source": [
    "Python 3.6.8 (default, Oct  7 2019, 12:59:55)  \n",
    "[GCC 8.3.0] on linux  \n",
    "Type \"help\", \"copyright\", \"credits\" or \"license\" for more information.  \n",
    ">>> "
   ]
  },
  {
   "cell_type": "markdown",
   "metadata": {},
   "source": [
    "<div style=\"border: 2px solid #C0392B; padding: 3px; background-color: #E6B0AA; -moz-border-radius-topleft: 5px; -moz-border-radius-topright: 5px; -moz-border-radius-bottomright: 5px; -moz-border-radius-bottomleft: 5px;\">\n",
    "    \n",
    "\n",
    "Le triple chevron >>> est l'invite de commande (prompt en anglais) de l'interpréteur Python. Ici, Python attend une commande que vous devez saisir au clavier.  "
   ]
  },
  {
   "cell_type": "markdown",
   "metadata": {},
   "source": [
    "Tapez par exemple l'instruction :"
   ]
  },
  {
   "cell_type": "raw",
   "metadata": {},
   "source": [
    "print(\"Hello world!\")"
   ]
  },
  {
   "cell_type": "markdown",
   "metadata": {},
   "source": [
    "puis validez cette commande en appuyant sur la touche Entrée.\n",
    "\n",
    "Python a exécuté la commande directement et a affiché le texte Hello world!. Il attend ensuite votre prochaine instruction en affichant l'invite de l'interpréteur Python (>>>).  \n",
    "\n",
    "Vous pouvez refaire un nouvel essai en vous servant cette fois de l'interpréteur comme d'une calculatrice :"
   ]
  },
  {
   "cell_type": "code",
   "execution_count": 4,
   "metadata": {},
   "outputs": [
    {
     "data": {
      "text/plain": [
       "18"
      ]
     },
     "execution_count": 4,
     "metadata": {},
     "output_type": "execute_result"
    }
   ],
   "source": [
    "1+1  \n",
    "6*3"
   ]
  },
  {
   "cell_type": "markdown",
   "metadata": {},
   "source": [
    "À ce stade, vous pouvez entrer une autre commande ou bien quitter l'interpréteur Python, soit en tapant la commande exit() puis en validant en appuyant sur la touche Entrée, soit en pressant simultanément les touches Ctrl et D sous Linux et Mac OS X ou Ctrl et Z puis Entrée sous Windows.\n",
    "\n",
    "L'interpréteur Python est donc un système interactif dans lequel vous pouvez entrer des commandes, que Python exécutera sous vos yeux (au moment où vous validerez la commande en appuyant sur la touche Entrée).\n",
    "\n",
    "Il existe de nombreux autres langages interprétés comme Perl ou R. Le gros avantage de ce type de langage est qu'on peut immédiatement tester une commande à l'aide de l'interpréteur, ce qui est très utile pour débugger (c'est-à-dire trouver et corriger les éventuelles erreurs d'un programme). Gardez bien en mémoire cette propriété de Python qui pourra parfois vous faire gagner un temps précieux !"
   ]
  },
  {
   "cell_type": "markdown",
   "metadata": {},
   "source": [
    "##  <span style=\"color: #0000ff;\"><font size=\"+2\"><strong>11.2 Execution d'un script python</strong> </font> </span>"
   ]
  },
  {
   "cell_type": "markdown",
   "metadata": {},
   "source": [
    "<div style=\"border: 2px solid #1EF223; padding: 3px; background-color: #DEFFCD; -moz-border-radius-topleft: 5px; -moz-border-radius-topright: 5px; -moz-border-radius-bottomright: 5px; -moz-border-radius-bottomleft: 5px;\">\n",
    "\n",
    "Bien sûr, l'interpréteur présente vite des limites dès lors que l'on veut exécuter une suite d'instructions plus complexe. Comme tout langage informatique, on peut enregistrer ces instructions dans un fichier, que l'on appelle communément un script (ou programme) Python."
   ]
  },
  {
   "cell_type": "markdown",
   "metadata": {},
   "source": [
    "Pour reprendre l'exemple précédent, ouvrez un éditeur de texte dans Jupyter et entrez le code suivant :"
   ]
  },
  {
   "cell_type": "markdown",
   "metadata": {},
   "source": [
    "<img src=\"./Figure/EditeurJupyter.png\" width=\"600\">\n"
   ]
  },
  {
   "cell_type": "raw",
   "metadata": {},
   "source": [
    "print(\"Hello world!\")"
   ]
  },
  {
   "cell_type": "markdown",
   "metadata": {},
   "source": [
    "<div style=\"border: 2px solid #0000ff; padding: 3px; background-color: #0099FF; -moz-border-radius-topleft: 5px; -moz-border-radius-topright: 5px; -moz-border-radius-bottomright: 5px; -moz-border-radius-bottomleft: 5px;\">\n",
    "\n",
    "Ensuite, enregistrez votre fichier sous le nom test.py en choississant le language python, puis quittez l'éditeur de texte."
   ]
  },
  {
   "cell_type": "markdown",
   "metadata": {},
   "source": [
    "<img src=\"./Figure/EdPythonJupyter.png\" width=\"600\">\n"
   ]
  },
  {
   "cell_type": "markdown",
   "metadata": {},
   "source": [
    "L'extension de fichier standard des scripts Python est .py.  "
   ]
  },
  {
   "cell_type": "markdown",
   "metadata": {},
   "source": [
    "<div style=\"border: 2px solid #C0392B; padding: 3px; background-color: #E6B0AA; -moz-border-radius-topleft: 5px; -moz-border-radius-topright: 5px; -moz-border-radius-bottomright: 5px; -moz-border-radius-bottomleft: 5px;\">\n",
    "    \n",
    "Pour **exécuter votre script**, ouvrez un shell et entrez la commande :"
   ]
  },
  {
   "cell_type": "raw",
   "metadata": {},
   "source": [
    "python test.py"
   ]
  },
  {
   "cell_type": "markdown",
   "metadata": {},
   "source": [
    " Vous avez exécuté votre premier programme Python."
   ]
  },
  {
   "cell_type": "markdown",
   "metadata": {},
   "source": [
    "##  <span style=\"color: #0000ff;\"><font size=\"+2\"><strong> 11.3 Syntaxe script </strong> </font> </span>"
   ]
  },
  {
   "cell_type": "markdown",
   "metadata": {},
   "source": [
    "##  <span style=\"color: #0000ff;\"><font size=\"+1\"><strong> 11.3.1 Commentaire </strong> </font> </span>"
   ]
  },
  {
   "cell_type": "markdown",
   "metadata": {},
   "source": [
    "Dans un script, tout ce qui suit le caractère # est ignoré par Python jusqu'à la fin de la ligne et est considéré comme un commentaire. Les commentaires doivent expliquer votre code dans un langage humain. L'utilisation des commentaires est rediscutée dans le chapitre 15 Bonnes pratiques en programmation Python.\n",
    "\n",
    "Voici un exemple :\n"
   ]
  },
  {
   "cell_type": "code",
   "execution_count": 5,
   "metadata": {},
   "outputs": [
    {
     "name": "stdout",
     "output_type": "stream",
     "text": [
      "Hello world!\n"
     ]
    }
   ],
   "source": [
    "print('Hello world!')\n",
    "# D'autres commandes plus utiles pourraient suivre."
   ]
  },
  {
   "cell_type": "markdown",
   "metadata": {},
   "source": [
    "##  <span style=\"color: #0000ff;\"><font size=\"+1\"><strong> 11.3.2 Notion de bloc d'instructions et d'indentation </strong> </font> </span>"
   ]
  },
  {
   "cell_type": "markdown",
   "metadata": {},
   "source": [
    "\n",
    "En programmation, il est courant de répéter un certain nombre de choses (avec les boucles, voir le chapitre 5 Boucles et comparaisons) ou d'exécuter plusieurs instructions si une condition est vraie (avec les tests, voir le chapitre 6 Tests).\n",
    "\n",
    "Pratiquement, l'indentation en Python doit être homogène (soit des espaces, soit des tabulations, mais pas un mélange des deux). Une indentation avec 4 espaces est le style d'indentation recommandé.\n"
   ]
  },
  {
   "cell_type": "markdown",
   "metadata": {},
   "source": [
    "##  <span style=\"color: #0000ff;\"><font size=\"+2\"><strong> 11.4 Installation de python en local  </strong> </font> </span>"
   ]
  },
  {
   "cell_type": "markdown",
   "metadata": {},
   "source": [
    "##  <span style=\"color: #0000ff;\"><font size=\"+1\"><strong> 11.4.1 Installation de Pycharm </strong> </font> </span>\n",
    "\n",
    "<div style=\"border: 2px solid #C0392B; padding: 3px; background-color: #E6B0AA; -moz-border-radius-topleft: 5px; -moz-border-radius-topright: 5px; -moz-border-radius-bottomright: 5px; -moz-border-radius-bottomleft: 5px;\">\n",
    "  \n",
    "[pycharm](https://www.jetbrains.com/fr-fr/pycharm/) est un environment de dévelloppement intégré quui posséde des fonctions étendues comme la coloration syntaxique, l'auto-complétion, la gestion d'environement virtuel (pip ou conda) ou le debuggeur.\n",
    "\n",
    "Cet environement est multiplateforme."
   ]
  },
  {
   "cell_type": "markdown",
   "metadata": {},
   "source": [
    "##  <span style=\"color: #0000ff;\"><font size=\"+1\"><strong> 11.4.2 pip/Anaconda </strong> </font> </span>\n",
    "\n",
    "Python est déjà présent sous Linux ou Mac OS X et s'installe sous Windows. Toutefois, nous sommes naturellement poussé à utiliser des modules supplémentaires. On va donc utiliser un gestionnaire de paquets qui va installer ces modules supplémentaires.\n",
    "On souhaite également que ce gestionnaire de paquets soit disponible pour Windows, Mac OS X et Linux.\n",
    "\n",
    "Il y a deux grandes alternatives :\n",
    "\n",
    "- **Pip** : pip est le gestionnaire de paquets de Python et qui est systématiquement présent depuis la version 3.4.\n",
    "\n",
    "- **Anaconda et Miniconda** : Anaconda est une distribution complète de Python qui contient un gestionnaire de paquets très puissant nommé conda. Anaconda installe de très nombreux paquets et outils mais nécessite un espace disque de plusieurs gigaoctets. Miniconda est une version allégée d'Anaconda, donc plus rapide à installer et occupant peu d'espace sur le disque dur. Le gestionnaire de paquet conda est aussi présent dans Miniconda.\n",
    "\n",
    "Par ailleurs, nous vous recommandons vivement la lecture de la rubrique sur les éditeurs de texte. Il est en effet fondamental d'utiliser un éditeur robuste et de savoir le configurer pour « pythonner » efficacement."
   ]
  },
  {
   "cell_type": "markdown",
   "metadata": {},
   "source": [
    "##  <span style=\"color: #0000ff;\"><font size=\"+1\"><strong> 11.4.3 Un peu d'explication </strong> </font> </span>\n"
   ]
  },
  {
   "cell_type": "markdown",
   "metadata": {},
   "source": [
    "### **Installer des modules**\n",
    "\n",
    "Une des forces de python est la multitude de bibliothèques disponibles.Installer une bibliothèque peut vite devenir ennuyeux: trouver le bon site, la bonne version de la bibliothèque, l'installer, trouver ses dépendances, etc.  \n",
    "\n",
    "***Il existe une solution qui vous permet de télécharger très simplement une bibliothèque: pip***\n",
    "\n",
    "PIP c'est quoi?\n",
    "Pip est un système de gestion de paquets utilisé pour installer et gérer des librairies écrites en Python . Vous pouvez trouver une grande partie de ces librairies dans le Python Package Index  (ou PyPI). Pip empêche les installations partielles en annonçant toutes les exigences avant l'installation.\n",
    "### **Installer pip**\n",
    "Pour installer pip il vous faudra exécuter la commande:\n",
    "\n",
    "sudo apt-get install python-pip\n",
    "Et pour python 3 :\n",
    "\n",
    "sudo apt-get install python3-pip\n",
    "### **Que fait PIP**\n",
    "Pip vous permet d'installer une librarie aussi facilement que cela:"
   ]
  },
  {
   "cell_type": "code",
   "execution_count": null,
   "metadata": {},
   "outputs": [],
   "source": [
    "pip install django"
   ]
  },
  {
   "cell_type": "markdown",
   "metadata": {},
   "source": [
    "Facile!\n",
    "\n",
    "- Vous pouvez choisir la version qui vous intéresse:\n",
    "pip install django==2.2\n",
    "\n",
    "- Supprimer une lib:\n",
    "pip uninstall django\n",
    "\n",
    "- Mettre à jour une lib:\n",
    "pip install django --upgrade\n",
    "\n",
    "- Downgrader une version:\n",
    "pip install django==2.1 --upgrade\n",
    "\n",
    "- Rechercher une nouvelle lib\n",
    "pip search django\n",
    "\n",
    "- Vous indique quels lib n'est plus à jour:\n",
    "pip list --outdated\n",
    "\n",
    "- Afficher toutes les lib installées et leur version\n",
    "pip freeze\n",
    "\n",
    "- Exportez cette liste, vous pouvez la réimporter ailleurs:\n",
    "pip freeze > lib.txt\n",
    "\n",
    "- Puis vous l'importez comme ceci:\n",
    "pip install -r lib.txt\n",
    "\n",
    "- Pour créer un gros zip qui contient toutes les dépendances:\n",
    "pip bundle <nom_du_bundle>.pybundle -r lib.txt\n",
    "\n",
    "- Puis pour installer les lib\n",
    "pip install <nom_du_bundle>.pybundle\n",
    "\n",
    "Pour plus d'infos vous pouvez regarder la doc officielle: PIP "
   ]
  },
  {
   "cell_type": "markdown",
   "metadata": {},
   "source": [
    "Python est un langage qui possède de nombreuses librairies. Il peut arriver que vous travailliez sur plusieurs projets à la fois nécessitant chacun des librairies de version différente. \n",
    "Alors comment travailler sur une même lib mais avec des versions différentes?"
   ]
  },
  {
   "cell_type": "markdown",
   "metadata": {},
   "source": [
    "C'est possible grâce au packet virtualenv\n",
    "\n",
    "## **Installation d'un venv avec python 3.3**\n",
    "Si vous avez une version python > 3.3 vous pouvez suivre les commandes suivantes:\n",
    "\n",
    "\n",
    "Utilisons pip pour installer notre packet:\n",
    "\n",
    "pip install virtualenv\n",
    "Créer un environnement avec virtualenv\n",
    "Nous pouvons maintenant créer notre environnement, pour cela restez au niveau de votre home et lancez la commande suivante:"
   ]
  },
  {
   "cell_type": "raw",
   "metadata": {},
   "source": [
    "$ virtualenv ap\n",
    "New python executable in ap/bin/python\n",
    "Installing setuptools, pip...done."
   ]
  },
  {
   "cell_type": "markdown",
   "metadata": {},
   "source": [
    "Vous pouvez créer votre dossier de configuration où bon vous semble:"
   ]
  },
  {
   "cell_type": "markdown",
   "metadata": {},
   "source": [
    "Après l'installation, vous pouvez explorer le dossier de votre environnement:"
   ]
  },
  {
   "cell_type": "raw",
   "metadata": {},
   "source": [
    "ls ap/\n",
    "bin  include  lib"
   ]
  },
  {
   "cell_type": "markdown",
   "metadata": {},
   "source": [
    "Le dossier bin contient les exécutables pour créer votre environnement virtuel, c'est ici que se trouve l'interpréteur python.\n",
    "\n",
    "- Le dossier include contient les entêtes de l'environnement.\n",
    "\n",
    "- Le dossier lib contient les librairies tout simplement."
   ]
  },
  {
   "cell_type": "markdown",
   "metadata": {},
   "source": [
    "## **Activer l'environnement virtuel**\n",
    "Pour lancer votre environnement virtuel, il vous suffit de lancer l'executable activate du dossier bin :"
   ]
  },
  {
   "cell_type": "markdown",
   "metadata": {},
   "source": [
    "# $ source ap/bin/activate"
   ]
  },
  {
   "cell_type": "markdown",
   "metadata": {},
   "source": [
    "Une fois la commande executée, l' environnement devrait s'afficher dans votre terminal :"
   ]
  },
  {
   "cell_type": "code",
   "execution_count": null,
   "metadata": {},
   "outputs": [],
   "source": [
    "(ap)ghislain@bigone:~$"
   ]
  },
  {
   "cell_type": "markdown",
   "metadata": {},
   "source": [
    "Créer un environnement avec une version de python différente\n",
    "Si vous voulez changer la version de python dans votre environnement, vous pouvez utiliser le paramètre -p suivi du chemin de python"
   ]
  },
  {
   "cell_type": "markdown",
   "metadata": {},
   "source": [
    "Exemple:"
   ]
  },
  {
   "cell_type": "raw",
   "metadata": {},
   "source": [
    "virtualenv -p /usr/bin/python3 VenvP3"
   ]
  },
  {
   "cell_type": "markdown",
   "metadata": {},
   "source": [
    "Pour info vous pouvez trouver le chemin de python3 avec la commande which :"
   ]
  },
  {
   "cell_type": "raw",
   "metadata": {},
   "source": [
    "olivier@bigone:~$ which python3\n",
    "/usr/bin/python3"
   ]
  },
  {
   "cell_type": "markdown",
   "metadata": {},
   "source": [
    "## **Sortir du virtuelanv**\n",
    "Pour sortir de votre environnement virtuel, il vous suffit de lancer la commande:"
   ]
  },
  {
   "cell_type": "raw",
   "metadata": {},
   "source": [
    "deactivate"
   ]
  },
  {
   "cell_type": "markdown",
   "metadata": {},
   "source": [
    "La programmation nécessite d'écrire des lignes de code en utilisant un éditeur de texte. Le choix de cet éditeur est donc fondamental, celui-ci doit nous aider à repérer rapidement certaines zones du programme afin d'être efficace. Outre les fonctions de manipulation / remplacement / recherche de texte, un bon éditeur doit absolument posséder la coloration syntaxique (syntax highlighting en anglais). Celle-ci change la couleur et / ou la police de certaines zones du code comme les mot-clés du langage, les zones entre guillemets, les commentaires, etc. "
   ]
  },
  {
   "cell_type": "markdown",
   "metadata": {},
   "source": [
    "Nous pouvons vous conseiller  [Geany](https://www.geany.org/) qui posséde toutes les fonctions basiques"
   ]
  },
  {
   "cell_type": "code",
   "execution_count": null,
   "metadata": {},
   "outputs": [],
   "source": []
  }
 ],
 "metadata": {
  "kernelspec": {
   "display_name": "Python 3",
   "language": "python",
   "name": "python3"
  },
  "language_info": {
   "codemirror_mode": {
    "name": "ipython",
    "version": 3
   },
   "file_extension": ".py",
   "mimetype": "text/x-python",
   "name": "python",
   "nbconvert_exporter": "python",
   "pygments_lexer": "ipython3",
   "version": "3.7.3"
  }
 },
 "nbformat": 4,
 "nbformat_minor": 4
}
