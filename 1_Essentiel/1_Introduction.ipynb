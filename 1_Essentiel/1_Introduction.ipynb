{
 "cells": [
  {
   "cell_type": "markdown",
   "metadata": {},
   "source": [
    "<div style=\"border: 2px solid #0000ff; padding: 3px; background-color: #0099FF; -moz-border-radius-topleft: 5px; -moz-border-radius-topright: 5px; -moz-border-radius-bottomright: 5px; -moz-border-radius-bottomleft: 5px;\">\n",
    "    \n",
    "<center>\n",
    "<font size=\"+5\">Formation<br/>  Python<br/>  CEREGE</font> \n",
    "</center>\n",
    "</div>\n",
    "<img src = \"./Figure/logoCEREGE.png\" title = \"google logo\" alt = \"Google logo\"style=\"float:right;\"height=\"128\" width=\"128\">\n",
    "\n"
   ]
  },
  {
   "cell_type": "markdown",
   "metadata": {},
   "source": [
    "<hr size=\"4\" color=\"blue\">\n",
    "<p style=\"text-align: center;\"><span style=\"color: #0000ff;\"><font size=\"+5\"><strong> Introduction <br> à la programmation</strong> </font></span> </p>\n",
    "<hr size=\"4\" color=\"blue\">"
   ]
  },
  {
   "cell_type": "markdown",
   "metadata": {},
   "source": [
    "#  <span style=\"color: #0000ff;\"><font size=\"+3\"><strong> 1 Généralités </strong> </font> </span>"
   ]
  },
  {
   "cell_type": "markdown",
   "metadata": {},
   "source": [
    "<span style=\"color: #0000ff;\"><font size=\"+2\"><strong> A Créer, innover et maitriser,</strong> </font> </span>"
   ]
  },
  {
   "cell_type": "markdown",
   "metadata": {},
   "source": [
    "<div style=\"border: 2px solid #1EF223; padding: 3px; background-color: #DEFFCD; -moz-border-radius-topleft: 5px; -moz-border-radius-topright: 5px; -moz-border-radius-bottomright: 5px; -moz-border-radius-bottomleft: 5px;\">\n",
    "\n",
    "La programmation est un art intellectuellement exigeant mêlant à la fois la logique et la créativité qui vous donne la possibilité de donner vie a tous vos projets en s'emencipant de \n",
    "toutes limites liées à des logiciels thiers. Il vous donne la possibilité de maîtriser, coupler, adapter modifier et enfin automatiser vos traitements selon vos besoins.\n",
    "    "
   ]
  },
  {
   "cell_type": "markdown",
   "metadata": {},
   "source": [
    "Elle permet ainsi de mieux comprendre le fonctionnement et d'améliorer la vision que l'on peut se faire d'un problème.  \n",
    "La programmation et les progres de la puissance informatique ont permis de rendre les mathématiques plus concret et tangible et de pouvoir appliquer des traitements puissants. En effet, avant les mathématiques avaient tendance à apparaître comme une science froide, lointaine et complètement abstraite, **maintenant c'est fun**."
   ]
  },
  {
   "cell_type": "markdown",
   "metadata": {},
   "source": [
    " <span style=\"color: #0000ff;\"><font size=\"+2\"><strong>B Qualités nécessaires</strong> </font> </span>"
   ]
  },
  {
   "cell_type": "markdown",
   "metadata": {},
   "source": [
    "Les qualités nécessaires à par la pratique de la programmation sont les suivantes:\n",
    "\n",
    "\n",
    "- la ***ténacité*** l’activité principale d’un programmeur est de comprendre les bugs. Créer des lignes de code demande de la ***patience***  et de la **persévérance** pour ne pas se décourager à la première erreur. On doit rechercher en permanence ses erreurs, essayer d’améliorer un programme, identifier et corriger ce qui peut mal tourner. Cette démarche nécessite une humilité certaine vis-à-vis de son travail et une grande ouverture d’esprit.\n",
    "\n",
    "- le ***goût du challenge et du défi intellectuel***, chaque tâche est un défi dès lors qu’il s’agit de sortir de sa zone de confort ou de suivre un objectif précis. Le codeur doit pouvoir se fixer et délimiter clairement ses tâches de façon à obtenir ce qu’il chercher à réaliser.\n",
    "- La ***rigueur*** dans la méthode de travail et dans la syntaxe.\n",
    "- La ***curiosité*** comme état d’esprit\n",
    "- La ***logique*** est clé de voute du code « Le code est de la poésie » mais pas que. La logique d’un code s’apparente à de l’architecture mentale. Pourtant les efforts de logique, de construction et de l’agencement des sous-ensembles qui constituent le code nécessitent une vraie logique.Lorsque que vous rédigez un script, vous devez découper chaque action en une tâche qui nécessitent à chaque fois un cheminement logique de la pensée et une aptitude à comprendre comment communiquer au mieux avec la machine. "
   ]
  },
  {
   "cell_type": "markdown",
   "metadata": {},
   "source": [
    "#  <span style=\"color: #0000ff;\"><font size=\"+2\"><strong> C Logique informatique</strong> </font> </span>"
   ]
  },
  {
   "cell_type": "markdown",
   "metadata": {},
   "source": [
    "<div style=\"border: 2px solid #1EF223; padding: 3px; background-color: #DEFFCD; -moz-border-radius-topleft: 5px; -moz-border-radius-topright: 5px; -moz-border-radius-bottomright: 5px; -moz-border-radius-bottomleft: 5px;\">\n",
    "Si l'on souhaite résoudre un problème, la logique naturelle veux qu'on le décompose en sous-problèmes plus simple à résoudre (diviser pour mieux régner). Un algorithme de résolution est une méthode une façon systématique de découper le problème en tâche qui se succède logiquement, sous la forme d'instructions, ayant pour objectif de  résoudre le problème."
   ]
  },
  {
   "cell_type": "markdown",
   "metadata": {},
   "source": [
    "### Types d'instructions principales :\n",
    "\n",
    "- **Séquence d'instructions** (ou bloc d'instruction) désigne le fait de faire exécuter un ensemble d'instruction.\n",
    "- Les instructions d'**assignation**, en général, effectuent une opération sur l'information en mémoire et y enregistrent le résultat. \n",
    "- Instructions **conditionnelles** permettent à un bloc d'instructions de n'être exécuté que si une condition prédéterminée est réalisée."
   ]
  },
  {
   "cell_type": "markdown",
   "metadata": {},
   "source": [
    "\n",
    "<div style=\"border: 2px solid #0000ff; padding: 3px; background-color: #0099FF; -moz-border-radius-topleft: 5px; -moz-border-radius-topright: 5px; -moz-border-radius-bottomright: 5px; -moz-border-radius-bottomleft: 5px;\">\n",
    "<center>\n",
    " <b>si</b> (conditions)  <b>Alors</b> (instructions)       \n",
    "</center>\n"
   ]
  },
  {
   "cell_type": "markdown",
   "metadata": {},
   "source": [
    "- Instructions de **bouclage** servent à répéter une suite d'instructions un nombre prédéfini de fois, ou jusqu'à ce qu'une certaine condition soit réalisée."
   ]
  },
  {
   "cell_type": "markdown",
   "metadata": {},
   "source": [
    "<div style=\"border: 2px solid #0000ff; padding: 3px; background-color: #0099FF; -moz-border-radius-topleft: 5px; -moz-border-radius-topright: 5px; -moz-border-radius-bottomright: 5px; -moz-border-radius-bottomleft: 5px;\">\n",
    "   <center>\n",
    "- <b>tant que</b> conditions  <b>faire</b> instruction     \n",
    "</center>\n",
    "       <center>\n",
    "- <b>pour</b> conditions  <b>faire</b> instruction     \n",
    "</center>\n"
   ]
  },
  {
   "cell_type": "markdown",
   "metadata": {},
   "source": [
    "#  <span style=\"color: #0000ff;\"><font size=\"+3\"><strong> 2 Communiquer avec l'ordinateur : le langage </strong> </font> </span>"
   ]
  },
  {
   "cell_type": "markdown",
   "metadata": {},
   "source": [
    "#  <span style=\"color: #0000ff;\"><font size=\"+2\"><strong>A Pourquoi Python ?  </strong> </font> </span>"
   ]
  },
  {
   "cell_type": "markdown",
   "metadata": {},
   "source": [
    "<div style=\"border: 2px solid #C0392B; padding: 3px; background-color: #E6B0AA; -moz-border-radius-topleft: 5px; -moz-border-radius-topright: 5px; -moz-border-radius-bottomright: 5px; -moz-border-radius-bottomleft: 5px;\">\n",
    "    \n",
    "Python est un langage généraliste de programmation interprété qui a la particularité d'être ***très lisible et pragmatique***. Il dispose d'une ***très grosse base de modules externes, notamment scientifiques***, qui le rend particulièrement attractif pour programmer des problèmes mathématiques.  \n",
    "    Le fait que Python soit un langage interprété le rend plus lent que les langages compilés, par contre il permet une grande rapidité de développement qui permet au programmeur de travailler un peu moins au détriment de l'ordinateur qui devra travailler un peu plus. Cette particularité a fait que Python est devenu l'un des principaux langages de programmation utilisé par les scientifiques."
   ]
  },
  {
   "cell_type": "markdown",
   "metadata": {},
   "source": [
    "Python permet de développer ses propres algorithmes en y intégrant de nombreuses traitements 'classiques' pouvant constituer une chaîne de traitements complexes."
   ]
  },
  {
   "cell_type": "markdown",
   "metadata": {},
   "source": [
    "Parmis les traitements classiques on peut citer de manière non exhaustive :\n",
    " le calcul numérique (résolution équation, EDP) et statistique (ACP, Apprentissage), la représentation (2D, 3D), le traitement de données, l'interfacage (base de données, fortran, C++), Deep learning (reconnaissance d'image, neuronal network)\n",
    "le développement web, la résolution d’équations \n",
    "aux dérivées partielles, le calcul symbolique, ou gestion de systèmes (automatisation de tâches).    \n",
    "De plus, sa communauté, très importante,\n",
    "propose sans cesse de nouveaux \n",
    "développements algorithmiques correspondant\n",
    "aux dernières avancés de la recherche\n",
    "sous la forme de modules documentés \n",
    "et référencés scientifiquement. \n",
    "(plus de 130 000 modules proposés sur pypie).   \n",
    " adresse web "
   ]
  },
  {
   "cell_type": "markdown",
   "metadata": {},
   "source": [
    "### Un peu d'histoire\n",
    "Le langage de programmation Python a été créé en 1989 par Guido van Rossum, aux Pays-Bas. Le nom Python vient d'un hommage à la série télévisée Monty Python's Flying Circus dont G. van Rossum est fan. La première version publique de ce langage a été publiée en 1991.\n",
    "\n",
    "La dernière version de Python est la version 3. Plus précisément, la version 3.7 a été publiée en juin 2018. La version 2 de Python est désormais obsolète et cessera d'être maintenue après le 1er janvier 2020. Dans la mesure du possible évitez de l'utiliser.\n",
    "\n",
    "La Python Software Foundation est l'association qui organise le développement de Python et anime la communauté de développeurs et d'utilisateurs.\n",
    "\n",
    "### Avantage \n",
    "\n",
    "Ce langage de programmation présente de nombreuses caractéristiques intéressantes :\n",
    "\n",
    "- Il est **modulable** : [PyPI](https://pypi.org/) (de l'anglais « Python Package Index ») est le dépôt tiers officiel du langage de programmation Python. Son objectif est de doter la communauté des développeurs Python d'un catalogue complet recensant tous les paquets Python libres.\n",
    "- Il est ***relativement simple*** à prendre en main.\n",
    "- Il est ***orienté objet***. C'est-à-dire qu'il est possible de concevoir en Python des entités qui miment celles du monde réel (une cellule, une protéine, un atome, etc.) avec un certain nombre de règles de fonctionnement et d'interactions.\n",
    "- Il est ***gratuit***. Vous pouvez l'installer sur autant d'ordinateurs que vous voulez (même sur votre téléphone !).\n",
    "- Il est ***multiplateforme***. C'est-à-dire qu'il fonctionne sur de nombreux systèmes d'exploitation : Windows, Mac OS X, Linux, Android, iOS, depuis les mini-ordinateurs Raspberry Pi jusqu'aux supercalculateurs.\n",
    "- C'est un ***langage de haut niveau***. Il demande relativement peu de connaissance sur le fonctionnement d'un ordinateur pour être utilisé.\n",
    "- C'est un ***langage interprété***. Un script Python n'a pas besoin d'être compilé pour être exécuté, contrairement à des langages comme le C ou le C++.\n",
    "\n",
    "\n",
    "Toutes ces caractéristiques font que Python est désormais enseigné dans de nombreuses formations, depuis l'enseignement secondaire jusqu'à l'enseignement supérieur."
   ]
  },
  {
   "cell_type": "markdown",
   "metadata": {},
   "source": [
    "\n",
    "\n",
    "#  <span style=\"color: #0000ff;\"><font size=\"+2\"><strong> B Python en pratique </strong> </font> </span>"
   ]
  },
  {
   "cell_type": "markdown",
   "metadata": {},
   "source": [
    "Il existe deux espaces ou environments de développement python :\n",
    "\n",
    "- Un **interpréteur** chargé d'exécuter les commandes combiné à un **éditeur** permettant la rédaction d'un ensemble de commandes appelle algorithme formant un espace de devellopement dédié au développements d'algorithmes avancées. On peut utiliser notepad++ sous Windows, BBEdit ou CotEditor sous Mac OS X et gedit sous Linux. Il existe aussi  d'autres éditeurs comme Atom, Visual Studio Code, Sublime Text, emacs, vim, geany. Dans la pratique ces deux parties sont réunies dans ce que l'on appelle un editeur de développement intégré (pycharm) . L'ensemble de ces outils sont proposé sur le modelserver.\n",
    "\n",
    "- ***Le Notebook*** (jupyter) qui est un environnement de programmation interactif dédié à la formation celui qui va être utilisé pendant la première partie du cours. C'est une application Web interactive dans laquelle on peut développer, documenter, exécuter et partager du code. C’est un excellent outil notamment dans le domaine de la formation et des première analyse de : de données , vous les affichez, vous les étudiez, vous les exploitez avec des algorithmes traduits en programmes Python que vous exécutez à la volée. Un document qui permet d’intégrer  en plus du code, des équations écrites en LATEX, du texte formaté en Markdown (convertit du format txt en html), différents médias (audio, vidéo) et qui s’exporte dans un certain nombre de formats (HTML, PDF, LATEX\n",
    "\n",
    "Si vous souhaitez travailler en local sur votre ordinateur vous pouvez installer **pycharm**, logiciel gratuit, disponible pour Windows, Mac OS X et Linux, qui installera pour vous Python et tous les outils nécessaires au développement de code."
   ]
  },
  {
   "cell_type": "markdown",
   "metadata": {},
   "source": [
    "\n",
    "<div style=\"border: 2px solid #C0392B; padding: 3px; background-color: #E6B0AA; -moz-border-radius-topleft: 5px; -moz-border-radius-topright: 5px; -moz-border-radius-bottomright: 5px; -moz-border-radius-bottomleft: 5px;\">\n",
    "    \n",
    "La maniére de développer du code python la plus efficasse et parfois la seule selon le projet, reste l'utilisation d'un ***interpreteur ainsi que ainsi que  d'un editeur de texte***.\n",
    "Je vous invite donc dés que vous vous sentirez allaise de passer à des méthodes coventionelle."
   ]
  },
  {
   "cell_type": "code",
   "execution_count": null,
   "metadata": {},
   "outputs": [],
   "source": []
  },
  {
   "cell_type": "code",
   "execution_count": null,
   "metadata": {},
   "outputs": [],
   "source": []
  }
 ],
 "metadata": {
  "kernelspec": {
   "display_name": "Python 3",
   "language": "python",
   "name": "python3"
  },
  "language_info": {
   "codemirror_mode": {
    "name": "ipython",
    "version": 3
   },
   "file_extension": ".py",
   "mimetype": "text/x-python",
   "name": "python",
   "nbconvert_exporter": "python",
   "pygments_lexer": "ipython3",
   "version": "3.7.3"
  }
 },
 "nbformat": 4,
 "nbformat_minor": 4
}
