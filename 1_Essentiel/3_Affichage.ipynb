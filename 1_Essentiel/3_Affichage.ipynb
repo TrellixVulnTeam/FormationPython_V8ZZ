{
 "cells": [
  {
   "cell_type": "markdown",
   "metadata": {},
   "source": [
    "<hr size=\"4\" color=\"blue\">\n",
    "<p style=\"text-align: center;\"><span style=\"color: #0000ff;\"><font size=\"+5\"><strong> 3 Affichage</strong> </font></span> </p>\n",
    "<hr size=\"4\" color=\"blue\">"
   ]
  },
  {
   "cell_type": "markdown",
   "metadata": {},
   "source": [
    "#  <span style=\"color: #0000ff;\"><font size=\"+2\"><strong>3.1 Sortie écran </strong> </font> </span>"
   ]
  },
  {
   "cell_type": "markdown",
   "metadata": {},
   "source": [
    "<div style=\"border: 2px solid #C0392B; padding: 3px; background-color: #E6B0AA; -moz-border-radius-topleft: 5px; -moz-border-radius-topright: 5px; -moz-border-radius-bottomright: 5px; -moz-border-radius-bottomleft: 5px;\">\n",
    "    \n",
    "\n",
    "**La fonction <span style=\"background:#E7E7E7\">*print()*</span> affiche l'argument qu'on lui passe entre parenthèses et un retour à ligne.**\n",
    "Ce retour à ligne supplémentaire est ajouté par défaut. Si toutefois, on ne veut pas afficher ce retour à la ligne, \n",
    "on peut utiliser l'argument par « mot-clé » end :"
   ]
  },
  {
   "cell_type": "markdown",
   "metadata": {},
   "source": [
    "On utilise l'instruction ***print()*** classiquement en passant la chaîne de caractères \"Hello world!\" en argument."
   ]
  },
  {
   "cell_type": "code",
   "execution_count": null,
   "metadata": {},
   "outputs": [],
   "source": [
    "print(\"Hello world!\")"
   ]
  },
  {
   "cell_type": "markdown",
   "metadata": {},
   "source": [
    "On a ajouté un second argument end=\"\", en précisant le mot-clé end qui modifie le comportement par défaut des fonctions."
   ]
  },
  {
   "cell_type": "code",
   "execution_count": 2,
   "metadata": {},
   "outputs": [
    {
     "name": "stdout",
     "output_type": "stream",
     "text": [
      "Hello world!a"
     ]
    }
   ],
   "source": [
    "print(\"Hello world!\", end=\"a\")"
   ]
  },
  {
   "cell_type": "markdown",
   "metadata": {},
   "source": [
    "Utiliser deux fonctions print() à la suite. Dans la portion de code suivante, le caractère « ; » sert à séparer plusieurs instructions Python sur une même ligne :"
   ]
  },
  {
   "cell_type": "code",
   "execution_count": 4,
   "metadata": {},
   "outputs": [
    {
     "name": "stdout",
     "output_type": "stream",
     "text": [
      "Hello\n",
      "Joe\n"
     ]
    }
   ],
   "source": [
    "print(\"Hello\");  print(\"Joe\")"
   ]
  },
  {
   "cell_type": "code",
   "execution_count": 5,
   "metadata": {},
   "outputs": [
    {
     "name": "stdout",
     "output_type": "stream",
     "text": [
      "HelloaJoe\n"
     ]
    }
   ],
   "source": [
    "print(\"Hello\", end=\"a\") ; print(\"Joe\")"
   ]
  },
  {
   "cell_type": "markdown",
   "metadata": {},
   "source": [
    "La fonction print() peut également ***afficher le contenu d'une variable*** quel que soit son type. \n",
    "Par exemple, pour un entier :"
   ]
  },
  {
   "cell_type": "code",
   "execution_count": 7,
   "metadata": {},
   "outputs": [
    {
     "name": "stdout",
     "output_type": "stream",
     "text": [
      "3\n"
     ]
    }
   ],
   "source": [
    "var = 3\n",
    "print(var)"
   ]
  },
  {
   "cell_type": "markdown",
   "metadata": {},
   "source": [
    "Il est également possible d'afficher le contenu de plusieurs variables (quel que soit leur type)\n",
    "en les séparant par des virgules :"
   ]
  },
  {
   "cell_type": "code",
   "execution_count": 8,
   "metadata": {},
   "outputs": [
    {
     "name": "stdout",
     "output_type": "stream",
     "text": [
      "John a 32 ans\n"
     ]
    }
   ],
   "source": [
    "x = 32\n",
    "nom = \"John\"\n",
    "print(nom, \"a\", x, \"ans\")"
   ]
  },
  {
   "cell_type": "markdown",
   "metadata": {},
   "source": [
    "Python a écrit une phrase complète en remplaçant les variables x et nom par leur contenu. Vous remarquerez que pour afficher plusieurs éléments de texte sur une seule ligne, nous avons utilisé le séparateur « , » entre les différents éléments. Python a également ajouté un espace à chaque fois que l'on utilisait le séparateur « , ». On peut modifier ce comportement en passant à la fonction print() l'argument par mot-clé sep :"
   ]
  },
  {
   "cell_type": "code",
   "execution_count": 11,
   "metadata": {},
   "outputs": [
    {
     "name": "stdout",
     "output_type": "stream",
     "text": [
      "Johna32ans\n"
     ]
    }
   ],
   "source": [
    "x = 32\n",
    "nom = \"John\"\n",
    "print(nom, \"a\", x, \"ans\", sep=\"\")"
   ]
  },
  {
   "cell_type": "code",
   "execution_count": 12,
   "metadata": {},
   "outputs": [
    {
     "name": "stdout",
     "output_type": "stream",
     "text": [
      "John-a-32-ans\n"
     ]
    }
   ],
   "source": [
    "print(nom, \"a\", x, \"ans\", sep=\"-\")"
   ]
  },
  {
   "cell_type": "markdown",
   "metadata": {},
   "source": [
    "Pour afficher deux chaînes de caractères l'une à côté de l'autre, sans espace, on peut soit les concaténer, \n",
    "soit utiliser l'argument par mot-clé sep avec une chaîne de caractères vide :"
   ]
  },
  {
   "cell_type": "code",
   "execution_count": 13,
   "metadata": {},
   "outputs": [
    {
     "name": "stdout",
     "output_type": "stream",
     "text": [
      "chat souris\n"
     ]
    }
   ],
   "source": [
    "ani1 = \"chat\"\n",
    "ani2 = \"souris\"\n",
    "print(ani1, ani2)"
   ]
  },
  {
   "cell_type": "code",
   "execution_count": 14,
   "metadata": {},
   "outputs": [
    {
     "name": "stdout",
     "output_type": "stream",
     "text": [
      "chatsouris\n",
      "chatççsouris\n"
     ]
    }
   ],
   "source": [
    "print(ani1 + ani2)\n",
    "print(ani1, ani2, sep=\"çç\")"
   ]
  },
  {
   "cell_type": "markdown",
   "metadata": {},
   "source": [
    " #  <span style=\"color: #0000ff;\"><font size=\"+2\"><strong>3.2 Écriture formatée</strong> </font> </span>"
   ]
  },
  {
   "cell_type": "markdown",
   "metadata": {},
   "source": [
    "La méthode <span style=\"background:#E7E7E7\">*.format()*</span> permet une meilleure organisation de l'affichage des variables\n",
    "\n",
    "Si on reprend l'exemple précédent :"
   ]
  },
  {
   "cell_type": "code",
   "execution_count": 15,
   "metadata": {},
   "outputs": [
    {
     "name": "stdout",
     "output_type": "stream",
     "text": [
      "John a 32 ans\n"
     ]
    }
   ],
   "source": [
    "x = 32\n",
    "nom = \"John\"\n",
    "print(\"{} a {} ans\".format(nom, x))"
   ]
  },
  {
   "cell_type": "markdown",
   "metadata": {},
   "source": [
    "Dans la chaîne de caractères,\n",
    "- les accolades vides {} précisent l'endroit où le contenu de la variable doit être inséré.\n",
    "- Juste après la chaîne de caractères, l'instruction .format(nom, x) fournie la liste des variables à insérer, d'abord la variable nom puis la variable x. <br>\n",
    "\n",
    "La méthode .format() agit sur la chaîne de caractères à laquelle elle est attachée par le point.\n",
    "\n",
    " ***Remarque***\n",
    " \n",
    "Il est possible d'indiquer entre les accolades {} dans quel ordre afficher les variables, avec 0 pour la variable à afficher en premier, 1 pour la variable à afficher en second, etc. (attention, Python commence à compter à 0). Cela permet de modifier l'ordre dans lequel sont affichées les variables."
   ]
  },
  {
   "cell_type": "code",
   "execution_count": 18,
   "metadata": {},
   "outputs": [],
   "source": [
    "x = 32\n",
    "nom = \"John\""
   ]
  },
  {
   "cell_type": "code",
   "execution_count": 19,
   "metadata": {},
   "outputs": [
    {
     "name": "stdout",
     "output_type": "stream",
     "text": [
      "32 a John ans\n"
     ]
    }
   ],
   "source": [
    "print(\"{1} a {0} ans\".format(nom, x))"
   ]
  },
  {
   "cell_type": "markdown",
   "metadata": {},
   "source": [
    "Soit la probabilité suivante"
   ]
  },
  {
   "cell_type": "code",
   "execution_count": 20,
   "metadata": {},
   "outputs": [
    {
     "name": "stdout",
     "output_type": "stream",
     "text": [
      "La proportion de GC est 0.4780405405405405\n"
     ]
    }
   ],
   "source": [
    "prop= (4500 + 2575) / 14800\n",
    "print(\"La proportion de GC est\", prop)"
   ]
  },
  {
   "cell_type": "markdown",
   "metadata": {},
   "source": [
    "                                   \n",
    "Le résultat obtenu présente trop de décimales (seize dans le cas présent).\n",
    "Pour écrire le résultat plus lisiblement, vous pouvez spécifier dans les accolades {} le format qui vous intéresse. Dans le cas présent, vous voulez formater un float pour l'afficher avec deux puis trois décimales :"
   ]
  },
  {
   "cell_type": "code",
   "execution_count": 21,
   "metadata": {},
   "outputs": [
    {
     "name": "stdout",
     "output_type": "stream",
     "text": [
      "La proportion de GC est 0.48\n"
     ]
    }
   ],
   "source": [
    "print(\"La proportion de GC est {:.2f}\".format(prop))"
   ]
  },
  {
   "cell_type": "markdown",
   "metadata": {},
   "source": [
    "Détaillons le contenu des accolades de la première ligne ({:.2f}) :\n",
    "\n",
    "- Les deux points : indiquent qu'on veut préciser le format.\n",
    "- la lettre f indique qu'on souhaite afficher la variable sous forme d'un float.\n",
    "- Les caractères .2 indiquent la précision voulue, soit ici deux chiffres après la virgule.\n",
    "- Notez enfin que le formatage avec .xf (x étant un entier positif) renvoie un résultat arrondi.\n",
    "\n",
    "Il est par ailleurs possible de combiner le formatage (à droite des 2 points) ainsi que l'emplacement des variables à substituer (à gauche des 2 points), par exemple :"
   ]
  },
  {
   "cell_type": "code",
   "execution_count": 26,
   "metadata": {},
   "outputs": [
    {
     "name": "stdout",
     "output_type": "stream",
     "text": [
      "prop GC(2 déci.) = 0.48, prop GC(3 déci.) = 0.478\n"
     ]
    }
   ],
   "source": [
    "print(\"prop GC(2 déci.) = {0:.2f}, prop GC(3 déci.) = {0:.3f}\".format(prop))"
   ]
  },
  {
   "cell_type": "markdown",
   "metadata": {},
   "source": [
    "Vous remarquerez qu'on utilise ici la même variable (prop_GC) à deux endroits différents.\n",
    "\n",
    "Vous pouvez aussi formater des entiers avec la lettre d :"
   ]
  },
  {
   "cell_type": "code",
   "execution_count": 23,
   "metadata": {},
   "outputs": [
    {
     "name": "stdout",
     "output_type": "stream",
     "text": [
      "Ce génome contient 4500 guanines\n"
     ]
    }
   ],
   "source": [
    "nb_G = 4500\n",
    "print(\"Ce génome contient {:d} guanines\".format(nb_G))"
   ]
  },
  {
   "cell_type": "markdown",
   "metadata": {},
   "source": [
    "ou mettre plusieurs nombres dans une même chaîne de caractères."
   ]
  },
  {
   "cell_type": "code",
   "execution_count": 27,
   "metadata": {},
   "outputs": [
    {
     "name": "stdout",
     "output_type": "stream",
     "text": [
      "Ce génome contient 4500 G et 2575 C, soit une prop de GC de 0.48\n"
     ]
    }
   ],
   "source": [
    "nb_G = 4500\n",
    "nb_C = 2575\n",
    "print(\"Ce génome contient {:d} G et {:d} C, soit une prop de GC de {:.2f}\".format(nb_G,nb_C,prop))"
   ]
  },
  {
   "cell_type": "code",
   "execution_count": 25,
   "metadata": {},
   "outputs": [
    {
     "ename": "NameError",
     "evalue": "name 'prop_GC' is not defined",
     "output_type": "error",
     "traceback": [
      "\u001b[0;31m---------------------------------------------------------------------------\u001b[0m",
      "\u001b[0;31mNameError\u001b[0m                                 Traceback (most recent call last)",
      "\u001b[0;32m<ipython-input-25-9edd27b209fa>\u001b[0m in \u001b[0;36m<module>\u001b[0;34m()\u001b[0m\n\u001b[0;32m----> 1\u001b[0;31m \u001b[0mperc_GC\u001b[0m \u001b[0;34m=\u001b[0m \u001b[0mprop_GC\u001b[0m \u001b[0;34m*\u001b[0m \u001b[0;36m100\u001b[0m\u001b[0;34m\u001b[0m\u001b[0;34m\u001b[0m\u001b[0m\n\u001b[0m",
      "\u001b[0;31mNameError\u001b[0m: name 'prop_GC' is not defined"
     ]
    }
   ],
   "source": [
    "perc_GC = prop_GC * 100"
   ]
  },
  {
   "cell_type": "markdown",
   "metadata": {},
   "source": [
    "---\n",
    "<p style=\"text-align: center;\"><font size=\"+2\"><strong>Pour aller plus loin</strong> </font> </p>\n",
    "\n",
    "---\n"
   ]
  },
  {
   "cell_type": "markdown",
   "metadata": {},
   "source": [
    ">Enfin, il est possible de préciser sur combien de caractères vous voulez qu'un résultat soit écrit et comment se fait l'alignement (à gauche, à droite ou centré). Dans la portion de code suivante, le caractère ; sert de séparateur entre les instructions sur une même ligne :"
   ]
  },
  {
   "cell_type": "code",
   "execution_count": 7,
   "metadata": {},
   "outputs": [
    {
     "name": "stdout",
     "output_type": "stream",
     "text": [
      "10\n",
      "1000\n"
     ]
    }
   ],
   "source": [
    "print(10) ; print(1000)"
   ]
  },
  {
   "cell_type": "code",
   "execution_count": 8,
   "metadata": {},
   "outputs": [
    {
     "name": "stdout",
     "output_type": "stream",
     "text": [
      "    10\n",
      "  1000\n",
      "10    \n",
      "1000  \n",
      "  10  \n",
      " 1000 \n",
      "**10**\n",
      "*1000*\n",
      "000010\n",
      "001000\n"
     ]
    }
   ],
   "source": [
    "print(\"{:>6d}\".format(10)) ; print(\"{:>6d}\".format(1000))\n",
    "print(\"{:<6d}\".format(10)) ; print(\"{:<6d}\".format(1000))\n",
    "print(\"{:^6d}\".format(10)) ; print(\"{:^6d}\".format(1000))\n",
    "print(\"{:*^6d}\".format(10)) ; print(\"{:*^6d}\".format(1000))\n",
    "print(\"{:0>6d}\".format(10)) ; print(\"{:0>6d}\".format(1000))"
   ]
  },
  {
   "cell_type": "markdown",
   "metadata": {},
   "source": [
    "> Notez que > spécifie un alignement à droite, < spécifie un alignement à gauche et ^ spécifie un alignement centré. Il est également possible d'indiquer le caractère qui servira de remplissage lors des alignements (l'espace est le caractère par défaut).\n",
    "Ce formatage est également possible sur des chaînes de caractères avec la lettre s (comme string) :"
   ]
  },
  {
   "cell_type": "code",
   "execution_count": 9,
   "metadata": {},
   "outputs": [
    {
     "name": "stdout",
     "output_type": "stream",
     "text": [
      "atom HN\n",
      "atom HDE1\n"
     ]
    }
   ],
   "source": [
    "print(\"atom HN\") ; print(\"atom HDE1\")"
   ]
  },
  {
   "cell_type": "markdown",
   "metadata": {},
   "source": [
    ">Vous voyez tout de suite l'énorme avantage de l'écriture formatée.\n",
    "Elle vous permet d'écrire en colonnes parfaitement alignées. Pour les floats, il est possible de combiner le nombre de caractères à afficher avec le nombre de décimales :"
   ]
  },
  {
   "cell_type": "code",
   "execution_count": 17,
   "metadata": {},
   "outputs": [
    {
     "name": "stdout",
     "output_type": "stream",
     "text": [
      "  0.478\n",
      "     0.478\n"
     ]
    }
   ],
   "source": [
    "print(\"{:7.3f}\".format(prop))\n",
    "print(\"{:10.3f}\".format(prop))"
   ]
  },
  {
   "cell_type": "markdown",
   "metadata": {},
   "source": [
    "> L'instruction 7.3f signifie que l'on souhaite écrire un float avec 3 décimales et formaté sur 7 caractères\n",
    "(par défaut justifiés à droite). L'instruction 10.3f fait la même chose sur 10 caractères.\n",
    "Remarquez que le séparateur décimal . compte pour un caractère.\n",
    "\n",
    "> Enfin, si on veut afficher des accolades littérales et utiliser la méthode .format() en même temps, \n",
    "il faut doubler les accolades pour échapper au formatage :\n",
    "\n",
    "    "
   ]
  },
  {
   "cell_type": "code",
   "execution_count": 15,
   "metadata": {},
   "outputs": [
    {
     "name": "stdout",
     "output_type": "stream",
     "text": [
      "Accolades littérales {} et pour le formatage 10\n"
     ]
    }
   ],
   "source": [
    "print(\"Accolades littérales {{}} et pour le formatage {}\".format(10))"
   ]
  },
  {
   "cell_type": "markdown",
   "metadata": {},
   "source": [
    "> Accolades littérales {} et pour le formatage 10\n",
    "La méthode .format() agit sur la chaîne de caractères à laquelle elle est attachée par un point\n",
    "et n'a rien à voir avec la fonction print(). Si on donne une chaîne de caractères suivie d'un .format()\n",
    "à la fonction print(), Python évalue d'abord le formatage et c'est la chaîne de caractères\n",
    "qui en résulte qui est affichée à l'écran. Tout comme dans l'instruction print(5*5), \n",
    "c'est d'abord la multiplication (5*5) qui est évaluée, puis son résultat qui est affiché à l'écran. \n",
    "On peut s'en rendre compte de la manière suivante dans l'interpréteur :"
   ]
  },
  {
   "cell_type": "code",
   "execution_count": 18,
   "metadata": {},
   "outputs": [
    {
     "data": {
      "text/plain": [
       "'     0.478'"
      ]
     },
     "execution_count": 18,
     "metadata": {},
     "output_type": "execute_result"
    }
   ],
   "source": [
    "\"{:10.3f}\".format(prop)"
   ]
  },
  {
   "cell_type": "code",
   "execution_count": 20,
   "metadata": {},
   "outputs": [
    {
     "data": {
      "text/plain": [
       "str"
      ]
     },
     "execution_count": 20,
     "metadata": {},
     "output_type": "execute_result"
    }
   ],
   "source": [
    " type(\"{:10.3f}\".format(prop))"
   ]
  },
  {
   "cell_type": "markdown",
   "metadata": {},
   "source": [
    "> Python affiche le résultat de l'instruction \"{:10.3f}\".format(perc_GC) \n",
    "comme une chaîne de caractères et la fonction type() nous le confirme."
   ]
  },
  {
   "cell_type": "markdown",
   "metadata": {},
   "source": [
    "  \n",
    "<div style=\"border: 2px solid #0000ff; padding: 3px; background-color: #0099FF; -moz-border-radius-topleft: 5px; -moz-border-radius-topright: 5px; -moz-border-radius-bottomright: 5px; -moz-border-radius-bottomleft: 5px;\">\n",
    "\n",
    "***Remarque***\n",
    "\n",
    "Revenons quelques instants sur la notion de méthode abordée dans ce chapitre avec .format(). En Python, on peut considérer chaque variable comme un objet sur lequel on peut appliquer des méthodes. Une méthode est simplement une fonction qui utilise et/ou agit sur l'objet lui-même, les deux étant connectés par un point. La syntaxe générale est de la forme objet.méthode()."
   ]
  },
  {
   "cell_type": "markdown",
   "metadata": {},
   "source": [
    "Par exemple dans,"
   ]
  },
  {
   "cell_type": "markdown",
   "metadata": {},
   "source": [
    "\"Joe a {} ans\".format(20)"
   ]
  },
  {
   "cell_type": "markdown",
   "metadata": {},
   "source": [
    "la méthode .format() est liée à \"Joe a {} ans\" qui est un objet de type chaîne de caractères. La méthode renvoie une nouvelle chaîne de caractères avec le bon formatage (ici, 'Joe a 20 ans')."
   ]
  },
  {
   "cell_type": "markdown",
   "metadata": {},
   "source": [
    "--------------\n",
    "<p style=\"text-align: center;\"><span style=\"color: #0000ff;\"><font size=\"+3\"><strong>Exercices</strong> </font> </span></p>\n",
    "\n",
    "------------------\n"
   ]
  },
  {
   "cell_type": "markdown",
   "metadata": {},
   "source": [
    "### 3.5.4 Écriture formatée\n",
    "En utilisant l'écriture formatée, affichez en une seule ligne les variables a, b et c dont les valeurs sont respectivement la chaîne de caractères \"salut\", le nombre entier 102 et le float 10.318. La variable c sera affichée avec 2 décimales.\n",
    "\n",
    "### 3.5.5 Écriture formatée \n",
    "- Calculez un pourcentage de GC avec l'instruction suivante :\n",
    "\n",
    "perc_GC = ((4500 + 2575)/14800)*100\n",
    "\n",
    "- affichez le contenu de la variable perc_GC à l'écran avec 0, 1, 2 puis 3 décimales sous forme arrondie en utilisant .format(). On souhaite que le programme affiche la sortie suivante :\n",
    "\n",
    "\n",
    "Le pourcentage de GC est 48     %  \n",
    "Le pourcentage de GC est 47.8   %  \n",
    "Le pourcentage de GC est 47.80  %  \n",
    "Le pourcentage de GC est 47.804 %"
   ]
  },
  {
   "cell_type": "code",
   "execution_count": null,
   "metadata": {},
   "outputs": [],
   "source": []
  }
 ],
 "metadata": {
  "kernelspec": {
   "display_name": "Python 3",
   "language": "python",
   "name": "python3"
  },
  "language_info": {
   "codemirror_mode": {
    "name": "ipython",
    "version": 3
   },
   "file_extension": ".py",
   "mimetype": "text/x-python",
   "name": "python",
   "nbconvert_exporter": "python",
   "pygments_lexer": "ipython3",
   "version": "3.7.3"
  }
 },
 "nbformat": 4,
 "nbformat_minor": 4
}
