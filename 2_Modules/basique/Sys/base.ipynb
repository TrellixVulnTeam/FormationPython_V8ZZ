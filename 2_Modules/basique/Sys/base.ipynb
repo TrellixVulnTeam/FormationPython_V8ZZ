{
 "cells": [
  {
   "cell_type": "markdown",
   "metadata": {},
   "source": [
    "\n",
    "<hr size=\"4\" color=\"blue\">\n",
    "\n",
    "<p style=\"text-align: center;\"><span style=\"color: #0000ff;\"><font size=\"+5\"><strong> Sys</strong> </font></span> </p>\n",
    "<hr style=\"height: 3px; color: #0000ff; width: 50%; border: 1px dashed #000;\">"
   ]
  },
  {
   "cell_type": "markdown",
   "metadata": {},
   "source": [
    "**Prérequis** : savoir executer des scripts"
   ]
  },
  {
   "cell_type": "markdown",
   "metadata": {},
   "source": [
    "<div style=\"border: 2px solid #1EF223; padding: 3px; background-color: #DEFFCD; -moz-border-radius-topleft: 5px; -moz-border-radius-topright: 5px; -moz-border-radius-bottomright: 5px; -moz-border-radius-bottomleft: 5px;\">\n",
    "    \n",
    "\n",
    "Le module sys contient des fonctions et des variables spécifiques à l'interpréteur Python lui-même. \n",
    "Ce **module est particulièrement intéressant pour récupérer les arguments passés à un script Python** lorsque celui-ci est appeléen ligne de commande."
   ]
  },
  {
   "cell_type": "markdown",
   "metadata": {},
   "source": [
    "Dans cet exemple, créons le court script suivant que l'on enregistrera sous le nom **test.py** :"
   ]
  },
  {
   "cell_type": "code",
   "execution_count": 1,
   "metadata": {},
   "outputs": [
    {
     "name": "stdout",
     "output_type": "stream",
     "text": [
      "['/usr/lib/python3/dist-packages/ipykernel_launcher.py', '-f', '/home/ggassier/.local/share/jupyter/runtime/kernel-e384002e-4a92-4d52-958f-3a58dd23b48c.json']\n"
     ]
    }
   ],
   "source": [
    "import sys\n",
    "print(sys.argv)"
   ]
  },
  {
   "cell_type": "markdown",
   "metadata": {},
   "source": [
    "Ensuite, dans un shell, exécutons le script test.py suivi de plusieurs arguments. Par exemple :"
   ]
  },
  {
   "cell_type": "raw",
   "metadata": {},
   "source": [
    "$ python test.py salut girafe 42"
   ]
  },
  {
   "cell_type": "markdown",
   "metadata": {},
   "source": [
    "- **Ligne 1**. Le caractère $ représente l'invite du shell, test.py est le nom du script Python, salut, girafe et 42 sont les arguments passés au script (tous séparés par un espace).\n",
    "- **Ligne 2**. Le script affiche le contenu de la variable sys.argv. Cette variable est une liste qui contient tous les arguments de la ligne de commande, y compris le nom du script lui-même qu'on retrouve comme premier élément de cette liste dans sys.argv[0]. On peut donc accéder à chacun des arguments du script avec sys.argv[1], sys.argv[2]..."
   ]
  },
  {
   "cell_type": "markdown",
   "metadata": {},
   "source": [
    "Toujours dans le module sys, la fonction sys.exit() est utile pour quitter un script Python.  \n",
    "On peut donner un argument à cette fonction (en général une chaîne de caractères) qui sera renvoyé au moment où Python quittera le script. Par exemple, si vous attendez au moins un argument en ligne de commande, vous pouvez renvoyer un message pour indiquer à l'utilisateur ce que le script attend comme argument :"
   ]
  },
  {
   "cell_type": "code",
   "execution_count": 3,
   "metadata": {},
   "outputs": [
    {
     "ename": "SystemExit",
     "evalue": "ERREUR : il faut exactement un argument.",
     "output_type": "error",
     "traceback": [
      "An exception has occurred, use %tb to see the full traceback.\n",
      "\u001b[0;31mSystemExit\u001b[0m\u001b[0;31m:\u001b[0m ERREUR : il faut exactement un argument.\n"
     ]
    },
    {
     "name": "stderr",
     "output_type": "stream",
     "text": [
      "/usr/lib/python3/dist-packages/IPython/core/interactiveshell.py:2886: UserWarning: To exit: use 'exit', 'quit', or Ctrl-D.\n",
      "  warn(\"To exit: use 'exit', 'quit', or Ctrl-D.\", stacklevel=1)\n"
     ]
    }
   ],
   "source": [
    "import sys\n",
    "\n",
    "if len(sys.argv) != 2:\n",
    "    sys.exit(\"ERREUR : il faut exactement un argument.\")\n",
    "\n",
    "print(\"Argument vaut : {}\".format(sys.argv[1]))"
   ]
  },
  {
   "cell_type": "markdown",
   "metadata": {},
   "source": [
    "Puis on l'exécute sans argument :"
   ]
  },
  {
   "cell_type": "raw",
   "metadata": {},
   "source": [
    "$ python test.py"
   ]
  },
  {
   "cell_type": "markdown",
   "metadata": {},
   "source": [
    "ERREUR : il faut exactement un argument.\n",
    "et avec un argument :"
   ]
  },
  {
   "cell_type": "raw",
   "metadata": {},
   "source": [
    "$ python test.py 42"
   ]
  },
  {
   "cell_type": "markdown",
   "metadata": {},
   "source": [
    "Argument vaut : 42  "
   ]
  },
  {
   "cell_type": "markdown",
   "metadata": {},
   "source": [
    "Notez qu'ici on vérifie que le script possède deux arguments car le nom du script lui-même compte pour un argument (le tout premier).L'intérêt de récupérer des arguments passés dans la ligne de commande à l'appel du script est de pouvoir ensuite les utiliser dans le script."
   ]
  },
  {
   "cell_type": "markdown",
   "metadata": {},
   "source": [
    "--------------\n",
    "<p style=\"text-align: center;\"><span style=\"color: #0000ff;\"><font size=\"+3\"><strong>Exercices</strong> </font> </span></p>\n",
    "\n",
    "------------------\n"
   ]
  },
  {
   "cell_type": "markdown",
   "metadata": {},
   "source": [
    "Voici à titre d'exemple le script compte_lignes.py qui va prendre comme argument le nom d'un fichier puis afficher le nombre de lignes qu'il contient."
   ]
  },
  {
   "cell_type": "code",
   "execution_count": null,
   "metadata": {},
   "outputs": [],
   "source": [
    "import sys\n",
    "\n",
    "if len(sys.argv) != 2:\n",
    "    sys.exit(\"ERREUR : il faut exactement un argument.\")\n",
    "\n",
    "nom_fichier = sys.argv[1]\n",
    "taille = 0\n",
    "with open(nom_fichier, \"r\") as f_in:\n",
    "    taille = len(f_in.readlines())\n",
    "\n",
    "print(\"{} contient {} lignes.\".format(nom_fichier, taille))"
   ]
  },
  {
   "cell_type": "markdown",
   "metadata": {},
   "source": [
    "Supposons que dans le même répertoire, nous ayons le fichier Zoo1.txt dont voici le contenu :"
   ]
  },
  {
   "cell_type": "code",
   "execution_count": null,
   "metadata": {},
   "outputs": [],
   "source": [
    "girafe\n",
    "tigre\n",
    "singe\n",
    "souris"
   ]
  },
  {
   "cell_type": "code",
   "execution_count": null,
   "metadata": {},
   "outputs": [],
   "source": [
    "et le fichier zoo2.txt qui contient :"
   ]
  },
  {
   "cell_type": "code",
   "execution_count": null,
   "metadata": {},
   "outputs": [],
   "source": [
    "poisson\n",
    "abeille\n",
    "chat\n",
    "Utilisons maintenant notre script compte_lignes.py :"
   ]
  },
  {
   "cell_type": "raw",
   "metadata": {},
   "source": [
    "$ python compte_lignes.py\n",
    "ERREUR : il faut exactement un argument.\n",
    "$ python compte_lignes.py zoo1.txt\n",
    "zoo1.txt contient 4 lignes.\n",
    "$ python compte_lignes.py zoo2.txt\n",
    "zoo2.txt contient 3 lignes.\n"
   ]
  },
  {
   "cell_type": "markdown",
   "metadata": {},
   "source": [
    "\n",
    "Notre script est donc capable de :\n",
    "\n",
    "- Vérifier si un argument lui est donné et si ce n'est pas le cas d'afficher un message d'erreur.\n",
    "- D'ouvrir le fichier dont le nom est donné en argument, \n",
    "- de compter puis d'afficher le nombre de lignes.\n",
    "Par contre, le script ne vérifie pas si le fichier existe bien :"
   ]
  },
  {
   "cell_type": "code",
   "execution_count": null,
   "metadata": {},
   "outputs": [],
   "source": [
    "$ python compte_lignes.py zoo3.txt\n",
    "Traceback (most recent call last):\n",
    " File \"compte_lignes.py\", line 8, in <module>\n",
    "   with open(nom_fichier, \"r\") as f_in:\n",
    "FileNotFoundError: [Errno 2] No such file or directory: 'zoo3.txt'\n",
    "La lecture de la partie suivante va nous permettre d'améliorer notre script\n",
    "compte_lignes.py."
   ]
  }
 ],
 "metadata": {
  "kernelspec": {
   "display_name": "Python 3",
   "language": "python",
   "name": "python3"
  },
  "language_info": {
   "codemirror_mode": {
    "name": "ipython",
    "version": 3
   },
   "file_extension": ".py",
   "mimetype": "text/x-python",
   "name": "python",
   "nbconvert_exporter": "python",
   "pygments_lexer": "ipython3",
   "version": "3.7.3"
  }
 },
 "nbformat": 4,
 "nbformat_minor": 4
}
