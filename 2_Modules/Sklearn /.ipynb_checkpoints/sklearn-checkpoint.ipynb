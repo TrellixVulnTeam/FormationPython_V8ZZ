{
 "cells": [
  {
   "cell_type": "markdown",
   "metadata": {},
   "source": [
    "<hr size=\"4\" color=\"blue\">\n",
    "\n",
    "<p style=\"text-align: center;\"><span style=\"color: #0000ff;\"><font size=\"+5\"><strong>  Scikit-learn\n",
    "     </strong> </font></span> </p>\n",
    "<hr style=\"height: 3px; color: #0000ff; width: 50%; border: 1px dashed #000;\">"
   ]
  },
  {
   "cell_type": "markdown",
   "metadata": {},
   "source": [
    "Scikit-learn est une bibliothèque développée en Python dédiée à l’apprentissage statistique (machine learning). Elle permet d'extraire des données complexes \n",
    "(bases de données, textes, images) pour prendre des décisions, pour les classifier en utilisant des techniques statistiques correspondant à l'état de l'art."
   ]
  },
  {
   "cell_type": "markdown",
   "metadata": {},
   "source": [
    "En évolution permanente et continue, scikit-learn est une bibliothèque d’apprentissage statistique facile à utiliser, efficace et accessible aux non-experts en sciences des données. Au stade de l’exploration des données, l’utilisateur entre quelques lignes dans une interface interactive et peut immédiatement visualiser les résultats de  traitements statiques misent à disposition :"
   ]
  },
  {
   "cell_type": "markdown",
   "metadata": {},
   "source": [
    "- [Classification](https://scikit-learn.org/stable/supervised_learning.html#supervised-learning)\n",
    "Identifier la catégorie à laquelle appartient un objet.  \n",
    "**Applications** : Détection de spam, reconnaissance d'images.  \n",
    "**Algorithmes** : SVM, voisins les plus proches, forêt aléatoire, et plus encore...  \n",
    "\n",
    "\n",
    "- [Régression](https://scikit-learn.org/stable/supervised_learning.html#supervised-learning)\n",
    "Prévision d'un attribut à valeur continue associé à un objet.  \n",
    "**Applications** : Réponse aux médicaments, Cours des actions.  \n",
    "**Algorithmes** : SVR, voisins les plus proches, forêt aléatoire, et plus encore...\n",
    "Régression de l'arbre de décision avec AdaBoost  \n",
    "\n",
    "\n",
    "- [Clustering](https://scikit-learn.org/stable/modules/clustering.html#clustering)\n",
    "Regroupement automatique d'objets similaires en ensembles.  \n",
    "**Applications** : Segmentation de la clientèle, - -- Groupement des résultats d'expériences  \n",
    "**Algorithmes** : k-Means, regroupement spectral, décalage de la moyenne, et plus...  \n",
    "\n",
    "\n",
    "- [Réduction de la dimensionnalité](https://scikit-learn.org/stable/modules/decomposition.html#decompositions)\n",
    "Réduire le nombre de variables aléatoires à prendre en compte.\n",
    "**Applications** : Visualisation, Efficacité accrue\n",
    "**Algorithmes** : k-Means, sélection de caractéristiques, factorisation de la matrice non négative, et plus encore...\n",
    "\n",
    "\n",
    "- Selection de modèle  \n",
    "Comparer, valider et choisir des paramètres et des modèles.  \n",
    "**Applications** : Amélioration de la précision grâce au réglage des paramètres  \n",
    "**Algorithmes** : recherche de grille, validation croisée, métriques, et plus encore...   \n",
    "\n",
    "\n",
    "- Prétraitement Extraction et normalisation des caractéristiques.  \n",
    "**Applications** : Transformation de données d'entrée telles que du texte pour utilisation avec des algorithmes d'apprentissage automatique.  \n",
    "**Algorithmes** : prétraitement, extraction de caractéristiques, et plus encore...\n"
   ]
  },
  {
   "cell_type": "markdown",
   "metadata": {},
   "source": [
    "Il faut comprendre les applications et les données qu’elles génèrent, afin de permettre une programmation efficace des systèmes de traitement de ces données."
   ]
  },
  {
   "cell_type": "markdown",
   "metadata": {},
   "source": [
    "## Historique \n",
    "Lancé initialement en 2007 par des membres de la communauté scientifique Python , le projet scikit-learn a connu son véritable essor dans le cadre de travaux de recherche sur l’imagerie fonctionnelle du cerveau, menés au sein de l’équipe-projet Parietal d’Inria.L’équipe avait besoin d’un outil de modélisation prédictive qui s’intégrait à l’écosystème Python. Elle a alors organisé un atelier de développement participatif ouvert, avec pour objectif d’implémenter en open source des méthodes d’analyse statistique de données. Deux ans plus tard, une version stable a pu être mise en ligne.\n",
    "\n",
    "Scikit-learn bénéficie maintenant du soutien d’une équipe importante de développeurs et développeuses basés à Paris, mais aussi à New-York, Sydney et un peu partout dans le monde. Il est dans le top 3 des logiciels de machine learning  les plus populaires sur GitHub ."
   ]
  },
  {
   "cell_type": "markdown",
   "metadata": {},
   "source": [
    "## Des objectifs ambitieux\n",
    "Des objectifs précis ont été fixés dès le départ du projet. D’une part, afin que la bibliothèque puisse être installée facilement sur différentes plates-formes, l’équipe de développement a veillé à ce qu’elle soit bien « packagée » et dans le même temps, elle a rédigé une documentation extensive sur l’utilisation de l’outil, avec des exemples concrets. D'autre part, elle a tenu à ce que toutes les méthodes implémentées soient couvertes par une série de tests automatiques qui aident à garantir sur le long terme la qualité de la base de code."
   ]
  },
  {
   "cell_type": "markdown",
   "metadata": {},
   "source": [
    " Une communauté de développeurs (internes et externes à Inria) a été rapidement constituée, ce qui a permis d’accélérer le développement de l’outil et de promouvoir des applications très diverses. Un site Web (scikit-learn.org), présente de façon détaillée le projet et ses applications."
   ]
  },
  {
   "cell_type": "markdown",
   "metadata": {},
   "source": [
    "## Des domaines d’application diversifiés\n",
    "\n",
    "Un des points forts de Scikit-learn est sa généricité, qui lui assure une grande polyvalence et des domaines d’application divers et variés, tels que :\n",
    "\n",
    "- Lutte contre la fraude et le spam ;\n",
    "- Ciblage marketing ;\n",
    "- Prévision des comportements des utilisateurs ;\n",
    "- Optimisation des processus industriels et logistiques.\n",
    "\n",
    "Scikit-learn est par exemple utilisé par un grand nombre d’entreprises du Web pour prédire des comportements d’achat d’utilisateurs, pour proposer des recommandations de produits ou pour détecter les tendances ainsi que les comportements abusifs (fraudes, spams , etc.)."
   ]
  },
  {
   "cell_type": "markdown",
   "metadata": {},
   "source": [
    "## Le consortium Scikit-learn\n",
    "\n",
    "Pour accompagner et stimuler l’écosystème Scikit-learn, un consortium regroupant des mécènes a été créé avec le soutien de la Fondation Inria. Il doit ainsi permettre aux ingénieurs de développement d'assurer la qualité du projet et l’intégration de nouvelles contributions, ainsi que l’ajout de nouvelles fonctionnalités ambitieuses, le tout en lien et au bénéfice de sa vaste communauté d'utilisateurs et de développeurs.\n",
    "\n",
    "Les membres du consortium (BCG Gamma, Microsoft, Axa, BNP Paribas Cardif, Intel, Nvidia  et Dataiku ) et les partenaires de l’initiative sont associés en tant que soutiens et mécènes à la définition des priorités de développement et à la visibilité du projet."
   ]
  },
  {
   "cell_type": "code",
   "execution_count": null,
   "metadata": {},
   "outputs": [],
   "source": []
  }
 ],
 "metadata": {
  "kernelspec": {
   "display_name": "Python 3",
   "language": "python",
   "name": "python3"
  },
  "language_info": {
   "codemirror_mode": {
    "name": "ipython",
    "version": 3
   },
   "file_extension": ".py",
   "mimetype": "text/x-python",
   "name": "python",
   "nbconvert_exporter": "python",
   "pygments_lexer": "ipython3",
   "version": "3.7.3"
  }
 },
 "nbformat": 4,
 "nbformat_minor": 4
}
