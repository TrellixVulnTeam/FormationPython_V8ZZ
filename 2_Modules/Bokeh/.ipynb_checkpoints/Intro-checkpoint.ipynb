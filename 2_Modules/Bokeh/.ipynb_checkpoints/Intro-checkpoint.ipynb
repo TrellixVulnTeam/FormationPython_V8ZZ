{
 "cells": [
  {
   "cell_type": "code",
   "execution_count": null,
   "metadata": {},
   "outputs": [],
   "source": [
    "<hr size=\"4\" color=\"blue\">\n",
    "<p style=\"text-align: center;\"><span style=\"color: #0000ff;\"><font size=\"+5\"><strong> Numpy </strong> </font></span> </p>\n",
    "<hr size=\"4\" color=\"blue\">"
   ]
  },
  {
   "cell_type": "markdown",
   "metadata": {},
   "source": [
    "\n",
    "https://docs.bokeh.org/en/latest/index.html\n",
    "Bokeh est une bibliothèque de <hr size=\"4\" color=\"blue\">\n",
    "<p style=\"text-align: center;\"><span style=\"color: #0000ff;\"><font size=\"+5\"><strong> Numpy </strong> </font></span> </p>\n",
    "<hr size=\"4\" color=\"blue\"> pour les navigateurs web modernes. Elle offre une construction élégante et concise de graphiques polyvalents, et permet une interactivité performante sur des ensembles de données volumineux ou en continu. Bokeh peut aider tous ceux qui souhaitent réaliser rapidement et facilement des graphiques, des tableaux de bord et des applications de données interactifs.\n",
    "\n",
    "Pour commencer à utiliser Bokeh pour faire vos visualisations, commencez par le Guide de l'utilisateur.\n",
    "\n",
    "Pour des exemples d'utilisation de Bokeh avec vos propres données, consultez la Galerie.\n",
    "\n",
    "Pour des informations détaillées sur des composants spécifiques de Bokeh, consultez la Référence.\n",
    "\n",
    "Si vous souhaitez contribuer à Bokeh ou étendre la bibliothèque, consultez le Guide du développeur.\n",
    "\n",
    "Si vous souhaitez faire une recherche sur un sujet particulier, utilisez la boîte de recherche ci-dessous :"
   ]
  },
  {
   "cell_type": "markdown",
   "metadata": {},
   "source": [
    "http://holoviews.org/\n",
    "\n",
    "HoloViews est une bibliothèque Python open-source conçue pour rendre l'analyse et la visualisation des données simples et transparentes. Avec HoloViews, vous pouvez généralement exprimer ce que vous voulez faire en très peu de lignes de code, ce qui vous permet de vous concentrer sur ce que vous essayez d'explorer et de transmettre, et non sur le processus de traçage.\n",
    "\n",
    "Pour des exemples, consultez les vignettes ci-dessous et les autres éléments de la galerie de démos et d'applications et de la galerie de référence qui montre tous les composants de HoloViews. N'oubliez pas de regarder le code, et pas seulement les images, pour apprécier la facilité avec laquelle vous pouvez créer vous-même de tels tracés !\n",
    "\n",
    "Le guide de démarrage explique les concepts de base et la façon de commencer à utiliser HoloViews, et est le moyen recommandé pour comprendre comment tout fonctionne.\n",
    "\n",
    "Le guide d'utilisation approfondit les concepts clés de HoloViews, lorsque vous êtes prêt à poursuivre vos études.\n",
    "\n",
    "L'API est le guide définitif pour chaque objet HoloViews, mais les mêmes informations sont disponibles de manière plus pratique via la commande hv.help() et la complétion des onglets dans le carnet Jupyter.\n",
    "\n",
    "Si vous avez des problèmes ou souhaitez contribuer au code, vous pouvez visiter notre site GitHub ou discuter avec les développeurs sur gitter.\n",
    "\n"
   ]
  },
  {
   "cell_type": "markdown",
   "metadata": {},
   "source": [
    "https://geoviews.org/\n",
    "\n",
    "GeoViews est une bibliothèque Python qui permet d'explorer et de visualiser facilement des ensembles de données géographiques, météorologiques et océanographiques, comme celles utilisées dans la recherche sur le temps, le climat et la télédétection.\n",
    "\n",
    "GeoViews s'appuie sur la bibliothèque HoloViews pour construire des visualisations flexibles de données multidimensionnelles. GeoViews ajoute une famille de types de tracés géographiques basés sur la bibliothèque Cartopy, tracés à l'aide des paquets Matplotlib ou Bokeh. Avec GeoViews, vous pouvez désormais travailler facilement et naturellement avec de grands ensembles de données géographiques multidimensionnelles, en visualisant instantanément n'importe quel sous-ensemble ou combinaison de ceux-ci, tout en étant toujours en mesure d'accéder aux données brutes sous-jacentes à n'importe quel tracé. Voici un exemple simple :\n",
    "\n",
    "Traduit avec www.DeepL.com/Translator (version gratuite)"
   ]
  },
  {
   "cell_type": "code",
   "execution_count": null,
   "metadata": {},
   "outputs": [],
   "source": []
  }
 ],
 "metadata": {
  "kernelspec": {
   "display_name": "Python 3",
   "language": "python",
   "name": "python3"
  },
  "language_info": {
   "codemirror_mode": {
    "name": "ipython",
    "version": 3
   },
   "file_extension": ".py",
   "mimetype": "text/x-python",
   "name": "python",
   "nbconvert_exporter": "python",
   "pygments_lexer": "ipython3",
   "version": "3.6.8"
  }
 },
 "nbformat": 4,
 "nbformat_minor": 4
}
